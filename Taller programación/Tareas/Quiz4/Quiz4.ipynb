{
  "nbformat": 4,
  "nbformat_minor": 0,
  "metadata": {
    "colab": {
      "name": "Quiz4",
      "provenance": []
    },
    "kernelspec": {
      "name": "python3",
      "display_name": "Python 3"
    },
    "language_info": {
      "name": "python"
    }
  },
  "cells": [
    {
      "cell_type": "code",
      "execution_count": 3,
      "metadata": {
        "colab": {
          "base_uri": "https://localhost:8080/"
        },
        "id": "kgk9tIow2y5D",
        "outputId": "fd58ad73-16b3-436c-8e9b-617c5106d029"
      },
      "outputs": [
        {
          "output_type": "stream",
          "name": "stdout",
          "text": [
            "[[22, 23, 7], [58, 55, 19]]\n"
          ]
        }
      ],
      "source": [
        "def conseguir_elemento(elemento,matriz2,contador,columna,posicion):\n",
        "   \n",
        "    if contador ==len( matriz2):\n",
        "        return 0\n",
        "    else:\n",
        "\n",
        "        return (int(elemento[posicion]*matriz2[contador][columna]))+conseguir_elemento(elemento,matriz2,contador+1,columna,posicion+1)\n",
        "    \n",
        "def multiplicar_matrices_aux(matriz1,matriz2,fila,nueva_matriz,columna):\n",
        "    if fila== len(matriz1[0]):\n",
        "        return nueva_matriz\n",
        "    else:\n",
        "        if columna== len(matriz2[0]):\n",
        "            return [nueva_matriz]+multiplicar_matrices_aux(matriz1, matriz2, fila+1, [], fila)\n",
        "        else:\n",
        "            conse=conseguir_elemento(matriz1[fila],matriz2,0,columna,0)\n",
        "     \n",
        "            return multiplicar_matrices_aux(matriz1, matriz2, fila, nueva_matriz+[conse],columna+1)\n",
        "        \n",
        "\n",
        "def multiplicar_matrices(matriz1,matriz2):\n",
        "    if type(matriz1) != list or type(matriz2) != list:\n",
        "        raise ValueError(\"Tipo de datos incorrecto\")\n",
        "    \n",
        "    else:\n",
        "        a= multiplicar_matrices_aux(matriz1, matriz2,0,[],0)\n",
        "        return a\n",
        "\n",
        "print(multiplicar_matrices( [ [ 2.0 , 3 ] , [ 6 , 7 ] ] ,[ [ 5.0 , 1 , 2 ] , [ 4 , 7 , 1 ] ] ))"
      ]
    }
  ]
}