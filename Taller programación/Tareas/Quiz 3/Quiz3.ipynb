{
  "nbformat": 4,
  "nbformat_minor": 0,
  "metadata": {
    "colab": {
      "name": "Quiz3.ipynb",
      "provenance": [],
      "collapsed_sections": []
    },
    "kernelspec": {
      "name": "python3",
      "display_name": "Python 3"
    },
    "language_info": {
      "name": "python"
    }
  },
  "cells": [
    {
      "cell_type": "code",
      "execution_count": 12,
      "metadata": {
        "colab": {
          "base_uri": "https://localhost:8080/"
        },
        "id": "RERU_nQcFRWf",
        "outputId": "a4f92c86-3022-4272-da84-292c3b161cb4"
      },
      "outputs": [
        {
          "output_type": "stream",
          "name": "stdout",
          "text": [
            "Resultado:\n",
            " False\n"
          ]
        }
      ],
      "source": [
        "\n",
        "numero=78\n",
        "base= 6\n",
        "\n",
        "def comprobar_base(entero): \n",
        "  \n",
        "  comprobar_numero = entero % 10\n",
        "  if(comprobar_numero < base) and (entero > 0):\n",
        "    return comprobar_base(entero//10);\n",
        "  if(comprobar_numero >= base): return False\n",
        "  else: return True\n",
        "  \n",
        "if(isinstance(numero, int) and isinstance(base, int) and base > 1):\n",
        "  numero_positivo= abs(numero)\n",
        "  comprobar_base(numero_positivo)\n",
        "  print(\"Resultado:\\n\",comprobar_base(numero_positivo))\n",
        "\n",
        "\n",
        "else: print(\"Error: Tipo de datos incorrectos\")\n"
      ]
    }
  ]
}