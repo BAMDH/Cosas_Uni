{
  "nbformat": 4,
  "nbformat_minor": 0,
  "metadata": {
    "colab": {
      "name": "proyecto.ipynb",
      "provenance": [],
      "collapsed_sections": []
    },
    "kernelspec": {
      "name": "python3",
      "display_name": "Python 3"
    },
    "language_info": {
      "name": "python"
    }
  },
  "cells": [
    {
      "cell_type": "code",
      "execution_count": 51,
      "metadata": {
        "colab": {
          "base_uri": "https://localhost:8080/",
          "height": 70
        },
        "id": "KgFg_RHjcSF1",
        "outputId": "17155ae9-347c-4ae6-c604-0446b33f725e"
      },
      "outputs": [
        {
          "name": "stdout",
          "output_type": "stream",
          "text": [
            "inserte usuario\n",
            "lol1234.\n"
          ]
        },
        {
          "output_type": "execute_result",
          "data": {
            "text/plain": [
              "'usuario invalido'"
            ],
            "application/vnd.google.colaboratory.intrinsic+json": {
              "type": "string"
            }
          },
          "metadata": {},
          "execution_count": 51
        }
      ],
      "source": [
        "letra =  0\n",
        "numero = 0\n",
        "caracter = 0 \n",
        "def nombre(usuario):\n",
        "  global letra\n",
        "  global numero \n",
        "  global caracter \n",
        "  lista_nombre = list(usuario)\n",
        "  if lista_nombre != [] :\n",
        "    unIcode = ord(lista_nombre[0]) \n",
        "    if  65 <= unIcode <= 90 or 97 <= unIcode <= 122:\n",
        "      letra += 1\n",
        "      del(lista_nombre[0])\n",
        "      return nombre(lista_nombre)\n",
        "    if 48 <= unIcode <= 57 and letra != 0 and numero < 4 :\n",
        "      del(lista_nombre[0])\n",
        "      numero += 1\n",
        "      \n",
        "      return nombre(lista_nombre) \n",
        "    if unIcode == 36 or unIcode == 38 or unIcode == 35 or unIcode ==  63 or unIcode == 33 and numero == 4:\n",
        "      caracter +=1\n",
        "      del(lista_nombre[0])\n",
        "      return nombre(lista_nombre)\n",
        "    else :\n",
        "      return ('usuario invalido')  \n",
        "  elif numero == 4 and   caracter <= 1:\n",
        "    return 'usuario valido' \n",
        "  else :\n",
        "    return 'usuario invalido'\n",
        "\n",
        "print('inserte usuario')\n",
        "Entrada = input()\n",
        "nombre(Entrada)\n",
        "\n",
        "\n",
        "\n"
      ]
    }
  ]
}