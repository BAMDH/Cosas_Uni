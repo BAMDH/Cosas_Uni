{
  "nbformat": 4,
  "nbformat_minor": 0,
  "metadata": {
    "colab": {
      "provenance": []
    },
    "kernelspec": {
      "name": "python3",
      "display_name": "Python 3"
    },
    "language_info": {
      "name": "python"
    }
  },
  "cells": [
    {
      "cell_type": "code",
      "execution_count": 1,
      "metadata": {
        "colab": {
          "base_uri": "https://localhost:8080/"
        },
        "id": "RSeOx3cCljBG",
        "outputId": "d2b1c2d8-35c0-4111-c6cc-5c26e618eccc"
      },
      "outputs": [
        {
          "output_type": "stream",
          "name": "stdout",
          "text": [
            "Maná insuficiente\n",
            "Mob (A) ha regenerado 505 puntos de vida\n",
            "hp: 1010 / 1010\n",
            "Mp restante 50 / 100\n"
          ]
        }
      ],
      "source": [
        "import random as rd\n",
        "class Entidad:\n",
        "  def __init__(self,nombre,hp,atk,defence,crit_rate,mp):\n",
        "    self.nombre=nombre\n",
        "    self.hp=hp\n",
        "    self.atk=atk\n",
        "    self.defence=defence\n",
        "    self.crit_rate=crit_rate\n",
        "    self.max_hp=hp\n",
        "    self.mp=mp\n",
        "    self.max_mp=mp\n",
        "  def ver_estadistica(self):\n",
        "      print(self.nombre,\"\\nHp:\",self.hp,\"/\",self.max_hp,\"\\nAtk:\",self.atk,\"\\nDef:\",self.defence,\"\\nProbabilidad de crítico:\",self.crit_rate,\"%\")\n",
        "  def atacar(self, entidad):\n",
        "      probabilidad= rd.randint(0,100)\n",
        "      dano=self.atk//(entidad.defence//3)\n",
        "      if probabilidad<=self.crit_rate:\n",
        "        dano=(self.atk*3)//(entidad.defence//3)\n",
        "        print(\"¡Ataque crítico!\")\n",
        "      print(self.nombre,\"ha atacado a\",entidad.nombre,\"inflingiendo\",dano,\"puntos de daño\")\n",
        "      entidad.r_damage(dano)\n",
        "\n",
        "  def r_damage(self,damage):\n",
        "    self.hp= self.hp-damage\n",
        "    print(\"A\",self.nombre,\"le quedan\",self.hp,\"/\",self.max_hp,\"puntos de vida\\n\")\n",
        "  def habilidades(self,entidad):\n",
        "    lista=[Habilidades.heal(entidad)]\n",
        "\n",
        "class Habilidades:\n",
        "    def heal(entidad):\n",
        "        if entidad.mp<50:\n",
        "          print(\"Maná insuficiente\")\n",
        "        else:\n",
        "          entidad.hp=entidad.hp+(entidad.max_hp//2)\n",
        "          if entidad.hp>entidad.max_hp:\n",
        "             entidad.hp=entidad.max_hp\n",
        "          entidad.mp= entidad.mp-50\n",
        "          print(entidad.nombre,\"ha regenerado\",(entidad.max_hp//2), \"puntos de vida\")\n",
        "          print(\"hp:\",entidad.hp,\"/\",entidad.max_hp)\n",
        "          print(\"Mp restante\",entidad.mp,\"/\",entidad.max_mp)\n",
        "Brandon=Entidad(\"Brandon\",hp=100,atk=35,defence=20,crit_rate=25,mp=10)\n",
        "\n",
        "mob1=Entidad(\"Mob (A)\",hp=1010,atk=20,defence=8,crit_rate=100,mp=100)\n",
        "\n",
        "def batalla(jugador,enemigo,turno):\n",
        "  if jugador.hp <=0:\n",
        "    print(\"Derrota\")\n",
        "  if enemigo.hp <=0:\n",
        "    print(\"Victoria\")\n",
        "  else:\n",
        "    if turno == 0:\n",
        "      print(\"Tu turno\")\n",
        "      accion=input(\"Elija 1 para atacar al enemigo\\n2 para esperar\\n3 para curarse\")\n",
        "      if accion ==\"1\":\n",
        "        jugador.atacar(enemigo)\n",
        "        return batalla(jugador,enemigo,1)\n",
        "      if accion==\"2\":\n",
        "        print(jugador.nombre, \"ha pasado de turno\")\n",
        "        return batalla(jugador,enemigo,1)\n",
        "      if accion==\"3\":\n",
        "        jugador.heal()\n",
        "        return batalla(jugador,enemigo,1)\n",
        "      else:\n",
        "\n",
        "        return batalla(jugador,enemigo,0)\n",
        "    if turno == 1:\n",
        "      print(\"Turno enemigo\")\n",
        "      eleccion=rd.randint(0,1)\n",
        "      if eleccion==0:\n",
        "        enemigo.atacar(jugador)\n",
        "      if eleccion==1:\n",
        "        enemigo.heal()\n",
        "      return batalla(jugador,enemigo,0)\n",
        "\n",
        "#batalla(Brandon,mob1,0)\n",
        "Brandon.habilidades(Brandon)\n",
        "mob1.habilidades(mob1)"
      ]
    },
    {
      "cell_type": "code",
      "source": [],
      "metadata": {
        "id": "YMB74342CyGJ"
      },
      "execution_count": null,
      "outputs": []
    },
    {
      "cell_type": "code",
      "source": [],
      "metadata": {
        "id": "G-WE_MB8A0IZ"
      },
      "execution_count": null,
      "outputs": []
    }
  ]
}