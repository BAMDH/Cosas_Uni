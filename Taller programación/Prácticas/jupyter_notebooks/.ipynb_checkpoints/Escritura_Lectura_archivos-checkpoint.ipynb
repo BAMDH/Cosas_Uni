{
 "cells": [
  {
   "cell_type": "markdown",
   "metadata": {},
   "source": [
    "# Escribir un archivo\n",
    "Para escribir un archivo de texto (con extension .txt), usamos la libreria nativa de python para la manipulacion de archivos.\n",
    "Existen tres modos en general para abrir un archivo:\n",
    "1. Modo de sólo lectura (r). En este caso no es posible realizar modificaciones sobre el archivo, solamente leer su contenido.\n",
    "2. Modo de sólo escritura (w). En este caso el archivo es truncado (vaciado) si existe, y se lo crea si no existe. \n",
    "3. Modo sólo escritura posicionándose al final del archivo (a). En este caso se crea el archivo, si no existe, pero en caso de que exista se posiciona al final, manteniendo el contenido original."
   ]
  },
  {
   "cell_type": "code",
   "execution_count": 1,
   "metadata": {},
   "outputs": [],
   "source": [
    "lineas = ['Leeme \\n', 'Escribiendo archivos en python de texto \\n']\n",
    "archivo = open(\"archivo_texto.txt\", \"w\")\n",
    "archivo.write(lineas[0])\n",
    "archivo.write(lineas[1])\n",
    "#siempre se debe cerrar el archivo\n",
    "archivo.close()\n"
   ]
  },
  {
   "cell_type": "markdown",
   "metadata": {},
   "source": [
    "# Lectura de un archivo"
   ]
  },
  {
   "cell_type": "code",
   "execution_count": 2,
   "metadata": {},
   "outputs": [
    {
     "name": "stdout",
     "output_type": "stream",
     "text": [
      "['Leeme \\n', 'Escribiendo archivos en python de texto \\n']\n"
     ]
    }
   ],
   "source": [
    "archivo  = open(\"archivo_texto.txt\", 'r')\n",
    "lineas = archivo.readlines()\n",
    "print(lineas)"
   ]
  },
  {
   "cell_type": "markdown",
   "metadata": {},
   "source": [
    "## Lectura y escritura de un diccionario\n"
   ]
  },
  {
   "cell_type": "code",
   "execution_count": 9,
   "metadata": {},
   "outputs": [
    {
     "name": "stdout",
     "output_type": "stream",
     "text": [
      "{hola: hallo, mas: mehr, nada: keine}\n"
     ]
    }
   ],
   "source": [
    "diccionario = {\"hola\":\"hallo\", \"mas\": \"mehr\", \"nada\":\"keine\"}\n",
    "#abre archivo\n",
    "archivo = open(\"archivo_diccionario.txt\", \"w\")\n",
    "#conversion de diccionario a hilera\n",
    "diccionario_hilera = str(diccionario)\n",
    "#escribe linea de archivo\n",
    "archivo.write(diccionario_hilera)\n",
    "archivo.close()\n",
    "#lee del archivo la linea con el diccionario\n",
    "archivo_leer = open(\"archivo_diccionario.txt\", \"r\")\n",
    "#lee todas las lineas del archivo\n",
    "lineas_archivo = archivo_leer.readlines()\n",
    "linea_1 = lineas_archivo[0]\n",
    "linea_1 = linea_1.replace(\"'\", \"\")\n",
    "print(linea_1)\n",
    "#divide la linea por comas\n",
    "lista_hileras = linea_1.split(\",\")\n",
    "\n",
    "\n"
   ]
  },
  {
   "cell_type": "markdown",
   "metadata": {},
   "source": [
    "## Recorrido de hilera"
   ]
  },
  {
   "cell_type": "code",
   "execution_count": 9,
   "metadata": {},
   "outputs": [
    {
     "name": "stdout",
     "output_type": "stream",
     "text": [
      "97\n",
      "Resultado de la verificacion  True\n"
     ]
    }
   ],
   "source": [
    "hilera = \"aaaa\"\n",
    "caracter_1 = ord(hilera[0])\n",
    "print(caracter_1)\n",
    "\n",
    "def verificar_unicode(hilera, posicion_actual):\n",
    "    if(posicion_actual != len(hilera)):\n",
    "        caracter_unicode = ord(hilera[posicion_actual])\n",
    "        #validan si es  correcto o no\n",
    "        if(caracter_unicode == 97):\n",
    "            return verificar_unicode(hilera, posicion_actual + 1)\n",
    "        else:\n",
    "            return False\n",
    "    else:\n",
    "        return True\n",
    "\n",
    "resultado = verificar_unicode(hilera, posicion_actual = 0)\n",
    "print(\"Resultado de la verificacion \", resultado)\n",
    "        "
   ]
  },
  {
   "cell_type": "code",
   "execution_count": null,
   "metadata": {},
   "outputs": [],
   "source": []
  }
 ],
 "metadata": {
  "kernelspec": {
   "display_name": "Python 3",
   "language": "python",
   "name": "python3"
  },
  "language_info": {
   "codemirror_mode": {
    "name": "ipython",
    "version": 3
   },
   "file_extension": ".py",
   "mimetype": "text/x-python",
   "name": "python",
   "nbconvert_exporter": "python",
   "pygments_lexer": "ipython3",
   "version": "3.7.6"
  }
 },
 "nbformat": 4,
 "nbformat_minor": 4
}
