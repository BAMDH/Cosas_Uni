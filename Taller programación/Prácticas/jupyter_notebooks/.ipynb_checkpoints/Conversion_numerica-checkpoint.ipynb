{
 "cells": [
  {
   "cell_type": "markdown",
   "id": "7ee10b1b",
   "metadata": {},
   "source": [
    "# Sistemas numericos "
   ]
  },
  {
   "cell_type": "markdown",
   "id": "c6f2d0f7",
   "metadata": {},
   "source": [
    "## Conversion de numeros enteros binarios a decimal\n",
    "Operadores basicos para la manipulacion de los digitos en un numero\n",
    "1. Residuo del numero con 10, recupera el digito menos significativo\n",
    "2. Division entera con 10, elimina o descarta el digito menos significativo"
   ]
  },
  {
   "cell_type": "code",
   "execution_count": 13,
   "id": "f12ba8ed",
   "metadata": {},
   "outputs": [
    {
     "name": "stdout",
     "output_type": "stream",
     "text": [
      "entero_binario  1010\n",
      "Digito menos significativo de 1247  7\n",
      "Nuevo numero sin el digito menos significativo:  257\n"
     ]
    }
   ],
   "source": [
    "\n",
    "#division entera, y residuo\n",
    "#el residuo de cualquier numero entero con 10, extrae el digito menos\n",
    "#significativo\n",
    "print(\"Digito menos significativo de 1247 \", 1247 % 10)\n",
    "#division entera\n",
    "print(\"Nuevo numero sin el digito menos significativo: \", 2572 // 10)\n",
    "#la division entera por 10 descarta el digito menos significativo"
   ]
  },
  {
   "cell_type": "code",
   "execution_count": 21,
   "id": "138c43f3",
   "metadata": {},
   "outputs": [
    {
     "name": "stdout",
     "output_type": "stream",
     "text": [
      "entero_binario  1010\n",
      "digito_menos_significativo  0\n",
      "nuevo_entero_binario  101\n",
      "digito_menos_significativo  1\n",
      "nuevo_entero_binario  10\n",
      "digito_menos_significativo  0\n",
      "digito menos significativo  1\n",
      "Resultador de la conversion  10\n"
     ]
    }
   ],
   "source": [
    "#conversion del ejemplo\n",
    "entero_binario = 1010\n",
    "print(\"entero_binario \", entero_binario)\n",
    "base = 2\n",
    "#guarda el resultado de la conversion a base 10\n",
    "numero_base_10 = 0\n",
    "#extrael=mos el numero menos significativo\n",
    "digito_menos_significativo = entero_binario % 10\n",
    "print(\"digito_menos_significativo \", digito_menos_significativo)\n",
    "#acumulamos el resultado\n",
    "numero_base_10 += digito_menos_significativo * base ** 0\n",
    "#elimina el primer digito menos significativo\n",
    "nuevo_entero_binario = entero_binario // 10\n",
    "print(\"nuevo_entero_binario \", nuevo_entero_binario)\n",
    "#extrae el segundo digito menos significativo de entero_binario\n",
    "digito_menos_significativo = nuevo_entero_binario % 10\n",
    "print(\"digito_menos_significativo \", digito_menos_significativo)\n",
    "#acumula el resultado\n",
    "numero_base_10 += digito_menos_significativo * base ** 1\n",
    "#se repite lo anterior..\n",
    "#Descarta a partir segundo digito mas significativo de entero_binario\n",
    "nuevo_entero_binario //= 10\n",
    "print(\"nuevo_entero_binario \", nuevo_entero_binario)\n",
    "#extrae el tercer digito mas significativo de entero_binario\n",
    "digito_menos_significativo = nuevo_entero_binario % 10\n",
    "print(\"digito_menos_significativo \", digito_menos_significativo)\n",
    "#acumula el resultado\n",
    "numero_base_10 += digito_menos_significativo * base ** 2\n",
    "#se repite lo anterior...\n",
    "#Descarta el tercer digito\n",
    "nuevo_entero_binario //= 10\n",
    "print(\"digito menos significativo \", nuevo_entero_binario)\n",
    "#acumula el resultado\n",
    "numero_base_10 += nuevo_entero_binario * base ** 3\n",
    "\n",
    "print(\"Resultador de la conversion \", numero_base_10)\n",
    "\n",
    "\n",
    "\n"
   ]
  },
  {
   "cell_type": "code",
   "execution_count": 24,
   "id": "f667d205",
   "metadata": {},
   "outputs": [
    {
     "name": "stdout",
     "output_type": "stream",
     "text": [
      "-1\n"
     ]
    }
   ],
   "source": [
    "a = True\n",
    "b = -a\n",
    "print(b)"
   ]
  },
  {
   "cell_type": "code",
   "execution_count": null,
   "id": "c3bc1a3d",
   "metadata": {},
   "outputs": [],
   "source": []
  }
 ],
 "metadata": {
  "kernelspec": {
   "display_name": "Python 3 (ipykernel)",
   "language": "python",
   "name": "python3"
  },
  "language_info": {
   "codemirror_mode": {
    "name": "ipython",
    "version": 3
   },
   "file_extension": ".py",
   "mimetype": "text/x-python",
   "name": "python",
   "nbconvert_exporter": "python",
   "pygments_lexer": "ipython3",
   "version": "3.9.7"
  }
 },
 "nbformat": 4,
 "nbformat_minor": 5
}
