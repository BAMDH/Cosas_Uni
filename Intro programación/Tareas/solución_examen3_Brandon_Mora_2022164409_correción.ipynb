{
  "nbformat": 4,
  "nbformat_minor": 0,
  "metadata": {
    "colab": {
      "name": "solución_examen3_Brandon_Mora_2022164409_correción.ipynb",
      "provenance": [],
      "collapsed_sections": []
    },
    "kernelspec": {
      "name": "python3",
      "display_name": "Python 3"
    },
    "language_info": {
      "name": "python"
    }
  },
  "cells": [
    {
      "cell_type": "markdown",
      "source": [
        "#Ejercicio1\n",
        "#Analisis\n",
        "* La entrada son los datos del paciente y el hospital\n",
        "* La salida son los datos de los pacientes añadidos al hospital\n",
        "*Subproblemas:\n",
        "1. Guardar los datos del paciente\n",
        "2. Añadir los datos del paciente al hospital\n",
        "\n",
        "* Es una relación de composición porque los pacientes forman al hospital\n"
      ],
      "metadata": {
        "id": "IGI-FI26mBAV"
      }
    },
    {
      "cell_type": "markdown",
      "source": [
        "#Correciones\n",
        "Aún no le había añadido limitaciones, por lo que respecta a los datos del paciente, el nombre será una hilera y el resto deben ser enteros"
      ],
      "metadata": {
        "id": "bdRQ-stXT5bv"
      }
    },
    {
      "cell_type": "code",
      "source": [
        "class Paciente():\n",
        "    #Genera los datos del paciente\n",
        "    def __init__(self,nombre,cedula, edadCronologica):\n",
        "        \n",
        "        ##Se confirman datos\n",
        "        if (type(nombre)!=str) or (type(cedula)!=int) or(type(edadCronologica)!=int):\n",
        "            raise ValueError(\"Tipo de datos incorrectos\")\n",
        "\n",
        "\n",
        "        self.__nombre=nombre\n",
        "        self.__cedula=cedula\n",
        "        self.__edadCronologica=edadCronologica\n",
        "  \n",
        "    #Devuelve los datos del paciente en forma de lista\n",
        "    def obtener_datos_pacientes(self):\n",
        "      \n",
        "        return [self.__nombre,self.__cedula,self.__edadCronologica]\n",
        "      \n",
        "class Hospital():\n",
        "    #Crea el hospital\n",
        "    def __init__(self,nombre):\n",
        "        \n",
        "        self.__nombre=nombre\n",
        "        self.__lista_pacientes=[]\n",
        "    #agrega al paciente\n",
        "    def agregar_paciente(self, paciente):\n",
        "        self.__lista_pacientes+=[paciente.obtener_datos_pacientes()]\n",
        "     \n",
        "    #Muestra los datos del paciente    \n",
        "    def mostrar_pacientes(self):\n",
        "        paciente= 0\n",
        "        while(len(self.__lista_pacientes)!=paciente):\n",
        "            print(self.__lista_pacientes[paciente][0],\"edad cronologica:\",self.__lista_pacientes[paciente][2])\n",
        "            paciente= paciente+1\n",
        "\n",
        "hospital = Hospital(\"Max Peralta\")\n",
        "hospital.agregar_paciente(Paciente(\"saul\", 3236211,edadCronologica = 21))\n",
        "hospital.agregar_paciente(Paciente(\"paul\", 3236115,edadCronologica = 2))\n",
        "hospital.agregar_paciente(Paciente(\"raul\", 3236113,edadCronologica = 5))\n",
        "hospital.agregar_paciente(Paciente(\"carlo\", 3236114,edadCronologica =51))\n",
        "hospital.agregar_paciente(Paciente(\"pablo\", 3236117,edadCronologica = 3))\n",
        "hospital.mostrar_pacientes()"
      ],
      "metadata": {
        "id": "-dBAfhbJmDDO",
        "colab": {
          "base_uri": "https://localhost:8080/"
        },
        "outputId": "96e30ab5-dfbb-4399-986a-6f9fed127b8d"
      },
      "execution_count": 7,
      "outputs": [
        {
          "output_type": "stream",
          "name": "stdout",
          "text": [
            "saul edad cronologica: 21\n",
            "paul edad cronologica: 2\n",
            "raul edad cronologica: 5\n",
            "carlo edad cronologica: 51\n",
            "pablo edad cronologica: 3\n"
          ]
        }
      ]
    },
    {
      "cell_type": "markdown",
      "source": [
        "##Ejercicio 2\n",
        "#Analisis\n",
        "* La entrada es la lista a ordenar\n",
        "* La salida es la lista ordenada\n",
        "*Subproblemas:\n",
        "1. Recorrer la matriz\n",
        "2. insertar el paciente de forma apropiada segun su edad\n",
        "\n",
        "#Pseudocodigo\n",
        "\n",
        "1. ordenar_pacientes_por_edad:\n",
        "* Define los parametros que serán utilizados por el proceso\n",
        "* Llama a __ordenar_pacientes_por_edad_aux2\n",
        "2. __ordenar_pacientes_por_edad_aux2:\n",
        "* Recorre la matriz por completo\n",
        "* Para poder ordenar los elementos llama la función __ordenar_pacientes_por_edad_aux\n",
        "* Por cada llamado acorta la matriz\n",
        "* Cuando la matriz esté vacía se retorna la lista ordenada\n",
        "3. __ordenar_pacientes_por_edad_aux:\n",
        "* Detecta la posición adecuada para los elementos y los añade a la lista\n",
        "* Si la lista aún no tiene elementos, simplemente añade el primero\n",
        "* Una vez se añade el elemento se termina el proceso y se continúa recorriendo la matriz\n",
        "\n"
      ],
      "metadata": {
        "id": "ggZ6vrCAmEGx"
      }
    },
    {
      "cell_type": "markdown",
      "source": [
        "Este no se modifica porque en realidad el usuario en ningún momento puede afectar a los datos que recibe la función "
      ],
      "metadata": {
        "id": "h7v6y66HUUMi"
      }
    },
    {
      "cell_type": "code",
      "source": [
        "class Paciente():\n",
        "    def __init__(self,nombre,cedula, edadCronologica):\n",
        "        \n",
        "                ##Se confirman datos\n",
        "        if (type(nombre)!=str) or (type(cedula)!=int) or(type(edadCronologica)!=int):\n",
        "            raise ValueError(\"Tipo de datos incorrectos\")\n",
        "        self.__nombre=nombre\n",
        "        self.__cedula=cedula\n",
        "        self.__edadCronologica=edadCronologica\n",
        "    def obtener_datos_pacientes(self):\n",
        "      \n",
        "        return [self.__nombre,self.__cedula,self.__edadCronologica]\n",
        "      \n",
        "class Hospital():\n",
        "    def __init__(self,nombre):\n",
        "        \n",
        "        self.__nombre=nombre\n",
        "        self.__lista_pacientes=[]\n",
        "\n",
        "    def agregar_paciente(self, paciente):\n",
        "        self.__lista_pacientes+=[paciente.obtener_datos_pacientes()]\n",
        "     \n",
        "        \n",
        "    def mostrar_pacientes(self):\n",
        "        paciente= 0\n",
        "        while(len(self.__lista_pacientes)!=paciente):\n",
        "            print(self.__lista_pacientes[paciente][0],\"edad cronologica:\",self.__lista_pacientes[paciente][2])\n",
        "            paciente= paciente+1\n",
        "\n",
        "    #ordena los pacientes por edad   \n",
        "    def __ordenar_pacientes_por_edad_aux(self,elemento, nueva_lista,contador):\n",
        "        #Introduce el elemento si ya llegó al final de la lista\n",
        "        if contador==len(nueva_lista):\n",
        "            nueva_lista+=[elemento]\n",
        "            return nueva_lista\n",
        "\n",
        "        #Introduce el elemento en la posicion que le corresponde\n",
        "        if nueva_lista[contador][2]>elemento[2]:\n",
        "            lista2=nueva_lista[contador:]\n",
        "            lista1=nueva_lista[:contador]\n",
        "            nueva_lista=lista1+[elemento]+lista2\n",
        "            return nueva_lista\n",
        "\n",
        "        #Recorre la fila en busca de una posición para insertar el elemento\n",
        "        else:\n",
        "            contador= contador+1\n",
        "            return self.__ordenar_pacientes_por_edad_aux(elemento, nueva_lista,contador)\n",
        "   \n",
        "   #Define los datos que la función a llamar va a usar\n",
        "    def ordenar_pacientes_por_edad(self):\n",
        "            lista= self.__lista_pacientes\n",
        "            nueva_lista=[]\n",
        "            self.__ordenar_pacientes_por_edad_aux2(lista,nueva_lista)\n",
        "\n",
        "    #Recorre la matriz en la que se guardan los datos de los pacientes en forma de lista de listas\n",
        "    def __ordenar_pacientes_por_edad_aux2(self,lista,nueva_lista):\n",
        "            if lista==[]:\n",
        "               #Cambia la lista anterior por la nueva que está ordenada \n",
        "                self.__lista_pacientes=nueva_lista\n",
        "            else:\n",
        "                    nueva_lista=self.__ordenar_pacientes_por_edad_aux(lista[0], nueva_lista,0)\n",
        "                    return self.__ordenar_pacientes_por_edad_aux2(lista[1:], nueva_lista)\n",
        "                    \n",
        "\n",
        "\n",
        "\n",
        "\n",
        "hospital = Hospital(\"Max Peralta\")\n",
        "hospital.agregar_paciente(Paciente(\"saul\", 3236211,edadCronologica = 21))\n",
        "hospital.agregar_paciente(Paciente(\"paul\", 3236115,edadCronologica = 2))\n",
        "hospital.agregar_paciente(Paciente(\"raul\", 3236113,edadCronologica = 5))\n",
        "hospital.agregar_paciente(Paciente(\"carlo\", 3236114,edadCronologica =51))\n",
        "hospital.agregar_paciente(Paciente(\"pablo\", 3236117,edadCronologica = 3))\n",
        "hospital.ordenar_pacientes_por_edad()\n",
        "hospital.mostrar_pacientes()\n"
      ],
      "metadata": {
        "id": "dnpaQM2HmEYW",
        "colab": {
          "base_uri": "https://localhost:8080/"
        },
        "outputId": "fd49847d-5276-4a12-eb94-ce1d352d83f2"
      },
      "execution_count": 11,
      "outputs": [
        {
          "output_type": "stream",
          "name": "stdout",
          "text": [
            "paul edad cronologica: 2\n",
            "pablo edad cronologica: 3\n",
            "raul edad cronologica: 5\n",
            "saul edad cronologica: 21\n",
            "carlo edad cronologica: 51\n"
          ]
        }
      ]
    },
    {
      "cell_type": "markdown",
      "source": [
        "#Ejercicio3\n",
        "#Analisis\n",
        "* La entrada es la matriz\n",
        "* La salida es el vector con los maximos\n",
        "* Las entrada debe ser una matriz\n",
        "*Subproblemas:\n",
        "1. Recorrer la matriz\n",
        "2. Añadir el maximo de cada elemento de la matriz a un vector\n",
        "\n",
        "#Pseudocodigo\n",
        "1. calcular_maximos_por_fila:\n",
        "* Se define el vector\n",
        "* La condición de parada es cuando la matriz esté vacia\n",
        "* Por ello se acorta la matriz para recorrerla\n",
        "* Para obtener el maximo de cada elemento, se llama la función calcular_maximos_por_fila_aux y se suma el resultado a vector\n",
        "* se retorna vector\n",
        "2. calcular_maximos_por_fila_aux:\n",
        "* Se define numero\n",
        "* Se recorre el elemento de la matriz el cual llamaremos fila\n",
        "* Por cada vez que se recorra, se acorta en 1 y se guarda el numero mayor que detecte mediante una comparacion de elementos\n",
        "* Cuando la fila quede vacía, se retorna el maximo que se guardó en número"
      ],
      "metadata": {
        "id": "m1sQMu-amEwp"
      }
    },
    {
      "cell_type": "markdown",
      "source": [
        "#Correciones\n",
        "Aún no le había añadido limitaciones, por lo que respecta a los datos, la matriz dee ser de tipo lista y cada uno de los elementos perteneciente a sus filas y columnas debe ser entero"
      ],
      "metadata": {
        "id": "uokSmHJZWjF2"
      }
    },
    {
      "cell_type": "code",
      "source": [
        "# Encuentra el mayor elemento de la fila\n",
        "def calcular_maximos_por_fila_aux(fila):\n",
        "    numero=0\n",
        "    while(fila!=[]):\n",
        "      \n",
        "      ##Verifica que el elemento de esa fila sea entero\n",
        "      if type(fila[0])!= int:\n",
        "         raise ValueError(\"Tipo de datos incorrectos\")\n",
        "      \n",
        "      if numero<fila[0]:\n",
        "         numero=fila[0]\n",
        "      fila=fila[1:]\n",
        "    return numero    \n",
        "\n",
        "#recorre la matriz\n",
        "def calcular_maximos_por_fila(matriz):\n",
        "   \n",
        "    ##Verifica que sea una lista\n",
        "    if type(matriz)!= list:\n",
        "       raise ValueError(\"Tipo de datos incorrectos\")\n",
        "   \n",
        "    vector=[]\n",
        "    while(matriz !=[]):\n",
        "        fila=matriz[0]\n",
        "        valores=calcular_maximos_por_fila_aux(fila)\n",
        "        vector+=[valores]\n",
        "        matriz=matriz[1:]\n",
        "    return vector\n",
        "            \n",
        "        \n",
        "\n",
        "\n",
        "Prueba1=calcular_maximos_por_fila([[1, 2, 3], [8, 10, 1], [5, 6, 7]])\n",
        "Prueba2=calcular_maximos_por_fila([[5, 7, 9], [18, 10, 10], [3, 2, 1]])\n",
        "print(\"Prueba1:\", Prueba1)\n",
        "print(\"Prueba2:\", Prueba2)\n",
        "            \n"
      ],
      "metadata": {
        "id": "lfleZNwSmFAO",
        "colab": {
          "base_uri": "https://localhost:8080/"
        },
        "outputId": "69abbdde-0999-4d12-d04e-458925544ae0"
      },
      "execution_count": 20,
      "outputs": [
        {
          "output_type": "stream",
          "name": "stdout",
          "text": [
            "Prueba1: [3, 10, 7]\n",
            "Prueba2: [9, 18, 3]\n"
          ]
        }
      ]
    }
  ]
}