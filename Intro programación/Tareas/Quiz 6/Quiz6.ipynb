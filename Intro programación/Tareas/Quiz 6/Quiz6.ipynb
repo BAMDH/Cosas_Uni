{
  "nbformat": 4,
  "nbformat_minor": 0,
  "metadata": {
    "colab": {
      "name": "Quiz6.ipynb",
      "provenance": []
    },
    "kernelspec": {
      "name": "python3",
      "display_name": "Python 3"
    },
    "language_info": {
      "name": "python"
    }
  },
  "cells": [
    {
      "cell_type": "code",
      "execution_count": 6,
      "metadata": {
        "colab": {
          "base_uri": "https://localhost:8080/"
        },
        "id": "nJV4oecW6rH5",
        "outputId": "92fa6e08-4574-4851-a37e-aaf51e62a16b"
      },
      "outputs": [
        {
          "output_type": "stream",
          "name": "stdout",
          "text": [
            "Resultado: True\n"
          ]
        }
      ],
      "source": [
        "def esPalindromo(hilera):\n",
        "        try:\n",
        "          lista=list(hilera)\n",
        "          lista_nueva=esPalindromo_aux(lista,len(lista))\n",
        "          if lista == lista_nueva:\n",
        "              return True\n",
        "          else:\n",
        "              return False\n",
        "        except:\n",
        "          raise ValueError(\"Tipo de datos erroneo\")\n",
        "\n",
        "\n",
        "def esPalindromo_aux(lista,posicion):\n",
        "    \n",
        "    if posicion==0:\n",
        "        return []\n",
        "    else:\n",
        "        elemento=lista[posicion-1]\n",
        "   \n",
        "    \n",
        "       # lista2=lista2.append(d) \n",
        "        return [elemento]+esPalindromo_aux(lista, posicion-1)  \n",
        "resultado= esPalindromo(\"ojo\")\n",
        "print(\"Resultado:\",resultado)"
      ]
    }
  ]
}