{
  "nbformat": 4,
  "nbformat_minor": 0,
  "metadata": {
    "colab": {
      "name": "Quiz5.ipynb",
      "provenance": [],
      "collapsed_sections": []
    },
    "kernelspec": {
      "name": "python3",
      "display_name": "Python 3"
    },
    "language_info": {
      "name": "python"
    }
  },
  "cells": [
    {
      "cell_type": "code",
      "execution_count": 96,
      "metadata": {
        "colab": {
          "base_uri": "https://localhost:8080/"
        },
        "id": "T-nGQv6vA2x2",
        "outputId": "1f459808-e830-49a1-f3ea-2beadbdae4ac"
      },
      "outputs": [
        {
          "output_type": "stream",
          "name": "stdout",
          "text": [
            "Resultado: 258\n"
          ]
        }
      ],
      "source": [
        "cantidad= 153\n",
        "cantidad2= 236\n",
        "def multiplicar(entero,entero2):\n",
        "  potencia=0\n",
        "  resultado=0\n",
        "  if isinstance(entero,int) and isinstance(entero2,int):\n",
        "    if len(str(entero))==len(str(entero2)):\n",
        "      return multiplicacion_aux(entero,entero2,resultado,potencia)\n",
        "    else:\n",
        "       return \"La cantidad de digitos es distinta en los parametros\"\n",
        "  else: return \"Tipo de datos incorrecto\"\n",
        "\n",
        "def multiplicacion_aux(entero,entero2,resultado,potencia):\n",
        "  if entero==0:\n",
        "     return resultado\n",
        "  else:\n",
        "    return multiplicacion_aux(int(entero//10),int(entero2//10), resultado+(entero%10)*(entero2%10)%10*(10**potencia),potencia+1)\n",
        "\n",
        "resultado= multiplicar(cantidad,cantidad2)\n",
        "print(\"Resultado:\",resultado)"
      ]
    }
  ]
}