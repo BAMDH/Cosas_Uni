{
  "cells": [
    {
      "cell_type": "code",
      "execution_count": null,
      "id": "06cb9bfa-f171-465c-98b3-65935ced2686",
      "metadata": {
        "id": "06cb9bfa-f171-465c-98b3-65935ced2686"
      },
      "outputs": [],
      "source": [
        "#Ejercicio 1\n",
        "a = 7\n",
        "tipo_de_a = type(a)\n",
        "es_real = tipo_de_a == float\n",
        "print(\"¿Es real?\",es_real)"
      ]
    },
    {
      "cell_type": "code",
      "source": [
        "#Ejercicio 2\n",
        "Letra = input()\n",
        "unicode_m = ord(Letra)\n",
        "unicode_Mayu= unicode_m-32\n",
        "print(unicode_Mayu)"
      ],
      "metadata": {
        "id": "sVvgFukCSv61"
      },
      "id": "sVvgFukCSv61",
      "execution_count": null,
      "outputs": []
    },
    {
      "cell_type": "code",
      "source": [
        "#ejercicio 3\n",
        "Hilera = input([])\n",
        "u_hi1 = ord(Hilera[0])\n",
        "u_hi2 = ord(Hilera[1])\n",
        "u_hi3 = ord(Hilera[2])\n",
        "mayu1 = 65<= u_hi1 <= 90 \n",
        "mayu2 = 65<= u_hi2 <= 90 \n",
        "mayu3 = 65<= u_hi3 <= 90\n",
        "sonmayu = mayu1 == mayu2 == mayu3 == True\n",
        "print(\"¿Son mayusculás?\",sonmayu)\n"
      ],
      "metadata": {
        "id": "Qc6wFNsDZvm8"
      },
      "id": "Qc6wFNsDZvm8",
      "execution_count": null,
      "outputs": []
    }
  ],
  "metadata": {
    "kernelspec": {
      "display_name": "Python 3 (ipykernel)",
      "language": "python",
      "name": "python3"
    },
    "language_info": {
      "codemirror_mode": {
        "name": "ipython",
        "version": 3
      },
      "file_extension": ".py",
      "mimetype": "text/x-python",
      "name": "python",
      "nbconvert_exporter": "python",
      "pygments_lexer": "ipython3",
      "version": "3.9.7"
    },
    "colab": {
      "name": "Quiz_2.ipynb",
      "provenance": [],
      "collapsed_sections": []
    }
  },
  "nbformat": 4,
  "nbformat_minor": 5
}