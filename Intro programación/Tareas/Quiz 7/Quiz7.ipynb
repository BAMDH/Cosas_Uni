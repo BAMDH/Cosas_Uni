{
  "nbformat": 4,
  "nbformat_minor": 0,
  "metadata": {
    "colab": {
      "name": "Quiz7.ipynb",
      "provenance": []
    },
    "kernelspec": {
      "name": "python3",
      "display_name": "Python 3"
    },
    "language_info": {
      "name": "python"
    }
  },
  "cells": [
    {
      "cell_type": "code",
      "execution_count": 2,
      "metadata": {
        "colab": {
          "base_uri": "https://localhost:8080/"
        },
        "id": "6TCn1l5NqMz8",
        "outputId": "140fe450-046e-4970-c710-ebc3193d9245"
      },
      "outputs": [
        {
          "output_type": "stream",
          "name": "stdout",
          "text": [
            "CPU: 900 Mhz, RAM: 1024 , precio  350\n",
            "CPU: 1400 Mhz, RAM: 1024 , precio  450\n",
            "CPU: 2000 Mhz, RAM: 1024 , precio  800\n",
            "CPU: 2400 Mhz, RAM: 1024 , precio  1250\n",
            "CPU: 3100 Mhz, RAM: 1024 , precio  1500\n",
            "CPU: 4900 Mhz, RAM: 1024 , precio  1900\n",
            "CPU: 4900 Mhz, RAM: 1024 , precio  1900\n"
          ]
        }
      ],
      "source": [
        "frecuencia_CPU = 2400\n",
        "megas_RAM = 1024\n",
        "class Burbuja:\n",
        "    def intercambiar(self, pos1, pos2, lista):\n",
        "        #intercambia los elementos en las posiciones pos1 y pos2\n",
        "        temporal = lista[pos1]\n",
        "        lista[pos1] = lista[pos2]\n",
        "        lista[pos2] = temporal\n",
        "        return lista\n",
        "\n",
        "    def flotar_burbuja(self, pivote_burbuja, lista):\n",
        "        \n",
        "        for pivoteJ in range(0, pivote_burbuja):\n",
        "            #Analiza los precios de las computadoras\n",
        "            if(lista[pivoteJ][2] > lista[pivoteJ + 1][2]):\n",
        "                lista = self.intercambiar(pivoteJ, pivoteJ + 1, lista)\n",
        "        return lista\n",
        "\n",
        "    \n",
        "    def ordenar(self, lista):\n",
        "        for pivote_burbuja in range(len(lista) - 1, 0, -1):\n",
        "                        lista = self.flotar_burbuja(pivote_burbuja, lista)\n",
        "        return lista\n",
        "\n",
        "\n",
        "class tienda:\n",
        "    #Crea la clase tienda   \n",
        "    def __init__(self, nombre):\n",
        "        self.nombre= nombre\n",
        "        self.lista_computadoras= []\n",
        "        \n",
        "    def agregar_computadora(self,computadora):\n",
        "       \n",
        "        #Se toman los datos de la computadora\n",
        "        computadora=computadora.obtener_datos()\n",
        "        \n",
        "        #Agrega la computadora en forma de lista\n",
        "        self.lista_computadoras+=[computadora]\n",
        "        \n",
        "        \n",
        "    def mostrar_computadores(self):\n",
        "        #Imprime todas las computadoras que hay en la lista de computadoras\n",
        "        contador=0\n",
        "        \n",
        "        while (contador!= len(self.lista_computadoras)):\n",
        "            \n",
        "            print(\"CPU:\",self.lista_computadoras[contador][0],\"Mhz, RAM:\",self.lista_computadoras[contador][1],\", precio \",self.lista_computadoras[contador][2] )\n",
        "            contador=contador+1\n",
        "    def ordenar_computadores_por_precio(self):\n",
        "        \n",
        "        self.lista_computadoras=Burbuja().ordenar(self.lista_computadoras)  \n",
        "              \n",
        "              \n",
        "class Computadora:     \n",
        "    #crea la nueva computadora\n",
        "    def __init__(self,frecuencia_CPU, megas_RAM ,precio):\n",
        "        \n",
        "        self.__precio=precio\n",
        "        self.__megas_RAM= megas_RAM\n",
        "        self.__frecuencia_CPU = frecuencia_CPU\n",
        "        \n",
        "    # sirve para conseguir los datos de la computadora creada    \n",
        "    def obtener_datos(self):\n",
        "        #guarda los datos en el formato de lista [frecuencia_cpu, megas_RAM, precio]\n",
        "        return [self.__frecuencia_CPU,self.__megas_RAM,self.__precio]\n",
        "   \n",
        "        \n",
        "\n",
        "tienda= tienda(\"Tienda\")\n",
        "tienda . agregar_computadora ( Computadora ( frecuencia_CPU , megas_RAM, 1250))\n",
        "tienda . agregar_computadora ( Computadora ( frecuencia_CPU - 400 , megas_RAM, 800)) \n",
        "tienda . agregar_computadora ( Computadora ( frecuencia_CPU + 700 , megas_RAM, 1500))\n",
        "tienda . agregar_computadora ( Computadora ( frecuencia_CPU - 1000 , megas_RAM, 450))\n",
        "tienda . agregar_computadora ( Computadora ( frecuencia_CPU - 1500 , megas_RAM, 350))\n",
        "tienda . agregar_computadora ( Computadora ( frecuencia_CPU + 2500 , megas_RAM, 1900))\n",
        "tienda . agregar_computadora ( Computadora ( frecuencia_CPU + 2500 , megas_RAM, 1900))\n",
        "\n",
        "tienda . ordenar_computadores_por_precio ( ) \n",
        "tienda.mostrar_computadores()"
      ]
    }
  ]
}