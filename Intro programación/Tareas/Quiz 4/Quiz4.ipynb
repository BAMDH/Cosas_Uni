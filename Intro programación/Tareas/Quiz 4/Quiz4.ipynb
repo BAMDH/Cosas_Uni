{
  "nbformat": 4,
  "nbformat_minor": 0,
  "metadata": {
    "colab": {
      "name": "Quiz4.ipynb",
      "provenance": []
    },
    "kernelspec": {
      "name": "python3",
      "display_name": "Python 3"
    },
    "language_info": {
      "name": "python"
    }
  },
  "cells": [
    {
      "cell_type": "code",
      "execution_count": 30,
      "metadata": {
        "colab": {
          "base_uri": "https://localhost:8080/"
        },
        "id": "3czjmqxhX_Tz",
        "outputId": "b3730136-b4cd-4439-83cb-49977133ed45"
      },
      "outputs": [
        {
          "output_type": "stream",
          "name": "stdout",
          "text": [
            "Original:  -6087 Invertido:  -7806\n"
          ]
        }
      ],
      "source": [
        "numero= -6087\n",
        "positivo= abs(numero)\n",
        "convertir_a_str= str(positivo)\n",
        "convertir_a_str1= str(numero)\n",
        "longitud= len(convertir_a_str)\n",
        "longitud1= len(convertir_a_str1)\n",
        "\n",
        "def invertir(entero):\n",
        "  entero= abs(numero)\n",
        "  potencia= longitud-1\n",
        "  if entero > 0:\n",
        "    return invertir_aux(entero,potencia)\n",
        "  else:\n",
        "    return 0\n",
        "\n",
        "def invertir_aux(entero,potencia):\n",
        "      div_entera = entero // 10\n",
        "      digito_ms = entero % 10     \n",
        "      if(entero > 0):        \n",
        "        concatenar= 10 **potencia\n",
        "        potencia -=1\n",
        "        return concatenar * digito_ms + invertir_aux(div_entera, potencia)\n",
        "      else:\n",
        "        return entero\n",
        "if (isinstance(numero,int)):\n",
        "  invertir(numero)\n",
        "  if longitud1 > longitud:\n",
        "    print(\"Original: \",numero,\"Invertido: \",invertir(numero)*-1)\n",
        "  else: print(\"Original: \",numero,\"Invertido: \",invertir(numero))\n",
        "else: print(\"Error: Tipo de datos incorrectos\")\n"
      ]
    }
  ]
}