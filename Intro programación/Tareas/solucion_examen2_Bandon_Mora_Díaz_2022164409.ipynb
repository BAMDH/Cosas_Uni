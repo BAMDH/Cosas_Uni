{
  "nbformat": 4,
  "nbformat_minor": 0,
  "metadata": {
    "colab": {
      "provenance": []
    },
    "kernelspec": {
      "name": "python3",
      "display_name": "Python 3"
    },
    "language_info": {
      "name": "python"
    }
  },
  "cells": [
    {
      "cell_type": "markdown",
      "source": [
        "###Ejercicio 1\n",
        "\n",
        "Análisis\n",
        "\n",
        "*   Entradas: Listas de un mismo tamaño.\n",
        "*   Salidas: La preimagen y la imagen, siendo la menor imagen de toda la lista designada como y.\n",
        "*   Restricciones: Solo pueden ser listas.\n",
        "\n",
        "Subproblemas\n",
        "\n",
        "*   Recorrer la lista para encontrar el menor.\n",
        "*   El recorrido de ambas listas debe ser igual.\n",
        "*   Retornar el par ordenado.\n",
        "\n",
        "Pseudocódigo\n",
        "\n",
        "1. encontrar_minimo_funcion(x,y):\n",
        "\n",
        "*  Verifica que el tipo de dato sean listas, si no lo son indica que el tipo de datos es incorrecto.\n",
        "*   De lo contrario la función se sigue ejecutando hasta que se recorran las filas.\n",
        "*   Al recorrer las filas se comparan los primeros dos valores, si el primero es menor al segundo, se intercambian sus posiciones y se elmina el primer elemento de la fila, al final queda el par ordenado. Para lograr esto, en la lista x se elimina o reemplazan valores según suceda en la fila y.\n",
        "*   Se retorna el par ordenado de manera que x sea el primero, y el segundo.\n",
        "\n",
        "Se adjuntan tres ejemplos, los dos primeros son los dados en el examen, el tercero es cortesía de la casa.\n",
        "\n",
        "\n",
        "\n",
        "\n",
        "\n",
        "\n",
        "\n",
        "\n",
        "\n",
        "\n",
        "\n",
        "\n"
      ],
      "metadata": {
        "id": "1Lyh2HQBecSg"
      }
    },
    {
      "cell_type": "code",
      "source": [
        "\n",
        "def encontrar_minimo_funcion(x,y):\n",
        "    if type(x) != list or type(y) != list:\n",
        "        raise ValueError(\"Tipo de datos incorrectos\")\n",
        "    else:\n",
        "        if len(x)==1:\n",
        "            return (x[0],y[0])\n",
        "        else:\n",
        "            if y[0]<y[1]:\n",
        "                y[1]=y[0]\n",
        "                x[1]=x[0]\n",
        "                return encontrar_minimo_funcion(x[1:], y[1:])\n",
        "            else:\n",
        "                return encontrar_minimo_funcion(x[1:], y[1:])\n",
        "\n",
        "Prueba1= encontrar_minimo_funcion ([1, 2, 3, 4, 5, 6, 7], [0.01,0.05, -5,1.5, 2.5, 2.7, 2.8 ])\n",
        "Prueba2= encontrar_minimo_funcion([1, 200, 300, 400, 500, 600, 700], [0.01,0.05, -5, 1.5, 2.5, 2.7, -28 ])\n",
        "Prueba3= encontrar_minimo_funcion([12,786,2341,12321,45,88888],[1,232,4,5,0,555])\n",
        "print(\"Prueba1\",Prueba1,\"Prueba2\",Prueba2,\"Prueba3\",Prueba3)"
      ],
      "metadata": {
        "colab": {
          "base_uri": "https://localhost:8080/"
        },
        "id": "QoJubqjrekb6",
        "outputId": "d429071c-016b-473a-a3bb-f82dd59cccc3"
      },
      "execution_count": null,
      "outputs": [
        {
          "output_type": "stream",
          "name": "stdout",
          "text": [
            "Prueba1 (3, -5) Prueba2 (700, -28) Prueba3 (45, 0)\n"
          ]
        }
      ]
    },
    {
      "cell_type": "markdown",
      "source": [
        "###Ejercicio 2\n",
        "\n",
        "Análisis\n",
        "* Entradas: Dos números enteros.\n",
        "* Salidas: El resultado obtenido.\n",
        "* Restricciones: las entradas solo pueden ser enteros.\n",
        "Subproblemas\n",
        "* Obtener el factorial del divisor.\n",
        "* Dividir exitosamente los terminos.\n",
        "* Elevar los números correctamente.\n",
        "* Hacer la sumatoria de todos los terminos.\n",
        "\n",
        "Pseudocódigo\n",
        "1. aproximar_funcion_exponencial(x, n):\n",
        "* Confirma que x y n sean enteros, en caso de no serlo le avisa al usuario.\n",
        "* En caso de que los datos sean correctos se llama la función obtener_valor(x,n,contador).\n",
        "2. obtener_valor(x,n,contador):\n",
        "* Se detiene cuando contador es un mayor a n, esto es para abarcar toda la sumatoria correctamente, incluyendo a n.\n",
        "* Contador comienza desde 0 y aumenta en uno por cada llamado recursivo.\n",
        "* Por cada llamado se eleva x a el valor de contador, para luego ser dividido por el factorial de contador. Para obtener el factorial se llama la función obtener_factorial(numero).\n",
        "* El resultado de la operación anterior es sumado en la pila, por lo tanto con cada llamada recursiva se suma la operación anterior pero el valor de contador ya habrá aumentado para entonces.\n",
        "* Finalmente cuando se termina la operación, se retorna el valor acumulado en la pila\n",
        "3. obtener_factorial(numero):\n",
        "* Se definen el caso en que numero sea igual a 0, entonces dará como resultado 1.\n",
        "* Si no se da dicho caso, la condición de parada es cuando número es igual a 1 y se suma el uno correspondiente al factorial de 1\n",
        "* Mientras la función se siga llamando a si misma, disminuirá el valor de numero y multiplicará factorial que se va acumulando en la pila.\n",
        "* Finalmente se retorna el resultado guardado en la pila\n",
        "\n",
        "Se han probado los tres ejemplos del examen, me tomé la libertad de imprimirlos junto a una comprobación que indica si la cantidad obtenida de esas pruebas es la misma que la escrita en el examen. La cuarta prueba la definí yo\n"
      ],
      "metadata": {
        "id": "I1VhF_VRmZGT"
      }
    },
    {
      "cell_type": "code",
      "source": [
        "def obtener_factorial(numero):\n",
        "\n",
        "    if(numero == 0):\n",
        "        return 1\n",
        "    if(numero == 1):\n",
        "        return 1\n",
        "    else:\n",
        "        return numero * obtener_factorial(numero - 1)\n",
        "\n",
        "def obtener_valor(x,n,contador):\n",
        "    if contador> n:\n",
        "        return 0\n",
        "    else:\n",
        "        factorial=obtener_factorial(contador)\n",
        "        nuevo_numero=(x**contador)/(factorial)\n",
        "        return nuevo_numero+obtener_valor(x, n, contador+1)\n",
        "\n",
        "def aproximar_funcion_exponencial(x, n):\n",
        "    if type(x)!= int or type(n) != int:\n",
        "        raise ValueError(\"Tipo de datos incorrecto\")\n",
        "    else:\n",
        "        resultado= obtener_valor(x,n,0)\n",
        "        return resultado\n",
        "\n",
        "\n",
        "Prueba1=  aproximar_funcion_exponencial (0, 7)\n",
        "Prueba2= aproximar_funcion_exponencial (1, 10)\n",
        "Prueba3= aproximar_funcion_exponencial (3, 100)\n",
        "Prueba4= aproximar_funcion_exponencial (4, 15)\n",
        "\n",
        "print(\"Prueba1\",Prueba1, 1== Prueba1)\n",
        "print(\"Prueba2\",Prueba2, 2.7182818011463845== Prueba2)\n",
        "print(\"Prueba3\",Prueba3, 20.085536923187668==Prueba3)\n",
        "print(\"Prueba4\",Prueba4)"
      ],
      "metadata": {
        "colab": {
          "base_uri": "https://localhost:8080/"
        },
        "id": "-oiBUFTWm2AL",
        "outputId": "bdc17e83-db36-4430-d8a8-2391ee0713a9"
      },
      "execution_count": null,
      "outputs": [
        {
          "output_type": "stream",
          "name": "stdout",
          "text": [
            "Prueba1 1.0 True\n",
            "Prueba2 2.7182818011463845 True\n",
            "Prueba3 20.085536923187668 True\n",
            "Prueba4 54.597882905650096\n"
          ]
        }
      ]
    },
    {
      "cell_type": "markdown",
      "source": [
        "###Ejercicio 3\n",
        "\n",
        "Análisis\n",
        "\n",
        "\n",
        "*   Entradas: Una Matriz conformada por lista de listas y un elemento a encontrar.\n",
        "*   Salidas: Las posiciones en las que se encuentra el elemento.\n",
        "*   Restricciones: La entrada será de tipo lista para la matriz y el elemento debe ser entero.\n",
        "\n",
        "Subproblemas\n",
        "\n",
        "\n",
        "*   Recorrer la matriz fila por fila en busca del elemento.\n",
        "*   Recorrer cada columna para encontrar la posición del elemento.\n",
        "*   Guardar la posición de los elementos.\n",
        "*   Retornar las posiciones en forma de pares ordenados.\n",
        "\n",
        "Pseudocódigo\n",
        "\n",
        "\n",
        "1. buscar_en_matriz(A, elemento):\n",
        "* Primero se confirma que A sea una lista y elemento un entero, si no lo son se notifica al usuario.\n",
        "* Si se cumplen los requisitos se llama la función buscar_en_matriz_aux(A, elemento,fila,posiciones).\n",
        "2. buscar_en_matriz_aux(A, elemento,fila,posiciones):\n",
        "* Se detiene al haber recorrido toda la matriz, de lo contrario se le sigue llamando y aumentando en uno a fila.\n",
        "* Si el elemento a encontrar se encuentra en la fila en la que estamos, se llama la función recorrer_fila(lista,elemento,par,columna,fila) para conseguir la ubicación del elemento.\n",
        "* Las ubicaciones se guardan en posiciones.\n",
        "* Se retorna posiciones.\n",
        "3. recorrer_fila(lista,elemento,par,columna,fila) para conseguir la ubicación del elemento:\n",
        "* Recorre cada elemento de la fila, si es igual al que se desea encontrar, se guarda el par ordenado en formato (fila, columna).\n",
        "* Al haber recorrido la fila entera, retorna los pares ordenados encontrados.\n",
        "\n",
        "Se adjuntan tres ejemplos, los dos primeros son los dados en el examen, el tercero consiste en encontrar las posiciones de 4, en este caso puede encontrarse varias veces en una sola fila.\n",
        "\n",
        "\n",
        "\n",
        "\n",
        "\n",
        "\n",
        "\n",
        "\n",
        "\n",
        "\n",
        "\n"
      ],
      "metadata": {
        "id": "fLBZPhKWm2VL"
      }
    },
    {
      "cell_type": "code",
      "source": [
        "def recorrer_fila(lista,elemento,par,columna,fila):\n",
        "    if lista==[]:\n",
        "\n",
        "        return par\n",
        "    else:\n",
        "        if lista[0]==elemento:\n",
        "\n",
        "\n",
        "            return recorrer_fila(lista[1:], elemento, par+[(fila,columna)], columna+1,fila)\n",
        "        else:\n",
        "            return recorrer_fila(lista[1:], elemento, par, columna+1,fila)\n",
        "\n",
        "\n",
        "def buscar_en_matriz_aux(A, elemento,fila,posiciones):\n",
        "    if A== []:\n",
        "        return posiciones\n",
        "    else:\n",
        "        if elemento in A[0]:\n",
        "\n",
        "            posicion=recorrer_fila(A[0],elemento,[],0,fila)\n",
        "\n",
        "            return buscar_en_matriz_aux(A[1:], elemento,fila+1,posiciones+posicion)\n",
        "        else:\n",
        "            return buscar_en_matriz_aux(A[1:], elemento,fila+1,posiciones)\n",
        "def buscar_en_matriz(A, elemento):\n",
        "    if type(A)!= list or type(elemento)!= int:\n",
        "        raise ValueError(\"Tipo de datos incorrectos\")\n",
        "    else:\n",
        "        resultado= buscar_en_matriz_aux(A, elemento,0,[])\n",
        "        return resultado\n",
        "\n",
        "Prueba1=buscar_en_matriz ([[1, 2], [3, 4], [5, 10], [10, 5]], 5)\n",
        "Prueba2=buscar_en_matriz ([[1, 2, 1], [3, 4, 1], [5, 10, 5], [10, 5, 5]], 10)\n",
        "Prueba3=buscar_en_matriz([[4,4,3],[2,3],[4,9,8]], 4)\n",
        "print(\"Prueba1\",Prueba1)\n",
        "print(\"Prueba2\",Prueba2)\n",
        "print(\"Prueba3\",Prueba3)"
      ],
      "metadata": {
        "colab": {
          "base_uri": "https://localhost:8080/"
        },
        "id": "nE8nxbGmyBzg",
        "outputId": "ce06ec89-d301-44f4-d6ee-d263ebbaad7c"
      },
      "execution_count": null,
      "outputs": [
        {
          "output_type": "stream",
          "name": "stdout",
          "text": [
            "Prueba1 [(2, 0), (3, 1)]\n",
            "Prueba2 [(2, 1), (3, 0)]\n",
            "Prueba3 [(0, 0), (0, 1), (2, 0)]\n"
          ]
        }
      ]
    },
    {
      "cell_type": "markdown",
      "source": [
        "### Ejercicio 4\n",
        "Análisis\n",
        "* Entradas: Una hilera y un separador.\n",
        "* Salidas: Una lista con todas las hileras separados por el separador.\n",
        "* Restricciones: La hilera obviamente será hilera y el separador también debe serlo\n",
        "Subproblemas\n",
        "* Dividir los elementos en donde haya un separador\n",
        "* Guardar cada elemento separado\n",
        "* Devolver la lista de hileras\n",
        "\n",
        "\n",
        "Pseudocódigo\n",
        "\n",
        "1. tokenizar(hilera, separador):\n",
        "* Se confirma el tipo de datos, de no ser correcto se notifica al usuario.\n",
        "* De lo contrario se sigue con el proceso.\n",
        "* Para separar las palabras se decidió tomar cada una de sus letras y añadirlas a una nueva hilera, al toparse con el separador se añade dicha hilera a una lista, luego se reinicia la suma de elementos y se repite el proceso.\n",
        "* Para finalizar el proceso se definió una bandera de finalización, la cual cambia cuando el contador que fue establecido alcanza el largo de la hilera, esto significa que ya fue recorrida.\n",
        "* Se le añade la última hilera obtenida a la lista, esto se hace porque en ocasiones después del último elemento separador, hay más partes de la hilera. Para evitar que queden por fuera se añaden a la lista.\n",
        "*Se retorna la lista que representa la hilera tokenizada\n",
        "\n",
        "Se adjuntan tres ejemplos, los dos primeros son los dados en el examen, el tercero consiste en lo mismo que los otros dos pero el separador es un punto."
      ],
      "metadata": {
        "id": "ImmZqiXD1Kln"
      }
    },
    {
      "cell_type": "code",
      "source": [
        "def tokenizar(hilera, separador):\n",
        "    if type(hilera)!= str or type(separador)!= str:\n",
        "        raise ValueError(\"Tipo de datos incorrecto\")\n",
        "    finalizado= False\n",
        "    contador=0\n",
        "    mini_hilera=\"\"\n",
        "    lista=[]\n",
        "    while(not finalizado):\n",
        "       if(contador== len(hilera)):\n",
        "           finalizado= True\n",
        "           lista=lista+[mini_hilera]\n",
        "       else:\n",
        "           if hilera[contador]!= separador:\n",
        "               mini_hilera+= hilera[contador]\n",
        "               contador+=1\n",
        "\n",
        "           else:\n",
        "                lista=lista+[mini_hilera]\n",
        "\n",
        "                mini_hilera=\"\"\n",
        "                contador+=1\n",
        "    return lista\n",
        "\n",
        "\n",
        "\n",
        "Prueba1=tokenizar(\"ola-meu-nome-e-saul\", \"-\")\n",
        "Prueba2=tokenizar(\"mas;eu;moro;em;curitiba\", \";\")\n",
        "Prueba3=tokenizar(\"Halt.O.time.for.thou.art.fair.beyond.measure\",\".\")\n",
        "print(\"Prueba1\",Prueba1)\n",
        "print(\"Prueba2\",Prueba2)\n",
        "print(\"Prueba3\",Prueba3)"
      ],
      "metadata": {
        "colab": {
          "base_uri": "https://localhost:8080/"
        },
        "id": "aTt4vakJ5dQK",
        "outputId": "0f99c622-c92e-4626-d6e6-64e8c5f9ddde"
      },
      "execution_count": null,
      "outputs": [
        {
          "output_type": "stream",
          "name": "stdout",
          "text": [
            "Prueba1 ['ola', 'meu', 'nome', 'e', 'saul']\n",
            "Prueba2 ['mas', 'eu', 'moro', 'em', 'curitiba']\n",
            "Prueba3 ['Halt', 'O', 'time', 'for', 'thou', 'art', 'fair', 'beyond', 'measure']\n"
          ]
        }
      ]
    }
  ]
}