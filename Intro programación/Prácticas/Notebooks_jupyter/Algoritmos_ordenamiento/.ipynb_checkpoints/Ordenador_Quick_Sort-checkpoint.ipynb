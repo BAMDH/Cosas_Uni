{
 "cells": [
  {
   "cell_type": "code",
   "execution_count": 3,
   "id": "3a0c64ae",
   "metadata": {},
   "outputs": [
    {
     "name": "stdout",
     "output_type": "stream",
     "text": [
      "lista_menores  [-3, -1]\n",
      "lista_mayores  [5, 6, 9]\n"
     ]
    }
   ],
   "source": [
    "class Ordenador_Quick_Sort:\n",
    "    def crear_listas_mayores_menores(self, elemento_pivote, lista):\n",
    "        \"\"\"\n",
    "        Crea una lista con los elementos menores al pivote, y otra lista con los elementos mayores \n",
    "        a ese pivote\n",
    "        param elemento_pivote: elemento en el pivote\n",
    "        param lista: lista a descomponer\n",
    "        \"\"\"\n",
    "        #se inicializan las listas\n",
    "        lista_mayores = []\n",
    "        lista_menores = []\n",
    "        #itera por la lista a descomponer\n",
    "        for elemento_lista in lista:\n",
    "            #si el elemento actual en la lista es menor al elemento en el pivote, se agrega\n",
    "            #a la lista de elementos menores\n",
    "            if(elemento_lista < elemento_pivote):\n",
    "                lista_menores += [elemento_lista]\n",
    "            else:\n",
    "                #sino, se agrega en la lista de elementos mayores al pivote\n",
    "                lista_mayores += [elemento_lista]\n",
    "        return (lista_menores, lista_mayores)\n",
    "    \n",
    "def probar_crear_lista_menores_mayores():\n",
    "    ordenador = Ordenador_Quick_Sort()\n",
    "    lista = [1, 5, 6, -3, 9, -1]\n",
    "    (lista_menores, lista_mayores) = ordenador.crear_listas_mayores_menores(lista[0], lista[1:])\n",
    "    print(\"lista_menores \", lista_menores)\n",
    "    print(\"lista_mayores \", lista_mayores)\n",
    "        \n",
    "probar_crear_lista_menores_mayores()"
   ]
  },
  {
   "cell_type": "code",
   "execution_count": null,
   "id": "8a9f9d19",
   "metadata": {},
   "outputs": [],
   "source": []
  }
 ],
 "metadata": {
  "kernelspec": {
   "display_name": "Python 3 (ipykernel)",
   "language": "python",
   "name": "python3"
  },
  "language_info": {
   "codemirror_mode": {
    "name": "ipython",
    "version": 3
   },
   "file_extension": ".py",
   "mimetype": "text/x-python",
   "name": "python",
   "nbconvert_exporter": "python",
   "pygments_lexer": "ipython3",
   "version": "3.9.7"
  }
 },
 "nbformat": 4,
 "nbformat_minor": 5
}
