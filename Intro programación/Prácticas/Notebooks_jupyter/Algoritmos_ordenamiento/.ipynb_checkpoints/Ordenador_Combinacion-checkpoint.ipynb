{
 "cells": [
  {
   "cell_type": "code",
   "execution_count": 1,
   "id": "625fec08",
   "metadata": {},
   "outputs": [
    {
     "name": "stdout",
     "output_type": "stream",
     "text": [
      "lista_combinada  [1, 3, 6, 7, 9, 10, 20, 30]\n"
     ]
    },
    {
     "data": {
      "text/plain": [
       "True"
      ]
     },
     "execution_count": 1,
     "metadata": {},
     "output_type": "execute_result"
    }
   ],
   "source": [
    "class Ordenador_Combinacion:\n",
    "    \n",
    "    # L = [7, 3]\n",
    "    \n",
    "    \n",
    "    def ordenar(self, lista):\n",
    "        \"\"\"\n",
    "        Ordena la lista usando el algoritmo merge sort\n",
    "        param lista: lista a ordenar\n",
    "        return: lista_ordenada\n",
    "        \"\"\"\n",
    "        #se calcula el largo de la lista\n",
    "        largo_lista = len(lista)\n",
    "        #posicion en el medio\n",
    "        posicion_medio = largo_lista // 2\n",
    "        if(largo_lista > 1):\n",
    "            #si la lista tiene mas de un elemento, entonces la divide por dos, y hace un nuevo\n",
    "            #llamado recursivo\n",
    "            #mitad inferior\n",
    "            lista_parte_inferior = lista[0:posicion_medio]\n",
    "            #mitad superior\n",
    "            lista_parte_superior = lista[posicion_medio:]\n",
    "            #mitad inferior ordenada\n",
    "            lista_parte_inferior_ordenada = self.ordenar(lista_parte_inferior)\n",
    "            #se obtiene la mitad superior ordenada\n",
    "            lista_parte_superior_ordenada = self.ordenar(lista_parte_superior)\n",
    "            #combina la parte inferior y la parte superior ordenadas\n",
    "            return self.combinar_listas(lista_parte_inferior_ordenada, lista_parte_superior_ordenada)\n",
    "            \n",
    "        else:\n",
    "            #en el caso trivial (lista de un elemento), se retorna la misma lista, \n",
    "            #puesto que ya esta ordenada\n",
    "            return lista\n",
    "        \n",
    "        \n",
    "    \n",
    "    def combinar_listas(self, lista_1, lista_2):\n",
    "        \"\"\"\n",
    "        Combina lista_1 y lista_2, para crear una nueva lista ordenada con todos sus elementos\n",
    "        param lista_1: Primer lista \n",
    "        param lista_2: Segunda lista\n",
    "        return nueva lista ordenada con todos los elementos de las listas recibidas\n",
    "        \"\"\"        \n",
    "        if(lista_2 == []):\n",
    "            #si se cumple la condicion de parada, retornamos la lista_1\n",
    "            return lista_1\n",
    "        else:\n",
    "            #se toma el primer elemento en lista_2\n",
    "            elemento = lista_2[0]\n",
    "            #invoca a la funcion que combina el elemento\n",
    "            lista_1 = self.combinar_elemento(lista_1, elemento, posicion = 0)\n",
    "            #llamado recursivo para el resto de la lista_2\n",
    "            return self.combinar_listas(lista_1, lista_2[1:])\n",
    "        \n",
    "    \n",
    "    def combinar_elemento(self, lista, elemento, posicion):\n",
    "        \"\"\"\n",
    "        Combina un elemento en la lista recibida, resultando siempre en una lista ordenada\n",
    "        param lista: lista a insertar el nuevo elemento, de forma ordenada\n",
    "        param elemento: elemento a insertar\n",
    "        return: lista con el nuevo elemento insertado\n",
    "        \"\"\"\n",
    "        #si ya se recorrio la lista completa, o se encuentra un elemento en la posicion que es mayor, se inserta\n",
    "        if(posicion == len(lista) or elemento < lista[posicion]):\n",
    "            #se inserta el elemento en la posicion recibida\n",
    "            lista.insert(posicion, elemento)\n",
    "            return lista\n",
    "        else:\n",
    "            #se incrementa la posicion en el proximo llamado recursivo\n",
    "            return self.combinar_elemento(lista, elemento, posicion + 1)\n",
    "            \n",
    "def probar_combinar_elemento():\n",
    "    \"\"\"\n",
    "    Prueba la funcion combinar elemento\n",
    "    \"\"\"\n",
    "    ordenador = Ordenador_Combinacion()\n",
    "    lista = [3, 5, 6, 9]\n",
    "    elemento = 7    \n",
    "    ordenador.combinar_elemento(lista, elemento, 0)\n",
    "    print(lista)\n",
    "    \n",
    "def probar_combinar_listas():\n",
    "    \"\"\"\n",
    "    Prueba la funcion combinar listas\n",
    "    \"\"\"\n",
    "    ordenador = Ordenador_Combinacion()\n",
    "    lista_1 = [3, 6, 9, 10]\n",
    "    lista_2 = [1, 7, 20, 30]\n",
    "    lista_combinada = ordenador.combinar_listas(lista_1, lista_2)\n",
    "    print(\"lista_combinada \", lista_combinada)\n",
    "    #assertion\n",
    "    return lista_combinada == [1, 3, 6, 7, 9, 10, 20, 30]\n",
    "    \n",
    "    \n",
    "    \n",
    "    \n",
    "probar_combinar_listas()"
   ]
  },
  {
   "cell_type": "code",
   "execution_count": null,
   "id": "28d5a9ee",
   "metadata": {},
   "outputs": [],
   "source": []
  }
 ],
 "metadata": {
  "kernelspec": {
   "display_name": "Python 3 (ipykernel)",
   "language": "python",
   "name": "python3"
  },
  "language_info": {
   "codemirror_mode": {
    "name": "ipython",
    "version": 3
   },
   "file_extension": ".py",
   "mimetype": "text/x-python",
   "name": "python",
   "nbconvert_exporter": "python",
   "pygments_lexer": "ipython3",
   "version": "3.9.7"
  }
 },
 "nbformat": 4,
 "nbformat_minor": 5
}
