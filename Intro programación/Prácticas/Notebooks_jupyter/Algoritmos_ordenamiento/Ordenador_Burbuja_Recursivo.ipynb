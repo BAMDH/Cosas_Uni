{
 "cells": [
  {
   "cell_type": "code",
   "execution_count": 14,
   "metadata": {},
   "outputs": [
    {
     "name": "stdout",
     "output_type": "stream",
     "text": [
      "lista_1 antes de ordenar  [3, 7, 2, 1, -1]\n",
      "lista_1 despues de ordenar  [3, 7, 2, 1, -1]\n",
      "lista_ordenada  [-1, 1, 2, 3, 7]\n"
     ]
    }
   ],
   "source": [
    "class Ordenador_Burbuja:\n",
    "\n",
    "    def intercambiar(self, lista, posicion_1, posicion_2):\n",
    "        \"\"\"\n",
    "        Intercambia los elementos de la posicion_1 a la posicion_2\n",
    "        param posicion_1: se asume posicion valida dentro de la lista\n",
    "        param posicion_2: se asume posicion valida dentro de la lista\n",
    "        return: lista con el intercambio de los elementos\n",
    "        \"\"\"\n",
    "        var_temporal = lista[posicion_1]\n",
    "        lista[posicion_1] = lista[posicion_2]\n",
    "        lista[posicion_2] = var_temporal\n",
    "\n",
    "\n",
    "    def flotar_burbuja(self, lista, pivote_burbuja, posicion_actual):\n",
    "        \"\"\"\n",
    "        Recibe una lista, con un pivote de la burbuja y la posicion actual para flotar\n",
    "        la burbuja\n",
    "        param pivote_burbuja: limite maximo hasta donde puede flotar la burbuja\n",
    "        param posicion_actual: pivote que indica la posicion que analiza para el intercambio \n",
    "        (flotado de la burbuja)    \n",
    "        \"\"\"\n",
    "        #siempre y cuando la posicion_actual no este antes del pivote de la burbuja\n",
    "        #se sigue analizando la lista desde posicion_actual hasta pivote_burbuja\n",
    "        if(posicion_actual < pivote_burbuja):\n",
    "            #verifica si se debe hacer el intercambio (para que flote la burbuja)\n",
    "            if(lista[posicion_actual] > lista[posicion_actual + 1]):\n",
    "                #se realiza el intercambio en caso afirmativo\n",
    "                self.intercambiar(lista, posicion_actual, posicion_actual + 1)\n",
    "            #se hace el llamado recursivo incrementando la posicion_actual\n",
    "            return self.flotar_burbuja(lista, pivote_burbuja, posicion_actual + 1)    \n",
    "\n",
    "    def ordenar(self, lista):\n",
    "        \"\"\"\n",
    "        Ordena la lista de forma ascendente\n",
    "        param lista: lista a ordenar\n",
    "        return: lista ordenada\n",
    "        \"\"\"\n",
    "        lista_copia = lista.copy()\n",
    "        if(isinstance(lista, list)):\n",
    "            #se inicializa el pivote de la burbuja\n",
    "            pivote_burbuja = len(lista_copia) - 1 \n",
    "            return self.ordenar_burbuja_aux(lista_copia, pivote_burbuja)\n",
    "        else:\n",
    "            raise ValueError(\"Tipo de datos incorrecto\")\n",
    "\n",
    "    def ordenar_burbuja_aux(self, lista, pivote_burbuja):\n",
    "        \"\"\"\n",
    "        Funcion que implementa de forma recursiva el algoritmo de burbuja\n",
    "        param lista: lista a ordenar\n",
    "        param pivote_burbuja: marca hasta donde debe flotar la burbuja\n",
    "        return: lista ordenada\n",
    "        \"\"\"\n",
    "        #se verifica que el pivote_burbuja no haya llegado al inicio de la lista\n",
    "        if(pivote_burbuja > 0):\n",
    "            #se inicializa la posicion_actual siempre en 0\n",
    "            posicion_actual = 0\n",
    "            #se invoca a flotar_burbuja\n",
    "            self.flotar_burbuja(lista, pivote_burbuja, posicion_actual)\n",
    "            #se hace un llamado recursivo\n",
    "            pivote_burbuja -= 1\n",
    "            return self.ordenar_burbuja_aux(lista, pivote_burbuja)\n",
    "        else:\n",
    "            #se llega a la condicion de parada, por lo que se retorna la lista\n",
    "            return lista\n",
    "\n",
    "def probar_algoritmo_burbuja():\n",
    "    lista_1 = [3, 7, 2, 1, -1] \n",
    "    print(\"lista_1 antes de ordenar \", lista_1)\n",
    "    #se construye la instancia del ordenador\n",
    "    ordenador_burbuja = Ordenador_Burbuja()\n",
    "    #se invoca al metodo ordenar del ordenador_burbuja\n",
    "    lista_ordenada = ordenador_burbuja.ordenar(lista_1)\n",
    "    print(\"lista_1 despues de ordenar \", lista_1)\n",
    "    print(\"lista_ordenada \", lista_ordenada)\n",
    "    \n",
    "probar_algoritmo_burbuja()\n"
   ]
  },
  {
   "cell_type": "markdown",
   "metadata": {},
   "source": [
    "## Ejemplo de Clase"
   ]
  },
  {
   "cell_type": "code",
   "execution_count": 12,
   "metadata": {},
   "outputs": [
    {
     "name": "stdout",
     "output_type": "stream",
     "text": [
      "Se llamo constructor\n",
      "guao guao mi color de pelo es:  negro  y mi color de ojos es:  cafe\n",
      "Se llamo constructor\n",
      "guao guao mi color de pelo es:  cafe  y mi color de ojos es:  cafe\n",
      "<class '__main__.Perro'>\n"
     ]
    }
   ],
   "source": [
    "#Entidad perro: con los atributos color_pelo y color_ojos\n",
    "#metodo ladrar\n",
    "class Perro:\n",
    "    def __init__(self, color_pelo_inicial, color_ojos_inicial):\n",
    "        \"\"\"\n",
    "        Constructor de la clase Perro\n",
    "        param color_pelo_inicial: color de pelo con el que nace el perro\n",
    "        param color_ojos_inicial: color de ojos con el que nace el perro\n",
    "        return una instancia de la clase Perro\n",
    "        \"\"\"\n",
    "        print(\"Se llamo constructor\")\n",
    "        self.color_pelo = color_pelo_inicial\n",
    "        self.color_ojos = color_ojos_inicial\n",
    "        \n",
    "    def ladrar(self):\n",
    "        print(\"guao guao mi color de pelo es: \", self.color_pelo, \" y mi color de ojos es: \", self.color_ojos)\n",
    "\n",
    "def probar_perros():\n",
    "    perro_de_erick = Perro(\"negro\", \"cafe\")\n",
    "    perro_de_erick.ladrar()\n",
    "    perro_de_isaac = Perro(\"cafe\", \"cafe\")\n",
    "    perro_de_isaac.ladrar()\n",
    "    print(type(perro_de_isaac))\n",
    "    \n",
    "    \n",
    "probar_perros()    \n",
    "        "
   ]
  },
  {
   "cell_type": "code",
   "execution_count": null,
   "metadata": {},
   "outputs": [],
   "source": []
  }
 ],
 "metadata": {
  "kernelspec": {
   "display_name": "Python 3",
   "language": "python",
   "name": "python3"
  },
  "language_info": {
   "codemirror_mode": {
    "name": "ipython",
    "version": 3
   },
   "file_extension": ".py",
   "mimetype": "text/x-python",
   "name": "python",
   "nbconvert_exporter": "python",
   "pygments_lexer": "ipython3",
   "version": "3.7.6"
  }
 },
 "nbformat": 4,
 "nbformat_minor": 4
}
