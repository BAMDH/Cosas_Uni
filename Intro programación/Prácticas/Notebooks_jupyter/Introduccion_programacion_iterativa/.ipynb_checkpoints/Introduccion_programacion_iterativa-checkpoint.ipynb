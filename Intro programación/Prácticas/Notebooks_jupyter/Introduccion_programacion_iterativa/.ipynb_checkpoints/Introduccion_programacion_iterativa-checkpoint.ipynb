{
 "cells": [
  {
   "cell_type": "markdown",
   "id": "1072a6a0",
   "metadata": {},
   "source": [
    "# Programacion iterativa\n",
    "1. Repeticion de un conjunto de $m$ instrucciones por $n$ veces.\n",
    "2. Se controlan con banderas o contadores\n",
    "3. Python implementa dos estructuras de repeticion basicas: el $while$ y el $for$\n",
    "4. Una bandera contiene un valor logico (True o False) el cual depende de una o mas expresiones logicas\n",
    "5. Un contador contiene un valor entero, el cual usualmente se incrementa o decrementa en cada iteracion"
   ]
  },
  {
   "cell_type": "markdown",
   "id": "46cd11d8",
   "metadata": {},
   "source": [
    "## Estructura de repeticion while"
   ]
  },
  {
   "cell_type": "code",
   "execution_count": 4,
   "id": "096208ee",
   "metadata": {},
   "outputs": [
    {
     "name": "stdout",
     "output_type": "stream",
     "text": [
      "Inserte su nota 45\n",
      "Inserte su nota 65\n",
      "Inserte su nota 90\n"
     ]
    }
   ],
   "source": [
    "bandera = False\n",
    "def repetir_while():\n",
    "    #condicion de parada\n",
    "    while(not bandera):\n",
    "        nota = int(input(\"Inserte su nota \"))\n",
    "        bandera = nota > 70\n",
    "    \n",
    "    \n",
    "def repetir_recursivamente():\n",
    "    nota = int(input(\"Inserte su nota \"))\n",
    "    bandera = nota > 70\n",
    "    #condicion de parada\n",
    "    if(not bandera):\n",
    "        repetir_recursivamente()\n",
    "\n",
    "repetir_recursivamente()"
   ]
  },
  {
   "cell_type": "code",
   "execution_count": 6,
   "id": "2cea486f",
   "metadata": {},
   "outputs": [
    {
     "name": "stdout",
     "output_type": "stream",
     "text": [
      "Repeticion de instrucciones  5\n",
      "Repeticion de instrucciones  4\n",
      "Repeticion de instrucciones  3\n",
      "Repeticion de instrucciones  2\n",
      "Repeticion de instrucciones  1\n",
      "Repeticion de instrucciones  0\n"
     ]
    }
   ],
   "source": [
    "def repetir_while_contador(n):\n",
    "    contador = n\n",
    "    while(contador >= 0):\n",
    "        print(\"Repeticion de instrucciones \", contador)\n",
    "        contador -= 1\n",
    "        \n",
    "\n",
    "repetir_while_contador(5)        \n",
    "    "
   ]
  },
  {
   "cell_type": "markdown",
   "id": "a5d482af",
   "metadata": {},
   "source": [
    "## Estructura de repeticion for"
   ]
  },
  {
   "cell_type": "code",
   "execution_count": 15,
   "id": "dce14eaf",
   "metadata": {},
   "outputs": [
    {
     "name": "stdout",
     "output_type": "stream",
     "text": [
      "1\n",
      "7\n",
      "9\n",
      "3\n"
     ]
    }
   ],
   "source": [
    "def repetir_instrucciones_for(n):\n",
    "    rango = range(0, n)\n",
    "    #print(\"rango \", type(rango))\n",
    "    #por defecto se incrementa en 1\n",
    "    for contador in range(0, n):\n",
    "        print(\"contador \", contador)\n",
    "        \n",
    "def repetir_instrucciones_for_de_2_en_2(n):\n",
    "    rango = range(0, n)\n",
    "    #print(\"rango \", type(rango))\n",
    "    #por defecto se incrementa en 1\n",
    "    paso = 2\n",
    "    for contador in range(0, n, paso):\n",
    "        print(\"contador \", contador)\n",
    "\n",
    "def recorrer_lista_con_rango(lista):\n",
    "    #se crea un indice i que se mueve por un rango\n",
    "    for i in range(0, len(lista)):\n",
    "        print(lista[i])        \n",
    "        \n",
    "def recorrer_lista_con_iterador(lista):\n",
    "    #crea un interador que itera por la lista\n",
    "    for elemento in lista:\n",
    "        print(elemento)\n",
    "    \n",
    "    \n",
    "recorrer_lista_con_rango([1, 7, 9, 3])"
   ]
  },
  {
   "cell_type": "markdown",
   "id": "c5fd823b",
   "metadata": {},
   "source": [
    "## Ejemplo 1: Construir un nuevo numero con los digitos pares del numero de entrada"
   ]
  },
  {
   "cell_type": "code",
   "execution_count": 19,
   "id": "4f3c7122",
   "metadata": {},
   "outputs": [
    {
     "name": "stdout",
     "output_type": "stream",
     "text": [
      "numero con pares  2468\n",
      "numero con pares  0\n",
      "numero con pares  2\n"
     ]
    }
   ],
   "source": [
    "def construir_con_pares(numero):\n",
    "    \"\"\"\n",
    "    Construye un nuevo numero con los digitos pares de numero\n",
    "    param numero: numero de entrada a manipular\n",
    "    return: nuevo numero con solamente los digitos pares de numero\n",
    "    \"\"\"\n",
    "    #acumulador el resultado final\n",
    "    numero_con_pares = 0\n",
    "    #numero de digito actual a procesar\n",
    "    numero_digito = 0\n",
    "    #si el numero no se ha recorrido por completo, continuar con el bucle\n",
    "    while(numero != 0):\n",
    "        #se extrae el digito menos significativo\n",
    "        digito_menos_significativo = numero % 10\n",
    "        #se concatena ese digito menos significativo, siempre y cuando sea par\n",
    "        if(digito_menos_significativo % 2 == 0):\n",
    "            numero_con_pares += digito_menos_significativo * (10 ** numero_digito)\n",
    "            #se incrementa el numero de digito actual en el resultado\n",
    "            numero_digito += 1\n",
    "        #se descarta el digito menos significativo\n",
    "        numero //= 10\n",
    "    #retorna el numero con pares\n",
    "    #siempre se recomienda dejar el return al final de la funcion\n",
    "    return numero_con_pares\n",
    "\n",
    "print(\"numero con pares \", construir_con_pares(321456778))\n",
    "print(\"numero con pares \", construir_con_pares(11111))\n",
    "print(\"numero con pares \", construir_con_pares(55213))"
   ]
  },
  {
   "cell_type": "markdown",
   "id": "2739cc3f",
   "metadata": {},
   "source": [
    "## Ejemplo 2: Eliminar elemento de una lista"
   ]
  },
  {
   "cell_type": "code",
   "execution_count": null,
   "id": "dc1629b4",
   "metadata": {},
   "outputs": [],
   "source": [
    "def eliminar_elemento_en_lista(elemento_a_eliminar, lista):\n",
    "    \"\"\"\n",
    "    Elimina todas las apariciones de elemento_a_eliminar en lista\n",
    "    param elemento_a_eliminar: elemento a eliminar\n",
    "    \"\"\"\n",
    "    #creamos la lista con el resultado\n",
    "    lista_nueva = []\n",
    "    #iteramos por todos los elementos\n",
    "    for elemento in lista:\n",
    "        #si el elemento es distinto al elemento_a_eliminar, lo concatenamos\n",
    "        if(elemento != elemento_a_eliminar):\n",
    "            lista_nueva += [elemento]\n",
    "    #lista_nueva contiene los elementos distintos al elemento a eliminar\n",
    "    return lista_nueva\n",
    "            "
   ]
  }
 ],
 "metadata": {
  "kernelspec": {
   "display_name": "Python 3 (ipykernel)",
   "language": "python",
   "name": "python3"
  },
  "language_info": {
   "codemirror_mode": {
    "name": "ipython",
    "version": 3
   },
   "file_extension": ".py",
   "mimetype": "text/x-python",
   "name": "python",
   "nbconvert_exporter": "python",
   "pygments_lexer": "ipython3",
   "version": "3.9.7"
  }
 },
 "nbformat": 4,
 "nbformat_minor": 5
}
