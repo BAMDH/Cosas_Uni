{
 "cells": [
  {
   "cell_type": "code",
   "execution_count": 2,
   "id": "93479743",
   "metadata": {},
   "outputs": [
    {
     "name": "stdout",
     "output_type": "stream",
     "text": [
      "384\n"
     ]
    }
   ],
   "source": [
    "def doble_fact(numero): \n",
    "    if(isinstance(numero, int) and numero >= 0): \n",
    "        return doble_fact_aux(numero) \n",
    "    else: \n",
    "        raise ValueError(\"Error en la entrada con el tipo de datos\") \n",
    "         \n",
    "def doble_fact_aux(numero): \n",
    "    if(numero == 0) or (numero == 1): \n",
    "        return 1 \n",
    "    else: \n",
    "        return doble_fact_aux(numero-2)*numero \n",
    " \n",
    "print(doble_fact(8))"
   ]
  },
  {
   "cell_type": "code",
   "execution_count": 3,
   "id": "b149ec59",
   "metadata": {},
   "outputs": [
    {
     "name": "stdout",
     "output_type": "stream",
     "text": [
      "Todos los números son divisibles:  True\n"
     ]
    }
   ],
   "source": [
    "def divisible(num, lista):\n",
    "  if(isinstance(num, int) and isinstance(lista, list)):\n",
    "    return divisible_aux(num, lista, num_divisible = 0)\n",
    "  else: raise ValueError(\"Los datos son incorrectos\")\n",
    "\n",
    "def divisible_aux(num, lista, num_divisible):\n",
    "  if(lista != []):\n",
    "    num_divisible = lista[0]\n",
    "    if(num_divisible % num == 0):\n",
    "      return divisible_aux(num, lista[1 : ], num_divisible)\n",
    "    else:\n",
    "      return False\n",
    "  else: \n",
    "    return True\n",
    "\n",
    "print(\"Todos los números son divisibles: \", divisible(2, [2, 4, 6, 8]))"
   ]
  },
  {
   "cell_type": "code",
   "execution_count": null,
   "id": "77312f8f",
   "metadata": {},
   "outputs": [],
   "source": [
    "def buscar_binario(elemento_a_buscar, lista_ordenada):\n",
    "    if(isinstance(lista_ordenada, list) and isinstance(elemento_buscar, int)):\n",
    "        pivote_inferior = 0\n",
    "        pivote_superior = len(lista_ordenada)\n",
    "        return buscar_binario_aux(elemento_a_buscar, lista_ordenada, pivote_inferior, pivote_superior)\n",
    "    else:\n",
    "        raise ValueError(\"Tipo de datos incorrecto\")\n",
    "        \n",
    "def buscar_binario_aux(elemento_a_buscar, lista_ordenada, pivote_inferior, pivote_superior):\n",
    "    pivote_medio = (pivote_superior - pivote_inferior) // 2 + 1\n",
    "    if(elemento == lista_ordenada[pivote_medio]):\n",
    "        return pivote_medio\n",
    "    elif(elemento_a_buscar < lista_ordenada[pivote_medio]):\n",
    "        #debemos seguir buscando en la lista inferior\n",
    "        pivote_superior = pivote_medio - 1\n",
    "        return buscar_binario_aux(elemento_a_buscar, lista_ordenada, pivote_inferior, pivote_superior)\n",
    "    else:\n",
    "        pivote_inferior = pivote_medio + 1\n",
    "        return buscar_binario_aux(elemento_a_buscar, lista_ordenada, pivote_inferior, pivote_superior)\n",
    "    \n",
    "        "
   ]
  }
 ],
 "metadata": {
  "kernelspec": {
   "display_name": "Python 3 (ipykernel)",
   "language": "python",
   "name": "python3"
  },
  "language_info": {
   "codemirror_mode": {
    "name": "ipython",
    "version": 3
   },
   "file_extension": ".py",
   "mimetype": "text/x-python",
   "name": "python",
   "nbconvert_exporter": "python",
   "pygments_lexer": "ipython3",
   "version": "3.9.7"
  }
 },
 "nbformat": 4,
 "nbformat_minor": 5
}
