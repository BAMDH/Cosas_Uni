{
 "cells": [
  {
   "cell_type": "markdown",
   "id": "bb9eb119",
   "metadata": {},
   "source": [
    "# Operadores basicos de listas\n",
    "## 1. Indexacion basica"
   ]
  },
  {
   "cell_type": "code",
   "execution_count": 9,
   "id": "80726071",
   "metadata": {},
   "outputs": [
    {
     "name": "stdout",
     "output_type": "stream",
     "text": [
      "segundo elemento de la listas  8\n"
     ]
    }
   ],
   "source": [
    "lista_1 = [8, 9, 4, 1]\n",
    "print(\"segundo elemento de la listas \", lista_1[0])"
   ]
  },
  {
   "cell_type": "code",
   "execution_count": 2,
   "id": "43199c4f",
   "metadata": {},
   "outputs": [
    {
     "name": "stdout",
     "output_type": "stream",
     "text": [
      "ultimo elemento de la lista  1\n"
     ]
    }
   ],
   "source": [
    "#ultimo elemento\n",
    "print(\"ultimo elemento de la lista \", lista_1[-1])"
   ]
  },
  {
   "cell_type": "code",
   "execution_count": 5,
   "id": "5c991acd",
   "metadata": {},
   "outputs": [
    {
     "name": "stdout",
     "output_type": "stream",
     "text": [
      "tamanio_lista  4\n",
      "ultimo elemento de la lista  1\n"
     ]
    }
   ],
   "source": [
    "tamanio_lista = len(lista_1)\n",
    "print(\"tamanio_lista \", tamanio_lista)\n",
    "print(\"ultimo elemento de la lista \", lista_1[tamanio_lista - 1])"
   ]
  },
  {
   "cell_type": "markdown",
   "id": "3cde0e70",
   "metadata": {},
   "source": [
    "## Indexacion por rebanado"
   ]
  },
  {
   "cell_type": "code",
   "execution_count": 14,
   "id": "baa729ea",
   "metadata": {},
   "outputs": [
    {
     "name": "stdout",
     "output_type": "stream",
     "text": [
      "lista_nueva  [4]\n"
     ]
    }
   ],
   "source": [
    "lista_nueva = lista_1[2 : 4]\n",
    "print(\"lista_nueva \", lista_nueva)"
   ]
  },
  {
   "cell_type": "code",
   "execution_count": null,
   "id": "37816f16",
   "metadata": {},
   "outputs": [],
   "source": [
    "lista_nueva = lista_1[-2 : -1]\n",
    "print(\"lista_nueva \", lista_nueva)"
   ]
  },
  {
   "cell_type": "markdown",
   "id": "4e338cc4",
   "metadata": {},
   "source": [
    "## Descarte del primer y ultimo elemento"
   ]
  },
  {
   "cell_type": "code",
   "execution_count": 15,
   "id": "9fbe3ef2",
   "metadata": {},
   "outputs": [
    {
     "name": "stdout",
     "output_type": "stream",
     "text": [
      "lista_nueva_2  [9, 4, 1]\n"
     ]
    }
   ],
   "source": [
    "lista_nueva_2 = lista_1[1:]\n",
    "print(\"lista_nueva_2 \", lista_nueva_2)"
   ]
  },
  {
   "cell_type": "code",
   "execution_count": 16,
   "id": "92321193",
   "metadata": {},
   "outputs": [
    {
     "name": "stdout",
     "output_type": "stream",
     "text": [
      "lista_nueva_2  [8, 9, 4]\n"
     ]
    }
   ],
   "source": [
    "lista_nueva_2 = lista_1[0:-1]\n",
    "print(\"lista_nueva_2 \", lista_nueva_2)"
   ]
  },
  {
   "cell_type": "markdown",
   "id": "1aae58ba",
   "metadata": {},
   "source": [
    "## Concatenacion de listas\n",
    "Dos operandos deben ser listas para el operador de +"
   ]
  },
  {
   "cell_type": "code",
   "execution_count": 17,
   "id": "daf0212a",
   "metadata": {},
   "outputs": [
    {
     "name": "stdout",
     "output_type": "stream",
     "text": [
      "lista_concatenada  [8, 9, 4, 1, 76, 98, 125]\n"
     ]
    }
   ],
   "source": [
    "lista_2 = [76, 98, 125]\n",
    "lista_concatenada = lista_1 + lista_2\n",
    "print(\"lista_concatenada \", lista_concatenada)"
   ]
  },
  {
   "cell_type": "code",
   "execution_count": 19,
   "id": "12415599",
   "metadata": {},
   "outputs": [
    {
     "name": "stdout",
     "output_type": "stream",
     "text": [
      "lista_nueva_2  [76, 98, 125, 3]\n"
     ]
    }
   ],
   "source": [
    "lista_nueva_2 = [3] + lista_2 \n",
    "print(\"lista_nueva_2 \", lista_nueva_2)"
   ]
  },
  {
   "cell_type": "code",
   "execution_count": 20,
   "id": "22f5359a",
   "metadata": {},
   "outputs": [
    {
     "name": "stdout",
     "output_type": "stream",
     "text": [
      "lista_nueva_2  [76, 98, 3, 125]\n"
     ]
    }
   ],
   "source": [
    "lista_nueva_2 = lista_2[0:2] + [3] + lista_2[2:]\n",
    "print(\"lista_nueva_2 \", lista_nueva_2)"
   ]
  },
  {
   "cell_type": "code",
   "execution_count": null,
   "id": "8009d688",
   "metadata": {},
   "outputs": [],
   "source": []
  }
 ],
 "metadata": {
  "kernelspec": {
   "display_name": "Python 3 (ipykernel)",
   "language": "python",
   "name": "python3"
  },
  "language_info": {
   "codemirror_mode": {
    "name": "ipython",
    "version": 3
   },
   "file_extension": ".py",
   "mimetype": "text/x-python",
   "name": "python",
   "nbconvert_exporter": "python",
   "pygments_lexer": "ipython3",
   "version": "3.9.7"
  }
 },
 "nbformat": 4,
 "nbformat_minor": 5
}
