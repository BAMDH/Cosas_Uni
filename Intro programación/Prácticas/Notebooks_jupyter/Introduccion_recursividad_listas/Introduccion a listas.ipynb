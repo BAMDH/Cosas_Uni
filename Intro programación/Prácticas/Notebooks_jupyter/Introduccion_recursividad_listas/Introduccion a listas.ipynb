{
 "cells": [
  {
   "cell_type": "markdown",
   "id": "5cceb55c",
   "metadata": {},
   "source": [
    "# Operadores basicos de listas\n",
    "## 1. Indexacion basica"
   ]
  },
  {
   "cell_type": "code",
   "execution_count": 9,
   "id": "ea5f77a1",
   "metadata": {},
   "outputs": [
    {
     "name": "stdout",
     "output_type": "stream",
     "text": [
      "segundo elemento de la listas  8\n"
     ]
    }
   ],
   "source": [
    "lista_1 = [8, 9, 4, 1]\n",
    "print(\"segundo elemento de la listas \", lista_1[0])"
   ]
  },
  {
   "cell_type": "code",
   "execution_count": 2,
   "id": "ee3b6f62",
   "metadata": {},
   "outputs": [
    {
     "name": "stdout",
     "output_type": "stream",
     "text": [
      "ultimo elemento de la lista  1\n"
     ]
    }
   ],
   "source": [
    "#ultimo elemento\n",
    "print(\"ultimo elemento de la lista \", lista_1[-1])"
   ]
  },
  {
   "cell_type": "code",
   "execution_count": 5,
   "id": "119e1326",
   "metadata": {},
   "outputs": [
    {
     "name": "stdout",
     "output_type": "stream",
     "text": [
      "tamanio_lista  4\n",
      "ultimo elemento de la lista  1\n"
     ]
    }
   ],
   "source": [
    "tamanio_lista = len(lista_1)\n",
    "print(\"tamanio_lista \", tamanio_lista)\n",
    "print(\"ultimo elemento de la lista \", lista_1[tamanio_lista - 1])"
   ]
  },
  {
   "cell_type": "markdown",
   "id": "2b460fb3",
   "metadata": {},
   "source": [
    "## Indexacion por rebanado"
   ]
  },
  {
   "cell_type": "code",
   "execution_count": 14,
   "id": "c606ba4c",
   "metadata": {},
   "outputs": [
    {
     "name": "stdout",
     "output_type": "stream",
     "text": [
      "lista_nueva  [4]\n"
     ]
    }
   ],
   "source": [
    "lista_nueva = lista_1[2 : 4]\n",
    "print(\"lista_nueva \", lista_nueva)"
   ]
  },
  {
   "cell_type": "code",
   "execution_count": null,
   "id": "40b93d6f",
   "metadata": {},
   "outputs": [],
   "source": [
    "lista_nueva = lista_1[-2 : -1]\n",
    "print(\"lista_nueva \", lista_nueva)"
   ]
  },
  {
   "cell_type": "markdown",
   "id": "847a0b63",
   "metadata": {},
   "source": [
    "## Descarte del primer y ultimo elemento"
   ]
  },
  {
   "cell_type": "code",
   "execution_count": 15,
   "id": "6c8a843b",
   "metadata": {},
   "outputs": [
    {
     "name": "stdout",
     "output_type": "stream",
     "text": [
      "lista_nueva_2  [9, 4, 1]\n"
     ]
    }
   ],
   "source": [
    "lista_nueva_2 = lista_1[1:]\n",
    "print(\"lista_nueva_2 \", lista_nueva_2)"
   ]
  },
  {
   "cell_type": "code",
   "execution_count": 16,
   "id": "efc084ec",
   "metadata": {},
   "outputs": [
    {
     "name": "stdout",
     "output_type": "stream",
     "text": [
      "lista_nueva_2  [8, 9, 4]\n"
     ]
    }
   ],
   "source": [
    "lista_nueva_2 = lista_1[0:-1]\n",
    "print(\"lista_nueva_2 \", lista_nueva_2)"
   ]
  },
  {
   "cell_type": "markdown",
   "id": "6e98ae31",
   "metadata": {},
   "source": [
    "## Concatenacion de listas\n",
    "Dos operandos deben ser listas para el operador de +"
   ]
  },
  {
   "cell_type": "code",
   "execution_count": 17,
   "id": "8fd93b09",
   "metadata": {},
   "outputs": [
    {
     "name": "stdout",
     "output_type": "stream",
     "text": [
      "lista_concatenada  [8, 9, 4, 1, 76, 98, 125]\n"
     ]
    }
   ],
   "source": [
    "lista_2 = [76, 98, 125]\n",
    "lista_concatenada = lista_1 + lista_2\n",
    "print(\"lista_concatenada \", lista_concatenada)"
   ]
  },
  {
   "cell_type": "code",
   "execution_count": 19,
   "id": "32133ad8",
   "metadata": {},
   "outputs": [
    {
     "name": "stdout",
     "output_type": "stream",
     "text": [
      "lista_nueva_2  [76, 98, 125, 3]\n"
     ]
    }
   ],
   "source": [
    "lista_nueva_2 = [3] + lista_2 \n",
    "print(\"lista_nueva_2 \", lista_nueva_2)"
   ]
  },
  {
   "cell_type": "code",
   "execution_count": 20,
   "id": "b3cb0f08",
   "metadata": {},
   "outputs": [
    {
     "name": "stdout",
     "output_type": "stream",
     "text": [
      "lista_nueva_2  [76, 98, 3, 125]\n"
     ]
    }
   ],
   "source": [
    "lista_nueva_2 = lista_2[0:2] + [3] + lista_2[2:]\n",
    "print(\"lista_nueva_2 \", lista_nueva_2)"
   ]
  },
  {
   "cell_type": "code",
   "execution_count": null,
   "id": "4b107ca8",
   "metadata": {},
   "outputs": [],
   "source": [
    "lista_vacia = []"
   ]
  },
  {
   "cell_type": "markdown",
   "id": "47663f19",
   "metadata": {},
   "source": [
    "## Calcular el largo de una lista"
   ]
  },
  {
   "cell_type": "code",
   "execution_count": 21,
   "id": "294a401f",
   "metadata": {},
   "outputs": [
    {
     "name": "stdout",
     "output_type": "stream",
     "text": [
      "largo lista  4\n"
     ]
    }
   ],
   "source": [
    "def calcular_largo_lista(lista):\n",
    "    if(isinstance(lista, list)):\n",
    "        return calcular_largo_lista_aux(lista)\n",
    "    else:\n",
    "        raise ValueError(\"Tipo de datos incorrecto\")\n",
    "def calcular_largo_lista_aux(lista):\n",
    "    if(lista == []):\n",
    "        return 0\n",
    "    else:\n",
    "        return 1 + calcular_largo_lista_aux(lista[1 : ])\n",
    "lista_1 = [1, 2, 3, 5]\n",
    "print(\"largo lista \", calcular_largo_lista(lista_1))"
   ]
  },
  {
   "cell_type": "code",
   "execution_count": null,
   "id": "ffa769e6",
   "metadata": {},
   "outputs": [],
   "source": []
  }
 ],
 "metadata": {
  "kernelspec": {
   "display_name": "Python 3 (ipykernel)",
   "language": "python",
   "name": "python3"
  },
  "language_info": {
   "codemirror_mode": {
    "name": "ipython",
    "version": 3
   },
   "file_extension": ".py",
   "mimetype": "text/x-python",
   "name": "python",
   "nbconvert_exporter": "python",
   "pygments_lexer": "ipython3",
   "version": "3.9.7"
  }
 },
 "nbformat": 4,
 "nbformat_minor": 5
}
