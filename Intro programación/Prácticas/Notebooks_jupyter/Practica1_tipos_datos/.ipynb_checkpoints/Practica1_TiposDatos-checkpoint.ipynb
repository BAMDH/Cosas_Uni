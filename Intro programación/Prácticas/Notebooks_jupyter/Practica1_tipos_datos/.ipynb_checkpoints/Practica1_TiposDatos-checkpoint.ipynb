{
 "cells": [
  {
   "cell_type": "markdown",
   "metadata": {
    "colab_type": "text",
    "id": "mVqaSXBQTIF2"
   },
   "source": [
    "# Practica 1: Tipos de datos\n",
    "A continuación se muestran los tipos de datos nativos de Python. Se utilizarán las funciones *type* e *isinstance* para verificar el tipo de datos"
   ]
  },
  {
   "cell_type": "markdown",
   "metadata": {
    "colab_type": "text",
    "id": "H80JPWpzS1k4"
   },
   "source": [
    "# Tipo de datos Numéricos: enteros (int)\n",
    "\n",
    "Los enteros se inicializan con literales numéricos sin parte decimal. La palabra reservada 'int', es el literal del tipo de dato entero."
   ]
  },
  {
   "cell_type": "code",
   "execution_count": 2,
   "metadata": {
    "colab": {
     "base_uri": "https://localhost:8080/",
     "height": 34
    },
    "colab_type": "code",
    "id": "tx75jq9iTEle",
    "outputId": "e10a1568-0bae-4a13-f4b1-5d88f3c45114"
   },
   "outputs": [
    {
     "name": "stdout",
     "output_type": "stream",
     "text": [
      "tipo de datos  <class 'int'>\n"
     ]
    }
   ],
   "source": [
    "\n",
    "\n",
    "#inicializacion con un literal\n",
    "numero = 5\n",
    "tipoDatoNumero = type(numero)\n",
    "#inicializacion con el resultado de una operacion\n",
    "numero_2 = numero + numero\n",
    "\n",
    "print(\"tipo de datos \", tipoDatoNumero)"
   ]
  },
  {
   "cell_type": "markdown",
   "metadata": {
    "colab_type": "text",
    "id": "c1bsDxoxUFB0"
   },
   "source": [
    "Verificamos que el tipo de dato de la variable 'numero', sea entera, comparando su tipo de dato, o usando la función *isinstance*."
   ]
  },
  {
   "cell_type": "code",
   "execution_count": 8,
   "metadata": {
    "colab": {
     "base_uri": "https://localhost:8080/",
     "height": 52
    },
    "colab_type": "code",
    "id": "RzE_jQ-PUP7r",
    "outputId": "c82b371d-86ed-4526-957c-8b182f7b6e2e"
   },
   "outputs": [
    {
     "name": "stdout",
     "output_type": "stream",
     "text": [
      "La variable numero  es del tipo esperado?  False\n"
     ]
    }
   ],
   "source": [
    "numero = \"hola mundo\"\n",
    "es_del_tipo = isinstance(numero, int)\n",
    "\n",
    "print(\"La variable numero  es del tipo esperado? \", es_del_tipo)"
   ]
  },
  {
   "cell_type": "markdown",
   "metadata": {
    "colab_type": "text",
    "id": "tKG4OfuDeibE"
   },
   "source": [
    "## Tipos de datos numéricos: booleanos (bool)\n",
    "Un dato de tipo booleano, o variable booleana puede tomar únicamente dos valores, True o False."
   ]
  },
  {
   "cell_type": "code",
   "execution_count": 11,
   "metadata": {},
   "outputs": [
    {
     "name": "stdout",
     "output_type": "stream",
     "text": [
      "Or de variables  True\n"
     ]
    }
   ],
   "source": [
    "#1 entero\n",
    "variable_booleana_1 = True\n",
    "or_variables = variable_booleana_1 or False\n",
    "print(\"Or de variables \", or_variables)"
   ]
  },
  {
   "cell_type": "code",
   "execution_count": 12,
   "metadata": {
    "colab": {
     "base_uri": "https://localhost:8080/",
     "height": 52
    },
    "colab_type": "code",
    "id": "gPOpaOFPexox",
    "outputId": "5e4d3dfe-3688-4693-cf90-5f242916b66c"
   },
   "outputs": [
    {
     "name": "stdout",
     "output_type": "stream",
     "text": [
      "True\n",
      "Es la variable variableBooleana booleana? True\n"
     ]
    }
   ],
   "source": [
    "\n",
    "print(variable_booleana_1)\n",
    "#verificamos el tipo de datos\n",
    "es_booleana = isinstance(variable_booleana_1, bool)\n",
    "print(\"Es la variable variableBooleana booleana?\", es_booleana)"
   ]
  },
  {
   "cell_type": "markdown",
   "metadata": {
    "colab_type": "text",
    "id": "Lub9094xfrgE"
   },
   "source": [
    "Los operadores relacionales como ==, >, <, <=, >=, dan como resultado siempre un valor booleano"
   ]
  },
  {
   "cell_type": "code",
   "execution_count": 17,
   "metadata": {
    "colab": {
     "base_uri": "https://localhost:8080/",
     "height": 52
    },
    "colab_type": "code",
    "id": "Sd7F55pUgF8A",
    "outputId": "0fcc05c6-8bce-436c-dd59-5c15d717815e"
   },
   "outputs": [
    {
     "name": "stdout",
     "output_type": "stream",
     "text": [
      "Resultado de la comparacion  True\n",
      "Resultado de la resta 0\n"
     ]
    }
   ],
   "source": [
    "op_comparacion = True == True\n",
    "\n",
    "print(\"Resultado de la comparacion \", op_comparacion)\n",
    "\n",
    "\n",
    "variable1 = True\n",
    "variable2 = True\n",
    "resta = variable1 - variable2\n",
    "print(\"Resultado de la resta\", resta)"
   ]
  },
  {
   "cell_type": "markdown",
   "metadata": {
    "colab_type": "text",
    "id": "1z7whAFEg8rF"
   },
   "source": [
    "## Tipos de datos numéricos: Números reales (float)\n",
    "Los números reales incluyen una parte decimal, por lo que posibilita la representación de fracciones."
   ]
  },
  {
   "cell_type": "code",
   "execution_count": 29,
   "metadata": {},
   "outputs": [
    {
     "name": "stdout",
     "output_type": "stream",
     "text": [
      "numero_real_3 es este  1000000.0\n"
     ]
    }
   ],
   "source": [
    "numero_real_1 = 3.4\n",
    "numero_real_2 = 3.0 / 5.0\n",
    "#se puede usar notacion exponencial para representar numeros flotantes\n",
    "numero_real_3 = 1e6\n",
    "\n",
    "\n",
    "print(\"numero_real_3 es este \", numero_real_3)"
   ]
  },
  {
   "cell_type": "code",
   "execution_count": 30,
   "metadata": {
    "colab": {
     "base_uri": "https://localhost:8080/",
     "height": 69
    },
    "colab_type": "code",
    "id": "1FEKHUIphPMA",
    "outputId": "615f00e1-37fa-4652-e8c6-bc66a3805f34"
   },
   "outputs": [
    {
     "name": "stdout",
     "output_type": "stream",
     "text": [
      "contenido de la variable  1000000.0\n",
      "Tipo de datos de la variable  <class 'float'>\n"
     ]
    }
   ],
   "source": [
    "tipo_datos_numero_real = type(numero_real_3)\n",
    "\n",
    "print(\"contenido de la variable \", numeroReal3)\n",
    "print(\"Tipo de datos de la variable \", type(numeroReal3))\n"
   ]
  },
  {
   "cell_type": "markdown",
   "metadata": {
    "colab_type": "text",
    "id": "gahGKBLFjrnR"
   },
   "source": [
    "Al realizar una operación con operandos numéricos de distintos tipos, el resultado tendrá el tipo de datos más preciso."
   ]
  },
  {
   "cell_type": "code",
   "execution_count": 34,
   "metadata": {
    "colab": {
     "base_uri": "https://localhost:8080/",
     "height": 52
    },
    "colab_type": "code",
    "id": "PO8Wxi-PjqcZ",
    "outputId": "e38ba841-0c89-4649-89a9-91ff276a816b"
   },
   "outputs": [
    {
     "name": "stdout",
     "output_type": "stream",
     "text": [
      "4.0\n",
      "Tipo de datos del resultado:  <class 'float'>\n"
     ]
    }
   ],
   "source": [
    "variable_entera = 8\n",
    "\n",
    "\n",
    "resultado = 3.0 + 1\n",
    "print(resultado)\n",
    "print(\"Tipo de datos del resultado: \", type(resultado))"
   ]
  },
  {
   "cell_type": "markdown",
   "metadata": {
    "colab_type": "text",
    "id": "hoqaOow4tGsk"
   },
   "source": [
    "### Conversión de tipos datos\n",
    "Para convertir una variable a otro tipo de datos, se invoca al constructor del tipo de datos, con el nombre del tipo de datos y la variable a convertir como entrada."
   ]
  },
  {
   "cell_type": "code",
   "execution_count": 37,
   "metadata": {
    "colab": {
     "base_uri": "https://localhost:8080/",
     "height": 235
    },
    "colab_type": "code",
    "id": "gw8rvPQUuYXc",
    "outputId": "a8cd8253-abb6-4745-f9bd-77963aefb18f"
   },
   "outputs": [
    {
     "name": "stdout",
     "output_type": "stream",
     "text": [
      "Resultado de conversion  -9\n"
     ]
    }
   ],
   "source": [
    "resultado = -9.9999\n",
    "\n",
    "resultado_entero = int(resultado)\n",
    "print(\"Resultado de conversion \", resultado_entero)\n",
    "\n",
    "#prueba de truncado\n",
    "#resultado = int(\"hola\")\n",
    "#print(\"Vamos a ver que pasa... \", resultado)\n"
   ]
  },
  {
   "cell_type": "markdown",
   "metadata": {
    "colab_type": "text",
    "id": "5Qdbbeo6kL2n"
   },
   "source": [
    "## Tipo de datos numéricos: Números complejos (complex)\n",
    "Los números complejos están compuestos por una parte real, y una imaginaria. La parte imaginaria se expresa con el sufijo 'i'."
   ]
  },
  {
   "cell_type": "code",
   "execution_count": 43,
   "metadata": {
    "colab": {
     "base_uri": "https://localhost:8080/",
     "height": 52
    },
    "colab_type": "code",
    "id": "YJbJBafRkg6b",
    "outputId": "07de95c2-c2fb-4d92-9ef1-639c5132be87"
   },
   "outputs": [
    {
     "name": "stdout",
     "output_type": "stream",
     "text": [
      "1j\n",
      "Tipo de datos de la variable  <class 'complex'>\n",
      "Resultado multiplicacion  (-1+0j)\n",
      "<class 'complex'>\n",
      "suma  (10.7+3j)\n"
     ]
    }
   ],
   "source": [
    "numero_complejo = 1j\n",
    "print(numero_complejo)\n",
    "tipo_datos_complejo = type(numero_complejo)\n",
    "multiplicacion_compleja = numero_complejo * numero_complejo\n",
    "print(\"Tipo de datos de la variable \", tipo_datos_complejo)\n",
    "print(\"Resultado multiplicacion \", multiplicacion_compleja)\n",
    "\n",
    "numero_flotante_1 = 9.7\n",
    "numero_complejo_1 = 1 + 3j\n",
    "suma =  numero_flotante_1 + numero_complejo_1\n",
    "print(type(suma))\n",
    "print(\"suma \", suma)"
   ]
  },
  {
   "cell_type": "code",
   "execution_count": 45,
   "metadata": {},
   "outputs": [
    {
     "name": "stdout",
     "output_type": "stream",
     "text": [
      "variable_flotante:  3.0\n",
      "variable_compleja  (3+0j)\n"
     ]
    }
   ],
   "source": [
    "#otros ejemplos de uso de constructores\n",
    "#constructor de floats\n",
    "variable_entera = 3\n",
    "variable_flotante = float(variable_entera)\n",
    "print(\"variable_flotante: \", variable_flotante)\n",
    "#constructor de complex\n",
    "variable_compleja = complex(variable_entera)\n",
    "print(\"variable_compleja \", variable_compleja)"
   ]
  },
  {
   "cell_type": "markdown",
   "metadata": {
    "colab_type": "text",
    "id": "pzfe6f-NmVMA"
   },
   "source": [
    "El cuadrado de la variable imaginaria $j=\\sqrt{-1}$ es $j^{2}=-1$"
   ]
  },
  {
   "cell_type": "markdown",
   "metadata": {
    "colab_type": "text",
    "id": "cQquLTNjp55G"
   },
   "source": [
    "## Secuencias inmutables: Hileras (Strings o str)\n",
    "Las secuencias inmutables corresponden a series o secuencias de valores, no modificables. \n",
    "Una hilera representa una secuencia de caracteres, representados con el estandar ASCII\n"
   ]
  },
  {
   "cell_type": "code",
   "execution_count": 49,
   "metadata": {},
   "outputs": [
    {
     "name": "stdout",
     "output_type": "stream",
     "text": [
      "Caracter  n\n"
     ]
    }
   ],
   "source": [
    "#indexar la hilera\n",
    "variable_palabra = \"ucrania\"\n",
    "variable_caracter = variable_palabra[4]\n",
    "\n",
    "print(\"Caracter \", variable_caracter)"
   ]
  },
  {
   "cell_type": "code",
   "execution_count": 50,
   "metadata": {},
   "outputs": [
    {
     "name": "stdout",
     "output_type": "stream",
     "text": [
      "Largo de la hilera  7\n"
     ]
    }
   ],
   "source": [
    "#consultar el largo de la hilera\n",
    "largo_hilera = len(variable_palabra)\n",
    "print(\"Largo de la hilera \", largo_hilera)"
   ]
  },
  {
   "cell_type": "code",
   "execution_count": 52,
   "metadata": {
    "colab": {
     "base_uri": "https://localhost:8080/",
     "height": 269
    },
    "colab_type": "code",
    "id": "DHxM3MEmqW6d",
    "outputId": "81ccff88-5604-44ef-9b9f-f2153fb6daf7"
   },
   "outputs": [
    {
     "name": "stdout",
     "output_type": "stream",
     "text": [
      "Contenido en palabra  hola\n",
      "tipo de datos  <class 'str'>\n",
      "Es de tipo str?  True\n"
     ]
    }
   ],
   "source": [
    "palabra = \"hola\"\n",
    "print('Contenido en palabra ', palabra)\n",
    "#tipo de datos\n",
    "tipo_datos_palabra = type(palabra)\n",
    "es_hilera = tipo_datos_palabra == str\n",
    "print(\"tipo de datos \", tipo_datos_palabra)\n",
    "print(\"Es de tipo str? \", es_hilera)\n"
   ]
  },
  {
   "cell_type": "code",
   "execution_count": 58,
   "metadata": {},
   "outputs": [
    {
     "name": "stdout",
     "output_type": "stream",
     "text": [
      "Resultado de la conversion de un entero a una hilera  9\n",
      "son_iguales  True\n"
     ]
    }
   ],
   "source": [
    "#ejemplo del constructor para str\n",
    "numero_entero = 9\n",
    "hilera_numero = str(numero_entero)\n",
    "hilera_numero_2 = \"9\"\n",
    "\n",
    "print(\"Resultado de la conversion de un entero a una hilera \", hilera_numero)\n",
    "\n",
    "son_iguales = hilera_numero == hilera_numero_2\n",
    "print(\"son_iguales \", son_iguales)"
   ]
  },
  {
   "cell_type": "code",
   "execution_count": 60,
   "metadata": {},
   "outputs": [
    {
     "name": "stdout",
     "output_type": "stream",
     "text": [
      "numero entero  23\n",
      "tipo de datos del resultado  <class 'int'>\n"
     ]
    }
   ],
   "source": [
    "#conversion de un numero en una hilera a entero\n",
    "numero_hilera = \"23\"\n",
    "numero_entero = int(numero_hilera)\n",
    "print(\"numero entero \", numero_entero)\n",
    "print(\"tipo de datos del resultado \", type(numero_entero))"
   ]
  },
  {
   "cell_type": "markdown",
   "metadata": {},
   "source": [
    "Para consultar el valor unicode de cada caracter, podemos usar la funcion ord"
   ]
  },
  {
   "cell_type": "code",
   "execution_count": 61,
   "metadata": {},
   "outputs": [
    {
     "name": "stdout",
     "output_type": "stream",
     "text": [
      "117\n"
     ]
    }
   ],
   "source": [
    "palabra_1 = \"sumar\"\n",
    "print(ord(palabra_1[1]))"
   ]
  },
  {
   "cell_type": "markdown",
   "metadata": {
    "colab_type": "text",
    "id": "7UloJ6eXr4Qz"
   },
   "source": [
    "Las secuencias inmutables no permiten la modificacion de alguno de sus elementos"
   ]
  },
  {
   "cell_type": "code",
   "execution_count": 62,
   "metadata": {
    "colab": {
     "base_uri": "https://localhost:8080/",
     "height": 162
    },
    "colab_type": "code",
    "id": "pp2U4W7Vr9Y6",
    "outputId": "a3d8f60a-ff0a-4007-f1ce-2f2f7d715809"
   },
   "outputs": [
    {
     "ename": "TypeError",
     "evalue": "'str' object does not support item assignment",
     "output_type": "error",
     "traceback": [
      "\u001b[1;31m---------------------------------------------------------------------------\u001b[0m",
      "\u001b[1;31mTypeError\u001b[0m                                 Traceback (most recent call last)",
      "\u001b[1;32m~\\AppData\\Local\\Temp/ipykernel_8652/2363753707.py\u001b[0m in \u001b[0;36m<module>\u001b[1;34m\u001b[0m\n\u001b[1;32m----> 1\u001b[1;33m \u001b[0mpalabra\u001b[0m\u001b[1;33m[\u001b[0m\u001b[1;36m1\u001b[0m\u001b[1;33m]\u001b[0m \u001b[1;33m=\u001b[0m \u001b[1;34m\"a\"\u001b[0m\u001b[1;33m\u001b[0m\u001b[1;33m\u001b[0m\u001b[0m\n\u001b[0m",
      "\u001b[1;31mTypeError\u001b[0m: 'str' object does not support item assignment"
     ]
    }
   ],
   "source": [
    "palabra[1] = \"a\""
   ]
  },
  {
   "cell_type": "code",
   "execution_count": 64,
   "metadata": {},
   "outputs": [
    {
     "name": "stdout",
     "output_type": "stream",
     "text": [
      "Cual es tu edad?\n",
      "67\n",
      "Respuesta del usuario  <class 'str'>\n"
     ]
    }
   ],
   "source": [
    "#pregunta a usuario\n",
    "print(\"Cual es tu edad?\")\n",
    "respuesta_usuario = input()\n",
    "print(\"Respuesta del usuario \", type(respuesta_usuario))\n"
   ]
  },
  {
   "cell_type": "markdown",
   "metadata": {
    "colab_type": "text",
    "id": "chP7z4TqwJzR"
   },
   "source": [
    "## Secuencias inmutables: Tuplas\n",
    "Las tuplas son secuencias de valores con cualquier tipo de dato. Son  inmutables.\n"
   ]
  },
  {
   "cell_type": "code",
   "execution_count": 5,
   "metadata": {},
   "outputs": [
    {
     "name": "stdout",
     "output_type": "stream",
     "text": [
      "Tupla de objetos  ((1+1j), (3+4j), 1j, 5, 7.0, 'hilera')\n",
      "tercer elemento de la tupla  hilera\n"
     ]
    }
   ],
   "source": [
    "#Tupla de enteros\n",
    "tuplaEnteros = (1, 3, 4)\n",
    "#tupla de numeros complejos\n",
    "tupla_objetos = (1 + 1j, 3 + 4j, 0 + 1j, 5, 7.0, \"hilera\")\n",
    "print(\"Tupla de objetos \", tupla_objetos)\n",
    "print(\"tercer elemento de la tupla \", tuplaComplejos[5])"
   ]
  },
  {
   "cell_type": "code",
   "execution_count": 11,
   "metadata": {
    "colab": {
     "base_uri": "https://localhost:8080/",
     "height": 86
    },
    "colab_type": "code",
    "id": "9LylFMRMwXnv",
    "outputId": "e9823b41-454e-4b1e-d95b-29b0f38967c9"
   },
   "outputs": [
    {
     "name": "stdout",
     "output_type": "stream",
     "text": [
      "Tupla de tuplas  ((1, 2, 3), ((1+1j), 58.9))\n",
      "Tupla  ((1+1j), 58.9)\n",
      "Segundo elemento de la segunda tupla (1+1j)\n",
      "matriz representada con tuplas \n",
      " \n",
      "3\n",
      "tipo de la tupla  <class 'tuple'>\n"
     ]
    }
   ],
   "source": [
    "\n",
    "#tupla de tuplas\n",
    "tupla_de_tuplas = ((1, 2, 3), (1 + 1j, 58.9))\n",
    "print(\"Tupla de tuplas \", tupla_de_tuplas)\n",
    "#consultar el segundo elemento de la segunda tupla en la tupla\n",
    "print(\"Tupla \", tupla_de_tuplas[1])\n",
    "\n",
    "print(\"Segundo elemento de la segunda tupla\", tupla_de_tuplas[1][0])\n",
    "#representacion con tupla de tuplas de la matriz de transicion de ejemplo\n",
    "matriz_tuplas = ((2, 3), (3, 2))\n",
    "print(\"matriz representada con tuplas \\n \")\n",
    "print(matriz_tuplas[1][0])\n",
    "print(\"tipo de la tupla \", type(matriz_tuplas))\n",
    "\n"
   ]
  },
  {
   "cell_type": "markdown",
   "metadata": {
    "colab_type": "text",
    "id": "iSY_NJeN9jHJ"
   },
   "source": [
    "## Secuencias inmutables: Arreglo de bytes (b)\n",
    "Los arreglos de bytes son secuencias de bytes (8 bits, valores enteros de 0 a 255). El arreglo de bytes definido con  *b* antes del a hilera, usa el esquema ASCII, y no es modificable.\n"
   ]
  },
  {
   "cell_type": "code",
   "execution_count": 32,
   "metadata": {
    "colab": {
     "base_uri": "https://localhost:8080/",
     "height": 34
    },
    "colab_type": "code",
    "id": "nDJULSop-LDj",
    "outputId": "db1f4fb5-bc4d-4907-ffa4-27326b11a8e0"
   },
   "outputs": [
    {
     "name": "stdout",
     "output_type": "stream",
     "text": [
      "Primer elemento del arreglo de bytes b'abc'\n",
      "tipo de datos  <class 'bytes'>\n"
     ]
    }
   ],
   "source": [
    "#formas de construir un arreglo de bytes\n",
    "arreglo_bytes_inmutable = b'abc'\n",
    "\n",
    "\n",
    "print(\"Primer elemento del arreglo de bytes\", arreglo_bytes_inmutable)\n",
    "print(\"tipo de datos \", type(arreglo_bytes_inmutable))\n"
   ]
  },
  {
   "cell_type": "markdown",
   "metadata": {
    "colab_type": "text",
    "id": "8yBO77cFAgSn"
   },
   "source": [
    "## Secuencias mutables: Arreglo de bytes mutable (bytearray)"
   ]
  },
  {
   "cell_type": "markdown",
   "metadata": {
    "colab_type": "text",
    "id": "tX8COevl_0mL"
   },
   "source": [
    "El tipo de datos *bytearray* es un arreglo de bytes mutable mutable.\n",
    "\n"
   ]
  },
  {
   "cell_type": "code",
   "execution_count": 31,
   "metadata": {
    "colab": {
     "base_uri": "https://localhost:8080/",
     "height": 69
    },
    "colab_type": "code",
    "id": "wovI2eH3AyIe",
    "outputId": "54d3f210-7257-494a-a6ff-3c535190d1d3"
   },
   "outputs": [
    {
     "name": "stdout",
     "output_type": "stream",
     "text": [
      "Arreglo de bytes modificable bytearray(b'hola')\n",
      "Codificacion ascii de la primer letra del segundo arreglo de bytes  104\n",
      "Arreglo de bytes modificado  bytearray(b'hola')\n",
      "tipo de datos  <class 'bytearray'>\n"
     ]
    }
   ],
   "source": [
    "#se definen dos parametros o argumentos, la hilera y el tipo de codificacion\n",
    "arregloBytes2 = bytearray(\"hola\", 'ascii')\n",
    "print(\"Arreglo de bytes modificable\", arregloBytes2)\n",
    "print(\"Codificacion ascii de la primer letra del segundo arreglo de bytes \", arregloBytes2[0])\n",
    "\n",
    "print(\"Arreglo de bytes modificado \", arregloBytes2)\n",
    "\n"
   ]
  },
  {
   "cell_type": "markdown",
   "metadata": {
    "colab_type": "text",
    "id": "-Sz5tAFRB5il"
   },
   "source": [
    "# Secuencias mutables: Lista (list)\n",
    "Una lista es una secuencia de objetos de cualquier tipo, y es modificable. Las listas son indexables como las tuplas, con valores de 0 a $n-1$, donde $n$ es el largo de la lista."
   ]
  },
  {
   "cell_type": "code",
   "execution_count": 20,
   "metadata": {},
   "outputs": [
    {
     "name": "stdout",
     "output_type": "stream",
     "text": [
      "Lista 2 hola\n"
     ]
    }
   ],
   "source": [
    "lista = [10, 2, 4, 5]\n",
    "#lista de elementos de varios tipos\n",
    "lista_2 = [10, 4.5, \"hola\", 1 + 7j]\n",
    "print(\"Lista 2\", lista_2[2])"
   ]
  },
  {
   "cell_type": "code",
   "execution_count": 21,
   "metadata": {},
   "outputs": [
    {
     "name": "stdout",
     "output_type": "stream",
     "text": [
      "Matriz \n",
      "  [[7, 3], [3, 2]]\n"
     ]
    }
   ],
   "source": [
    "#lista de listas\n",
    "matriz = [[2, 3], [3, 2]]\n",
    "#es mutable!\n",
    "matriz[0][0] = 7\n",
    "print(\"Matriz \\n \", matriz)"
   ]
  },
  {
   "cell_type": "code",
   "execution_count": 24,
   "metadata": {},
   "outputs": [
    {
     "name": "stdout",
     "output_type": "stream",
     "text": [
      "Lista2  [100, 2, 3, 5]\n",
      "tipo lista2  <class 'list'>\n",
      "tupla enteros  (1, 2, 3, 5)\n"
     ]
    }
   ],
   "source": [
    "#conversion de tupla a lista de enteros\n",
    "tupla_enteros = (1, 2, 3, 5)\n",
    "#conversion de una tupla a una lista\n",
    "lista2 = list(tupla_enteros)\n",
    "lista2[0]  = 100\n",
    "print(\"Lista2 \", lista2)\n",
    "print(\"tipo lista2 \", type(lista2))\n",
    "print(\"tupla enteros \", tupla_enteros)"
   ]
  },
  {
   "cell_type": "code",
   "execution_count": 25,
   "metadata": {},
   "outputs": [
    {
     "name": "stdout",
     "output_type": "stream",
     "text": [
      "Valor del cuarto elemento  5\n",
      "Primer elemento [2, 3.5]\n"
     ]
    }
   ],
   "source": [
    "print(\"Valor del cuarto elemento \", lista[3])\n",
    "#lista de listas y tuplas\n",
    "lista_objetos = [(2, 3.5), [\"hola\", \"nombre\"], (1, 3)]\n",
    "lista_objetos[0] = list(lista_objetos[0])\n",
    "print(\"Primer elemento\", lista_objetos[0])"
   ]
  },
  {
   "cell_type": "code",
   "execution_count": 26,
   "metadata": {
    "colab": {
     "base_uri": "https://localhost:8080/",
     "height": 121
    },
    "colab_type": "code",
    "id": "u3XMRgvKFDvn",
    "outputId": "e957e709-d771-4f71-e1f6-fbd18acfdc2a"
   },
   "outputs": [
    {
     "name": "stdout",
     "output_type": "stream",
     "text": [
      "Lista de caracteres   ['c', 'o', 'l', 'a']\n",
      "Hilera  cola\n"
     ]
    }
   ],
   "source": [
    "\n",
    "#Hilera a lista de caracteres\n",
    "lista4 = list(\"hola\")\n",
    "lista4[0] = \"c\"\n",
    "print(\"Lista de caracteres  \", lista4)\n",
    "#se construye la hilera a partir de la lista\n",
    "hilera = str(lista4[0] + lista4[1] + lista4[2] + lista4[3])\n",
    "print(\"Hilera \", hilera)\n",
    "\n",
    "\n"
   ]
  },
  {
   "cell_type": "markdown",
   "metadata": {},
   "source": [
    "## Secuencia mutable: bytearray"
   ]
  },
  {
   "cell_type": "code",
   "execution_count": 30,
   "metadata": {},
   "outputs": [
    {
     "name": "stdout",
     "output_type": "stream",
     "text": [
      "elemento byte array  109\n",
      "elemento byte array  97\n",
      "byte array completo  bytearray(b'aas')\n",
      "tipo  <class 'bytearray'>\n"
     ]
    }
   ],
   "source": [
    "\n",
    "arreglo_bytes_mutable = bytearray(b'mas')\n",
    "print(\"elemento byte array \", arreglo_bytes_mutable[0])\n",
    "arreglo_bytes_mutable[0] = 97\n",
    "print(\"elemento byte array \", arreglo_bytes_mutable[0])\n",
    "print(\"byte array completo \",  arreglo_bytes_mutable)\n",
    "print('tipo ', type(arreglo_bytes_mutable))"
   ]
  },
  {
   "cell_type": "markdown",
   "metadata": {
    "colab_type": "text",
    "id": "k4MaacSQI5n7"
   },
   "source": [
    "## Conjuntos mutables\n",
    "Los conjuntos son \"bolsas\" de objetos, donde cada objeto es único, sin orden y no indizables.\n"
   ]
  },
  {
   "cell_type": "code",
   "execution_count": 44,
   "metadata": {},
   "outputs": [
    {
     "name": "stdout",
     "output_type": "stream",
     "text": [
      "Conjunto Frutas  {'sandia', 'limon', 'naranja'}\n",
      "conjunto frutas 2  {'melon', 'limon', 'papaya'}\n"
     ]
    }
   ],
   "source": [
    "conjunto_frutas = {\"naranja\", \"naranja\", \"limon\", \"sandia\"}\n",
    "print(\"Conjunto Frutas \", conjunto_frutas)\n",
    "conjunto_frutas2 = {\"limon\", \"melon\", \"papaya\"}\n",
    "print(\"conjunto frutas 2 \", conjunto_frutas2)\n"
   ]
  },
  {
   "cell_type": "code",
   "execution_count": 40,
   "metadata": {},
   "outputs": [
    {
     "name": "stdout",
     "output_type": "stream",
     "text": [
      "Interseccion  {'limon'}\n"
     ]
    }
   ],
   "source": [
    "#se llama la funcion intersection para calcular la interseccion de dos conjuntos\n",
    "conjunto_interseccion = conjunto_frutas.intersection(conjunto_frutas2)\n",
    "print(\"Interseccion \", conjunto_interseccion)"
   ]
  },
  {
   "cell_type": "code",
   "execution_count": 45,
   "metadata": {
    "colab": {
     "base_uri": "https://localhost:8080/",
     "height": 86
    },
    "colab_type": "code",
    "id": "IGeOwOGHJE4I",
    "outputId": "300e875c-72c7-4cc0-a6ef-ba3e67d295d3"
   },
   "outputs": [
    {
     "name": "stdout",
     "output_type": "stream",
     "text": [
      "Interseccion modificado  set()\n",
      "Conjunto con elemento agregado {'nance'}\n"
     ]
    }
   ],
   "source": [
    "\n",
    "\n",
    "#se elimina el elemento limon del conjunto interseccion\n",
    "conjunto_interseccion.remove(\"limon\")\n",
    "print(\"Interseccion modificado \", conjunto_interseccion)\n",
    "\n",
    "conjunto_interseccion.add(\"nance\")\n",
    "print(\"Conjunto con elemento agregado\", conjunto_interseccion)\n"
   ]
  },
  {
   "cell_type": "markdown",
   "metadata": {
    "colab_type": "text",
    "id": "aLHh93LrVvaN"
   },
   "source": [
    "## Conjuntos inmutables\n",
    "En python se refieren con el nombre frozenset"
   ]
  },
  {
   "cell_type": "code",
   "execution_count": 47,
   "metadata": {
    "colab": {
     "base_uri": "https://localhost:8080/",
     "height": 34
    },
    "colab_type": "code",
    "id": "Ijyx6iowV1-r",
    "outputId": "fc5df062-8a87-4b4b-dc99-7257ebd0855e"
   },
   "outputs": [
    {
     "name": "stdout",
     "output_type": "stream",
     "text": [
      "frozenset({1, 2, 4})\n"
     ]
    },
    {
     "ename": "AttributeError",
     "evalue": "'frozenset' object has no attribute 'add'",
     "output_type": "error",
     "traceback": [
      "\u001b[1;31m---------------------------------------------------------------------------\u001b[0m",
      "\u001b[1;31mAttributeError\u001b[0m                            Traceback (most recent call last)",
      "\u001b[1;32m~\\AppData\\Local\\Temp/ipykernel_13816/1156016581.py\u001b[0m in \u001b[0;36m<module>\u001b[1;34m\u001b[0m\n\u001b[0;32m      1\u001b[0m \u001b[0mconjuntoCongelado\u001b[0m \u001b[1;33m=\u001b[0m \u001b[0mfrozenset\u001b[0m\u001b[1;33m(\u001b[0m\u001b[1;33m{\u001b[0m\u001b[1;36m1\u001b[0m\u001b[1;33m,\u001b[0m \u001b[1;36m2\u001b[0m\u001b[1;33m,\u001b[0m \u001b[1;36m4\u001b[0m\u001b[1;33m}\u001b[0m\u001b[1;33m)\u001b[0m\u001b[1;33m\u001b[0m\u001b[1;33m\u001b[0m\u001b[0m\n\u001b[0;32m      2\u001b[0m \u001b[0mprint\u001b[0m\u001b[1;33m(\u001b[0m\u001b[0mconjuntoCongelado\u001b[0m\u001b[1;33m)\u001b[0m\u001b[1;33m\u001b[0m\u001b[1;33m\u001b[0m\u001b[0m\n\u001b[1;32m----> 3\u001b[1;33m \u001b[0mconjuntoCongelado\u001b[0m\u001b[1;33m.\u001b[0m\u001b[0madd\u001b[0m\u001b[1;33m(\u001b[0m\u001b[1;36m7\u001b[0m\u001b[1;33m)\u001b[0m\u001b[1;33m\u001b[0m\u001b[1;33m\u001b[0m\u001b[0m\n\u001b[0m",
      "\u001b[1;31mAttributeError\u001b[0m: 'frozenset' object has no attribute 'add'"
     ]
    }
   ],
   "source": [
    "conjuntoCongelado = frozenset({1, 2, 4})\n",
    "print(conjuntoCongelado)\n",
    "conjuntoCongelado.add(7)"
   ]
  },
  {
   "cell_type": "markdown",
   "metadata": {
    "colab_type": "text",
    "id": "RHEGkelGV0L4"
   },
   "source": [
    "## Diccionarios\n",
    "Los diccinarios son un conjunto de pares ordenados, donde el primer elemento se refiere como llave, y el segundo, el valor correspondiente a tal llave. "
   ]
  },
  {
   "cell_type": "code",
   "execution_count": 55,
   "metadata": {},
   "outputs": [
    {
     "name": "stdout",
     "output_type": "stream",
     "text": [
      "tuberculo que se cultiva en la zona atlantica\n"
     ]
    }
   ],
   "source": [
    "dict_esp_port = {\"rojo\":\"vermelho\", \"yuca\":\"tuberculo que se cultiva en la zona atlantica\", \"casa\":\"casa\", \"mia\":\"minha\", \"hija\":\"filha\", \"madre\":\"mae\"}\n",
    "traduccion_1 = dict_esp_port[\"yuca\"]\n",
    "print(traduccion_1)"
   ]
  },
  {
   "cell_type": "code",
   "execution_count": 54,
   "metadata": {},
   "outputs": [
    {
     "name": "stdout",
     "output_type": "stream",
     "text": [
      "Samsung\n"
     ]
    }
   ],
   "source": [
    "informacion_articulos = {\"Televisor\":[50, \"Sony\", 3], \"Celular\":[300, \"Samsung\", 20], \"Refrigerador\":[1500, \"LG\", 7]}\n",
    "print(informacion_articulos[\"Celular\"][1])"
   ]
  },
  {
   "cell_type": "code",
   "execution_count": 47,
   "metadata": {
    "colab": {
     "base_uri": "https://localhost:8080/",
     "height": 69
    },
    "colab_type": "code",
    "id": "UNUTlcSLWp_3",
    "outputId": "66a00be4-d4ee-48ae-effe-331ba669cc45"
   },
   "outputs": [
    {
     "name": "stdout",
     "output_type": "stream",
     "text": [
      "Diccionario completo  {'Televisor': [50, 'Sony', 3], 'Celular': [300, 'Samsung', 20], 'Refrigerador': [1500, 'LG', 7]}\n",
      "Cantidad de refrigeradoras disponibles  7\n",
      "Informacion de articulos modificada  {'Televisor': [500, 'LG', 20], 'Celular': [300, 'Samsung', 20], 'Refrigerador': [1500, 'LG', 7]}\n"
     ]
    }
   ],
   "source": [
    "print(\"Diccionario completo \", informacionDeArticulos)\n",
    "print(\"Cantidad de refrigeradoras disponibles \", informacionDeArticulos[\"Refrigerador\"][2])\n",
    "informacionDeArticulos[\"Televisor\"] = [500, \"LG\", 20]\n",
    "print(\"Informacion de articulos modificada \", informacionDeArticulos)\n"
   ]
  },
  {
   "cell_type": "markdown",
   "metadata": {
    "colab_type": "text",
    "id": "YDkdNdW0K88e"
   },
   "source": [
    "# Practica \n",
    "\n",
    "\n",
    "1.   Realice la operación $5 + 8\\times10^{-3}$, y muestre el resultado en pantalla como un número complejo.\n",
    "2.  Realice la operación en números complejos \"(5 + 3j) - (3 + 7j)\", y muestre el resultado en pantalla de la parte real únicamente. \n",
    "3.  Realice la operación True + True, y muestre el resultado con un número real.\n",
    "4.  Cree una variable de tipo hilera, para la palabra \"muro\", muestrela en pantalla, y cambie la letra \"r\", por la letra \"d\", para mostrar la hilera \"mudo\".\n",
    "5.  Cree una lista de números complejos  (5 + 3j), (3 + 7j), (8 + 3j), y súmelos todos. Muestre el resultado en pantalla.\n",
    "6. Cree una hilera con el contenido \"hola\", y modifique los dos primeros caracteres, sumandole el valor de 10 a su código ASCII. Muestre el resultado en pantalla.\n",
    "7. Cree una lista de listas, para almacenar los datos de la siguiente tabla: \n",
    "\n",
    "| Numero de canasta | Frutas          |\n",
    "|-------------------|-----------------|\n",
    "| 121               | naranja, banano |\n",
    "| 452               | sandia, papaya  |\n",
    "| 320               | melon, mango    |\n",
    "| 455               | piña, uva       |\n",
    "\n",
    "8. Cree un diccionario de diccionarios, para representar el contenido de la siguiente tabla: \n",
    "\n",
    "| Casa | Caracteristicas      |\n",
    "|------|----------------------|\n",
    "| 121  | 2 cuartos, 2 garajes |\n",
    "| 452  | 3 cuartos, 1 garaje  |\n",
    "| 320  | 4 cuartos, 4 garajes |\n",
    "| 455  | 4 cuartos, 2 garajes |\n",
    "\n",
    "De forma que por ejemplo, para consultar la cantidad de cuartos de la casa 121, se realice lo siguiente: \n",
    "\n",
    "*diccionario[121][\"cuartos\"]*\n",
    "\n",
    "9. Cree un diccionario con las traducciones a portugués de las palabras: hola, yo, usted, ellos, ella, él, soy, son, es, casa, vivo, vivimos, viven, en, una, ciudad, pueblo. Cree además una lista de hileras con la siguiente oración: \"Yo vivo en una ciudad\", y emplee el diccionario construído para crear una nueva lista de hileras con la traducción a portugués. \n",
    "\n",
    "\n",
    "\n",
    "\n",
    "\n",
    "\n",
    "\n"
   ]
  }
 ],
 "metadata": {
  "colab": {
   "name": "Practica1_TiposDatos.ipynb",
   "provenance": [],
   "version": "0.3.2"
  },
  "kernelspec": {
   "display_name": "Python 3 (ipykernel)",
   "language": "python",
   "name": "python3"
  },
  "language_info": {
   "codemirror_mode": {
    "name": "ipython",
    "version": 3
   },
   "file_extension": ".py",
   "mimetype": "text/x-python",
   "name": "python",
   "nbconvert_exporter": "python",
   "pygments_lexer": "ipython3",
   "version": "3.9.7"
  }
 },
 "nbformat": 4,
 "nbformat_minor": 1
}
