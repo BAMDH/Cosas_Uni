{
 "cells": [
  {
   "cell_type": "markdown",
   "metadata": {
    "colab_type": "text",
    "id": "HBoG-09FwSYT"
   },
   "source": [
    "# Operadores y funciones básicas en Python\n",
    "Los operadores y funciones nativas en Python permiten transformar los datos, con distintos fines, para construir una **expresión** la cual combina literales, variables y operadores, respetando las reglas de sintaxis de Python.\n",
    "\n"
   ]
  },
  {
   "cell_type": "markdown",
   "metadata": {},
   "source": [
    "## Operadores de asignacion"
   ]
  },
  {
   "cell_type": "code",
   "execution_count": 7,
   "metadata": {},
   "outputs": [
    {
     "name": "stdout",
     "output_type": "stream",
     "text": [
      "d  1\n",
      "c  1\n"
     ]
    }
   ],
   "source": [
    "#para declarar e inicializar una variable usamos el igual\n",
    "c = 4\n",
    "d = 4\n",
    "# incrementar en 1 el valor de d\n",
    "d = d // 3\n",
    "c //= 3\n",
    "print(\"d \", d)\n",
    "print(\"c \", c)"
   ]
  },
  {
   "cell_type": "markdown",
   "metadata": {},
   "source": [
    "## Operadores numéricos\n",
    "Funcionan con cualquier tipo de datos numérico (real, complejo o entero).\n",
    "\n",
    "## Operadores aritméticos\n",
    "\n",
    "**Suma y resta**: Orden de precedencia 1."
   ]
  },
  {
   "cell_type": "code",
   "execution_count": 0,
   "metadata": {
    "colab": {
     "base_uri": "https://localhost:8080/",
     "height": 70
    },
    "colab_type": "code",
    "id": "RkZoERmMwTKb",
    "outputId": "aaff0913-930e-498a-80b3-11f296738c20"
   },
   "outputs": [
    {
     "name": "stdout",
     "output_type": "stream",
     "text": [
      "Resultado de la suma  8.3\n",
      "Tipo de datos de la variable suma  <class 'float'>\n",
      "Dos incrementos de a  7\n"
     ]
    }
   ],
   "source": [
    "a = 5\n",
    "b = 3.3\n",
    "#cual es el tipo de datos resultante de la suma?\n",
    "suma = a + b\n",
    "print(\"Resultado de la suma \", suma)\n",
    "print(\"Tipo de datos de la variable suma \", type(suma))\n",
    "\n",
    "# para un incremento unitario de una variable se pueden usar las siguientes variantes\n",
    "a = a + 1\n",
    "# o\n",
    "a += 1\n",
    "print(\"Dos incrementos de a \", a )\n",
    "\n"
   ]
  },
  {
   "cell_type": "markdown",
   "metadata": {
    "colab_type": "text",
    "id": "sR7Bf6LE79CV"
   },
   "source": [
    "**Operadores aritméticos unarios**: Los operadores unarios se definen con un sólo operando. "
   ]
  },
  {
   "cell_type": "code",
   "execution_count": 10,
   "metadata": {
    "colab": {
     "base_uri": "https://localhost:8080/",
     "height": 34
    },
    "colab_type": "code",
    "id": "ZYf5Oz1P8XbR",
    "outputId": "e7bc1e3c-e413-496b-a055-f844b1524922"
   },
   "outputs": [
    {
     "name": "stdout",
     "output_type": "stream",
     "text": [
      "a = -3\n",
      "b = 3\n"
     ]
    }
   ],
   "source": [
    "a = -3\n",
    "b = -a\n",
    "print(\"a =\", a)\n",
    "print(\"b =\", b)"
   ]
  },
  {
   "cell_type": "markdown",
   "metadata": {
    "colab_type": "text",
    "id": "sYOfb61lxuTw"
   },
   "source": [
    "**División y multiplicación**\n",
    "La división y la multiplicación tienen orden de precedencia 2."
   ]
  },
  {
   "cell_type": "code",
   "execution_count": 2,
   "metadata": {},
   "outputs": [
    {
     "name": "stdout",
     "output_type": "stream",
     "text": [
      "80\n"
     ]
    }
   ],
   "source": [
    "a = (5 + 3) * (8 + 2)\n",
    "print(a)"
   ]
  },
  {
   "cell_type": "code",
   "execution_count": 12,
   "metadata": {
    "colab": {
     "base_uri": "https://localhost:8080/",
     "height": 52
    },
    "colab_type": "code",
    "id": "uUXtaxInx2_P",
    "outputId": "02b8d03e-bb73-4d35-e7e6-76d88dcdfe6c"
   },
   "outputs": [
    {
     "name": "stdout",
     "output_type": "stream",
     "text": [
      "Resultado de la division:  4.5\n",
      "Resultado de division y multiplicacion  21.0\n"
     ]
    }
   ],
   "source": [
    "division = (5.0  + 4.0) / 2.0\n",
    "print(\"Resultado de la division: \", division)\n",
    "#cual es el tipo de datos resultante?\n",
    "\n",
    "division_multiplicacion = 5  + 4 + 8 / 2  * 3\n",
    "print(\"Resultado de division y multiplicacion \", division_multiplicacion)\n"
   ]
  },
  {
   "cell_type": "markdown",
   "metadata": {
    "colab_type": "text",
    "id": "5gaTNiKIyk7W"
   },
   "source": [
    "**División entera, residuo y potencia**: Orden de precedencia 2. La división entera trunca el resultado, descartando la parte no entera, con resultado entero. \n"
   ]
  },
  {
   "cell_type": "code",
   "execution_count": 14,
   "metadata": {},
   "outputs": [
    {
     "name": "stdout",
     "output_type": "stream",
     "text": [
      "Resultado division entera  4\n",
      "Resultado division entera alterna  4\n"
     ]
    }
   ],
   "source": [
    "division_entera = 9 // 2\n",
    "#cual es el tipo de datos resultante?\n",
    "print(\"Resultado division entera \", division_entera)\n",
    "#forma alternativa\n",
    "division_entera_alterna = int(9 / 2)\n",
    "print(\"Resultado division entera alterna \", division_entera_alterna)"
   ]
  },
  {
   "cell_type": "code",
   "execution_count": 15,
   "metadata": {},
   "outputs": [
    {
     "name": "stdout",
     "output_type": "stream",
     "text": [
      "Resultado del residuo:  3\n"
     ]
    }
   ],
   "source": [
    "#Residuo\n",
    "residuo = 13 % 5\n",
    "print(\"Resultado del residuo: \", residuo)"
   ]
  },
  {
   "cell_type": "code",
   "execution_count": 16,
   "metadata": {},
   "outputs": [
    {
     "name": "stdout",
     "output_type": "stream",
     "text": [
      "Residuo nuevo  3.3000000000000007\n"
     ]
    }
   ],
   "source": [
    "residuo_nuevo = 13.3 % 5\n",
    "print(\"Residuo nuevo \", residuo_nuevo)"
   ]
  },
  {
   "cell_type": "code",
   "execution_count": 20,
   "metadata": {
    "colab": {
     "base_uri": "https://localhost:8080/",
     "height": 121
    },
    "colab_type": "code",
    "id": "anQlRHmUy5ZV",
    "outputId": "c57e1b18-ad48-48ee-afb7-5ab3c9a8a59b"
   },
   "outputs": [
    {
     "name": "stdout",
     "output_type": "stream",
     "text": [
      "Resultado del redondeo  3.3\n"
     ]
    }
   ],
   "source": [
    "\n",
    "redondeo = round(residuo_nuevo, 2)\n",
    "\n",
    "print(\"Resultado del redondeo \", redondeo)\n",
    "\n"
   ]
  },
  {
   "cell_type": "code",
   "execution_count": 23,
   "metadata": {},
   "outputs": [
    {
     "name": "stdout",
     "output_type": "stream",
     "text": [
      "Resultado del round  3.1418\n"
     ]
    }
   ],
   "source": [
    "#segundo parametro del round es la cantidad de digitos no enteros preservados\n",
    "a = 3.141793\n",
    "print(\"Resultado del round \", round(a, 4))"
   ]
  },
  {
   "cell_type": "code",
   "execution_count": null,
   "metadata": {},
   "outputs": [],
   "source": [
    "\n",
    "print(\"Resultado del residuo nuevo: \", residuoNuevo)\n",
    "#Potencia\n",
    "potencia = 3 ** 5.0\n",
    "print(\"Resultado potencia: \", potencia)"
   ]
  },
  {
   "cell_type": "markdown",
   "metadata": {
    "colab_type": "text",
    "id": "_4FmhWb88vDY"
   },
   "source": [
    "## Funciones  y métodos aritméticos básicos\n",
    "Existen funciones matemática nativas en Python, las cuales se pueden utilizar sin importar librerías"
   ]
  },
  {
   "cell_type": "code",
   "execution_count": 24,
   "metadata": {
    "colab": {
     "base_uri": "https://localhost:8080/",
     "height": 52
    },
    "colab_type": "code",
    "id": "UAlNrIvy85e4",
    "outputId": "96af1f91-6882-42e9-a5a1-7022786907c1"
   },
   "outputs": [
    {
     "name": "stdout",
     "output_type": "stream",
     "text": [
      "Resultado absoluto:  56.7\n"
     ]
    }
   ],
   "source": [
    "#Calculo del valor absoluto\n",
    "x = -56.7\n",
    "valor_absoluto = abs(x)\n",
    "print(\"Resultado absoluto: \", valor_absoluto)\n"
   ]
  },
  {
   "cell_type": "markdown",
   "metadata": {},
   "source": [
    "## Potencia "
   ]
  },
  {
   "cell_type": "code",
   "execution_count": 26,
   "metadata": {},
   "outputs": [
    {
     "name": "stdout",
     "output_type": "stream",
     "text": [
      "Resultado de la exponenciacion  64\n",
      "Resultado de exponenciacion con pow  64\n"
     ]
    }
   ],
   "source": [
    "a = 4 ** 3\n",
    "b = pow(4, 3)\n",
    "\n",
    "print(\"Resultado de la exponenciacion \", a)\n",
    "print(\"Resultado de exponenciacion con pow \", b)"
   ]
  },
  {
   "cell_type": "markdown",
   "metadata": {
    "colab_type": "text",
    "id": "7B7uJJi8HYLh"
   },
   "source": [
    "**Propiedades de objetos** Las propiedades o atributos de los objetos, se acceden con el nombre de la variable del objeto como prefijo, para luego definir el nombre de la propiedad."
   ]
  },
  {
   "cell_type": "code",
   "execution_count": 27,
   "metadata": {
    "colab": {
     "base_uri": "https://localhost:8080/",
     "height": 51
    },
    "colab_type": "code",
    "id": "QhDbyqF-K0E6",
    "outputId": "31542707-cdde-46b9-c9cb-2c1669b3dd0a"
   },
   "outputs": [
    {
     "name": "stdout",
     "output_type": "stream",
     "text": [
      "La parte real del numero complejo es : 5.0\n",
      "La parte imaginaria del numero complejo es : 3.0\n"
     ]
    }
   ],
   "source": [
    "\n",
    "x = 5\n",
    "y = 3\n",
    "  \n",
    "# creacion del numero complejo\n",
    "z = complex(x, y) \n",
    "  \n",
    "# Mostramos la parte real \n",
    "print (\"La parte real del numero complejo es : \",end=\"\") \n",
    "print (z.real) \n",
    "  \n",
    "print (\"La parte imaginaria del numero complejo es : \",end=\"\") \n",
    "print (z.imag) "
   ]
  },
  {
   "cell_type": "markdown",
   "metadata": {
    "colab_type": "text",
    "id": "AVAo8Xdb_2kx"
   },
   "source": [
    "Métodos disponibles en objetos importados, como por ejemplo la librería *math*.\n",
    "Existen **cuatro formas de importar librerías**: \n",
    "\n",
    "1.   Importado directo de la libreria: import math\n",
    "2.   Importado con alias: import math as m\n",
    "3.   Importado especifico de una función: from math import sqrt\n",
    "4.   Importado completo anonimo: (Puede ocasionar conflictos en los nombres de las funciones importadas): from math import *\n",
    "\n"
   ]
  },
  {
   "cell_type": "code",
   "execution_count": 30,
   "metadata": {},
   "outputs": [
    {
     "name": "stdout",
     "output_type": "stream",
     "text": [
      "2.0\n"
     ]
    }
   ],
   "source": [
    "#primer forma de importacion, usando el mismo de la libreria para referirme a ella\n",
    "import math\n",
    "a = math.sqrt(4)\n",
    "print(a)"
   ]
  },
  {
   "cell_type": "code",
   "execution_count": 31,
   "metadata": {},
   "outputs": [
    {
     "name": "stdout",
     "output_type": "stream",
     "text": [
      "2.0\n"
     ]
    }
   ],
   "source": [
    "#importacion completa anonima\n",
    "from math import *\n",
    "b = sqrt(4)\n",
    "print(b)"
   ]
  },
  {
   "cell_type": "code",
   "execution_count": 32,
   "metadata": {},
   "outputs": [
    {
     "name": "stdout",
     "output_type": "stream",
     "text": [
      "1.7320508075688772\n"
     ]
    }
   ],
   "source": [
    "#importacion con alias \n",
    "import math as m\n",
    "import numpy as np\n",
    "d = m.sqrt(3)\n",
    "print(d)"
   ]
  },
  {
   "cell_type": "code",
   "execution_count": 35,
   "metadata": {},
   "outputs": [
    {
     "name": "stdout",
     "output_type": "stream",
     "text": [
      "2\n"
     ]
    }
   ],
   "source": [
    "#importacion de una o mas funciones especificas \n",
    "from math import sqrt, trunc\n",
    "e = sqrt(5)\n",
    "print(trunc(e))"
   ]
  },
  {
   "cell_type": "code",
   "execution_count": 36,
   "metadata": {
    "colab": {
     "base_uri": "https://localhost:8080/",
     "height": 69
    },
    "colab_type": "code",
    "id": "jSq4fTue__Lp",
    "outputId": "13242b2f-99ab-43c0-deb7-c845f4928878"
   },
   "outputs": [
    {
     "name": "stdout",
     "output_type": "stream",
     "text": [
      "Potencia base e:  2.718281828459045\n",
      "Numero truncado  2\n"
     ]
    }
   ],
   "source": [
    "\n",
    "from math import *\n",
    "#cual es el tipo de datos resultante?\n",
    "#exponente base e (2.7182)\n",
    "potencia_base_e = exp(1)\n",
    "print(\"Potencia base e: \", potencia_base_e)\n",
    "#truncado al entero resultante de descartar la parte no entera\n",
    "truncado = trunc(2.365)\n",
    "print(\"Numero truncado \", truncado)\n"
   ]
  },
  {
   "cell_type": "markdown",
   "metadata": {
    "colab_type": "text",
    "id": "BIL1CWS0IhPU"
   },
   "source": [
    "**Funciones de entrada y salida de texto**\n",
    "Las funciones *input* y *print* permiten tomar datos y mostrarlos al usuario, respectivamente. \n"
   ]
  },
  {
   "cell_type": "code",
   "execution_count": 0,
   "metadata": {
    "colab": {
     "base_uri": "https://localhost:8080/",
     "height": 86
    },
    "colab_type": "code",
    "id": "DfuEKc_fItRv",
    "outputId": "bfd1ea55-4e88-4c7f-c5a5-0419d6eba158"
   },
   "outputs": [
    {
     "name": "stdout",
     "output_type": "stream",
     "text": [
      "Bienvenido! Este es el programa planillas 2.0: Favor digite su edad\n",
      "67\n",
      "El usuario digitó:  67\n",
      "70\n"
     ]
    }
   ],
   "source": [
    "print(\"Bienvenido! Este es el programa planillas 2.0: Favor digite su edad\")\n",
    "a = input()\n",
    "print(\"El usuario digitó: \", a )\n",
    "#cual es el tipo de datos?\n",
    "aEntero = int(a)\n",
    "print(aEntero + 3)"
   ]
  },
  {
   "cell_type": "markdown",
   "metadata": {
    "colab_type": "text",
    "id": "ICi4BppLELsb"
   },
   "source": [
    "##Operadores relaciones y lógicos\n",
    "Los operadores relaciones y lógicos resultan en valores booleanos *True* o *False*. \n",
    "\n",
    "**Operadores relacionales** como >, <, >=, <=, !=, ==, son operadores binarios."
   ]
  },
  {
   "cell_type": "code",
   "execution_count": 0,
   "metadata": {
    "colab": {
     "base_uri": "https://localhost:8080/",
     "height": 52
    },
    "colab_type": "code",
    "id": "KqmGgLasEgYg",
    "outputId": "d3ac5eb1-8bfc-428d-b4c5-c44eecf514da"
   },
   "outputs": [
    {
     "name": "stdout",
     "output_type": "stream",
     "text": [
      "Resultado de comparacion2  True\n",
      "Es diferente:  True\n"
     ]
    }
   ],
   "source": [
    "#Mayor estricto\n",
    "comparacion1 = 55.3 > 98\n",
    "\n",
    "tolerancia = 0.00001\n",
    "\n",
    "#se computa el residuo\n",
    "a = 13.3 % 5\n",
    "\n",
    "#Se realizan la comparacion\n",
    "comparacion2 = (3.3 - a) <= tolerancia\n",
    "\n",
    "\n",
    "\n",
    "#es importante recordar que las comparaciones de numeros no enteros puede no ser correcta\n",
    "print(\"Resultado de comparacion2 \", comparacion2)\n",
    "\n",
    "#diferente\n",
    "esDiferente = a != 3.3\n",
    "print(\"Es diferente: \", esDiferente)\n",
    "\n"
   ]
  },
  {
   "cell_type": "markdown",
   "metadata": {
    "colab_type": "text",
    "id": "QtHxDpPDJyMR"
   },
   "source": [
    "**Operadores lógicos**\n",
    "Los operadores lógicos binarios disponibles en Python son el *and* y el *or*.\n",
    "\n",
    "El operador unario *not* calcula la negación de su único operando.\n",
    "El operador *and* tiene un orden de precedencia mayor al or, por lo que se recomenda usar siempre paréntesis.\n",
    "\n"
   ]
  },
  {
   "cell_type": "code",
   "execution_count": 37,
   "metadata": {},
   "outputs": [
    {
     "name": "stdout",
     "output_type": "stream",
     "text": [
      "Tabla de verdad para el OR:  [False, True, True, True]\n"
     ]
    }
   ],
   "source": [
    "#Tabla de verdad para el or\n",
    "#inicializamos la lista\n",
    "tabla_verdad_or = [0, 0, 0, 0]\n",
    "tabla_verdad_or[0] = False or False\n",
    "tabla_verdad_or[1] = False or True\n",
    "tabla_verdad_or[2] = True or False\n",
    "tabla_verdad_or[3] = True or True\n",
    "print(\"Tabla de verdad para el OR: \", tabla_verdad_or)"
   ]
  },
  {
   "cell_type": "code",
   "execution_count": 39,
   "metadata": {
    "colab": {
     "base_uri": "https://localhost:8080/",
     "height": 52
    },
    "colab_type": "code",
    "id": "q9ptsdQbKFyE",
    "outputId": "edab57ec-e567-4ef6-b626-dc1d0f892811"
   },
   "outputs": [
    {
     "name": "stdout",
     "output_type": "stream",
     "text": [
      "Tabla de verdad para el XOR:  [False, True, True, False]\n"
     ]
    }
   ],
   "source": [
    "\n",
    "#Tabla de verdad del and\n",
    "tabla_verdad_and = [0, 0, 0, 0]\n",
    "tabla_verdad_and[0] = False and False\n",
    "tabla_verdad_and[1] = False and True\n",
    "tabla_verdad_and[2] = True and False\n",
    "tabla_verdad_and[3] = True and True\n",
    "print(\"Tabla de verdad para el AND: \", tabla_verdad_and)\n",
    "\n"
   ]
  },
  {
   "cell_type": "code",
   "execution_count": 40,
   "metadata": {},
   "outputs": [
    {
     "name": "stdout",
     "output_type": "stream",
     "text": [
      "Tabla de verdad de xor  [False, True, True, False]\n"
     ]
    }
   ],
   "source": [
    "#Tabla de verdad para el xor\n",
    "tabla_verdad_xor = [0, 0, 0, 0]\n",
    "tabla_verdad_xor[0] = False ^ False\n",
    "tabla_verdad_xor[1] = False ^ True\n",
    "tabla_verdad_xor[2] = True ^ False\n",
    "tabla_verdad_xor[3] = True ^ True\n",
    "print(\"Tabla de verdad de xor \", tabla_verdad_xor)"
   ]
  },
  {
   "cell_type": "markdown",
   "metadata": {},
   "source": [
    "##  Operadores relacionales: \n",
    "Los operandos son numericos, y los resultados son booleanos"
   ]
  },
  {
   "cell_type": "code",
   "execution_count": 49,
   "metadata": {},
   "outputs": [
    {
     "name": "stdout",
     "output_type": "stream",
     "text": [
      "Inserte su edad:\n",
      "21\n",
      "Inserte su concentracion de glucosa\n",
      "60\n",
      "Si puede aplicar para una licencia de conducir\n"
     ]
    }
   ],
   "source": [
    "#pregunta al usuario\n",
    "\n",
    "print(\"Inserte su edad:\")\n",
    "edad_str = input()\n",
    "#convierte a entero\n",
    "edad_int = int(edad_str)\n",
    "print(\"Inserte su concentracion de glucosa\")\n",
    "glucosa_str = input()\n",
    "glucosa_int = int(glucosa_str)\n",
    "puede_conducir = edad_int >= 18 and edad_int <= 65 and glucosa_int >= 50 and glucosa_int <= 70\n",
    "#verifica si es mayor de edad\n",
    "if(puede_conducir):\n",
    "    print(\"Si puede aplicar para una licencia de conducir\")\n",
    "else:\n",
    "    print(\"No puede aplicar para la licencia de conducir\")"
   ]
  },
  {
   "cell_type": "markdown",
   "metadata": {},
   "source": [
    "## Otras funciones "
   ]
  },
  {
   "cell_type": "code",
   "execution_count": 6,
   "metadata": {},
   "outputs": [
    {
     "name": "stdout",
     "output_type": "stream",
     "text": [
      "rango  range(0, 10)\n",
      "largo hilera  4\n",
      "minimo de la lista  1\n"
     ]
    }
   ],
   "source": [
    "rango = range(0, 10)\n",
    "print(\"rango \", rango)\n",
    "#largo de la hilera o secuencia\n",
    "lista = [1, 2, 3, 6]\n",
    "largo = len(lista)\n",
    "print(\"largo hilera \", largo)\n",
    "#maximo o minimo\n",
    "print(\"minimo de la lista \", min(lista))\n"
   ]
  },
  {
   "cell_type": "markdown",
   "metadata": {
    "colab_type": "text",
    "id": "Xgjpc6WLQFUb"
   },
   "source": [
    "#Ejercicios\n",
    "\n",
    "\n",
    "* Sin usar hileras o listas, implemente un programa que cree una variable booleana con el valor True, si el número de tres digitos insertado por el usuario contiene al menos un 0. \n",
    "\n",
    "* Sin usar hileras o listas, implemente un programa que cree una variable entera, con el número de veces que aparece el digito 1 en un número de tres digitos insertado por el usuario.\n",
    "\n",
    "*   Sin usar hileras o listas, implemente un programa que pase un número de 3 dígitos de base 2 a base 10. El tipo de datos de la variable con el resultado debe ser entero.\n",
    "\n",
    "*   Sin usar hileras o listas, implemente un programa que pase un número de 3 dígitos de base 10 a base 2. El tipo de datos de la variable con el resultado debe ser entero.\n",
    "\n",
    "*   Sin usar hileras o listas, implemente un programa que pase un número de 3 dígitos de base 10 a base 8. El tipo de datos de la variable con el resultado debe ser entero.\n",
    "*   Sin usar hileras o listas, implemente un programa que pase un número de 3 dígitos de base 8 a base 10. El tipo de datos de la variable con el resultado debe ser entero.\n",
    "\n",
    "*   Practique en realizar mentalmente las siguientes expresiones lógicas: http://www.mclibre.org/consultar/python/ejercicios/ej-booleanos.html\n",
    "\n",
    "*  Escriba un programa que cree una hilera con el contenido \"Es verano\", si la variable temperatura está en el intervalo de los 25 a 35 grados, y cree una hilera con el contenido \"Es invierno\", si la variable temperatura está entre los 15 y 25 grados. Si la variable temperatura está fuera de esos dos rangos, la hilera debe contener el texto \"Indeterminado\".\n",
    "\n",
    "\n",
    "\n"
   ]
  },
  {
   "cell_type": "markdown",
   "metadata": {
    "colab_type": "text",
    "id": "f2DCib5NsGCA"
   },
   "source": [
    "* Sin usar hileras o listas, implemente un programa que cree una variable booleana con el valor True, si el número de tres digitos insertado por el usuario contiene al menos un 0. "
   ]
  },
  {
   "cell_type": "code",
   "execution_count": 6,
   "metadata": {
    "colab": {
     "base_uri": "https://localhost:8080/",
     "height": 86
    },
    "colab_type": "code",
    "id": "eRDvZqDgsLPn",
    "outputId": "4627fb9e-7211-4a67-9a51-082b7a88a594"
   },
   "outputs": [
    {
     "name": "stdout",
     "output_type": "stream",
     "text": [
      "Favor inserte un numero entero de tres digitos: \n",
      "125\n",
      "MD nuevaEntrada  12\n",
      "El numero de tres digitos no tiene ningun cero.\n"
     ]
    }
   ],
   "source": [
    "#Leemos la entrada y la convertimos a entero\n",
    "print(\"Favor inserte un numero entero de tres digitos: \")\n",
    "entrada = int(input())\n",
    "#extraemos el digito menos significativo con el operador de residuo\n",
    "digitoMenosSignificativo = entrada % 10\n",
    "#creamos la variable resultado\n",
    "contieneUnCero = False\n",
    "#bloque condicional que verifica si el digito menos significativo es un 0\n",
    "if(digitoMenosSignificativo == 0):\n",
    "  contieneUnCero = True\n",
    "#eliminamos el digito menos significativo de la entrada\n",
    "nuevaEntrada = entrada // 10  \n",
    "print(\"MD nuevaEntrada \", nuevaEntrada)\n",
    "\n",
    "#extraemos el digito menos significativo del numero nuevo \n",
    "#(se extrae el segundo digito menos significativo )\n",
    "digitoMenosSignificativo = nuevaEntrada % 10\n",
    "#Verificamos si el segundo digito menos significativo\n",
    "if(digitoMenosSignificativo == 0):\n",
    "  contieneUnCero = True\n",
    "  \n",
    "if(contieneUnCero):\n",
    "  print(\"El numero de tres digitos contiene al menos un cero.\")\n",
    "else:\n",
    "  print(\"El numero de tres digitos no tiene ningun cero.\")\n",
    "\n",
    "  "
   ]
  },
  {
   "cell_type": "markdown",
   "metadata": {
    "colab_type": "text",
    "id": "S52It2UexrGq"
   },
   "source": [
    "* Sin usar hileras o listas, implemente un programa que cree una variable entera, con el número de veces que aparece el digito 1 en un número de tres digitos insertado por el usuario."
   ]
  },
  {
   "cell_type": "code",
   "execution_count": 9,
   "metadata": {
    "colab": {
     "base_uri": "https://localhost:8080/",
     "height": 52
    },
    "colab_type": "code",
    "id": "9Qjp6WA2xsmu",
    "outputId": "6d3596b3-d910-479d-ea55-9e6451d3dd5c"
   },
   "outputs": [
    {
     "name": "stdout",
     "output_type": "stream",
     "text": [
      "Favor insertar un numero de 3 digitos222\n",
      "La cantidad de unos en el numero  222  digitado por el usuario, es:  0\n"
     ]
    }
   ],
   "source": [
    "#se lee la entrada del usuario\n",
    "entrada = int(input(\"Favor insertar un numero de 3 digitos\"))\n",
    "#contador de unos \n",
    "cantidadDeUnos = 0\n",
    "#se extrae el digito menos significativo\n",
    "digitoMenosSignificativo = entrada % 10\n",
    "#Se verifica que el digito menos significativo sea un 1, de ser asi, se incrementa\n",
    "#el contador\n",
    "if(digitoMenosSignificativo == 1):\n",
    "  cantidadDeUnos += 1\n",
    "#Descartamos el digito menos significativo\n",
    "entradaNueva = entrada // 10\n",
    "#Se extrae el segundo digito menos significativo\n",
    "digitoMenosSignificativo = entradaNueva % 10\n",
    "#Si encontramos un 1, incrementamos el contador\n",
    "if(digitoMenosSignificativo == 1):\n",
    "  cantidadDeUnos += 1\n",
    "#se descarta el digito menos significativo hasta ahora\n",
    "entradaNueva = entradaNueva // 10\n",
    "#se extrae el digito mas significativo\n",
    "digitoMenosSignificativo = entradaNueva % 10\n",
    "#se verifica que el digito mas significativo sea 1, en tal caso, se aumenta \n",
    "#el contador\n",
    "if(digitoMenosSignificativo == 1):\n",
    "  cantidadDeUnos += 1\n",
    "\n",
    "print(\"La cantidad de unos en el numero \", entrada, \" digitado por el usuario, es: \", cantidadDeUnos)\n",
    "  \n",
    "\n",
    "\n",
    " \n",
    "  "
   ]
  },
  {
   "cell_type": "markdown",
   "metadata": {
    "colab_type": "text",
    "id": "X8fDcyAk7h2q"
   },
   "source": [
    "\n",
    "*   Sin usar hileras o listas, implemente un programa que pase un número de 3 dígitos de base 2 a base 10. El tipo de datos de la variable con el resultado debe ser entero."
   ]
  },
  {
   "cell_type": "code",
   "execution_count": 0,
   "metadata": {
    "colab": {},
    "colab_type": "code",
    "id": "6DBYt20W7kAN"
   },
   "outputs": [],
   "source": [
    "#entrada\n",
    "numeroEnBase2 = 101\n",
    "#resultado \n",
    "numeroEnBase10 = 0\n",
    "#contador de posicion\n",
    "posicionActual = 0\n",
    "#base de el numero de entrada\n",
    "base = 2\n",
    "#Extraemos el digito menos significativo\n",
    "digitoActual = numeroEnBase2 % 10 #en el ej. se extrae el 1\n",
    "#se acumula el resultado en base 10\n",
    "numeroEnBase10 += digitoActual * base ** posicionActual   \n",
    "#Se descarta el digito menos significativo...\n",
    "\n",
    "\n"
   ]
  }
 ],
 "metadata": {
  "colab": {
   "name": "OperadoresPython.ipynb",
   "provenance": [],
   "version": "0.3.2"
  },
  "kernelspec": {
   "display_name": "Python 3 (ipykernel)",
   "language": "python",
   "name": "python3"
  },
  "language_info": {
   "codemirror_mode": {
    "name": "ipython",
    "version": 3
   },
   "file_extension": ".py",
   "mimetype": "text/x-python",
   "name": "python",
   "nbconvert_exporter": "python",
   "pygments_lexer": "ipython3",
   "version": "3.9.7"
  }
 },
 "nbformat": 4,
 "nbformat_minor": 1
}
