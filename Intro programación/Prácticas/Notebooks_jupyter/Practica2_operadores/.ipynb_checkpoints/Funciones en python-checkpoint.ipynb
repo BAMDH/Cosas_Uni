{
 "cells": [
  {
   "cell_type": "markdown",
   "id": "fe1cfc7c",
   "metadata": {},
   "source": [
    "## Introduccion a funciones"
   ]
  },
  {
   "cell_type": "code",
   "execution_count": 3,
   "id": "585ea1df",
   "metadata": {},
   "outputs": [
    {
     "name": "stdout",
     "output_type": "stream",
     "text": [
      "156\n",
      "resultado  48\n"
     ]
    },
    {
     "ename": "NameError",
     "evalue": "name 'suma' is not defined",
     "output_type": "error",
     "traceback": [
      "\u001b[1;31m---------------------------------------------------------------------------\u001b[0m",
      "\u001b[1;31mNameError\u001b[0m                                 Traceback (most recent call last)",
      "\u001b[1;32m~\\AppData\\Local\\Temp/ipykernel_23432/1433039552.py\u001b[0m in \u001b[0;36m<module>\u001b[1;34m\u001b[0m\n\u001b[0;32m     17\u001b[0m \u001b[1;33m\u001b[0m\u001b[0m\n\u001b[0;32m     18\u001b[0m \u001b[0mprint\u001b[0m\u001b[1;33m(\u001b[0m\u001b[1;34m\"resultado \"\u001b[0m\u001b[1;33m,\u001b[0m \u001b[0mfuncion_1\u001b[0m\u001b[1;33m(\u001b[0m\u001b[1;36m5\u001b[0m\u001b[1;33m,\u001b[0m \u001b[1;36m30\u001b[0m\u001b[1;33m)\u001b[0m \u001b[1;33m+\u001b[0m \u001b[0ma\u001b[0m\u001b[1;33m)\u001b[0m\u001b[1;33m\u001b[0m\u001b[1;33m\u001b[0m\u001b[0m\n\u001b[1;32m---> 19\u001b[1;33m \u001b[0mprint\u001b[0m\u001b[1;33m(\u001b[0m\u001b[1;34m\"suma \"\u001b[0m\u001b[1;33m,\u001b[0m \u001b[0msuma\u001b[0m\u001b[1;33m)\u001b[0m\u001b[1;33m\u001b[0m\u001b[1;33m\u001b[0m\u001b[0m\n\u001b[0m",
      "\u001b[1;31mNameError\u001b[0m: name 'suma' is not defined"
     ]
    }
   ],
   "source": [
    "a = 13\n",
    "b = 156\n",
    "#la definicion de la funcion, junto con el encabezado, con dos parametros\n",
    "def funcion_1(parametro_1, parametro_2):\n",
    "    \n",
    "    \"\"\"\n",
    "    Descripcion general de lo que hace la funcion\n",
    "    parametro_1: primer operando de la suma a ejecutar\n",
    "    parametro_2: segundo operando de la suma a ejecutar\n",
    "    return: retorna el resultado de la suma de los parametros\n",
    "    \"\"\"\n",
    "    print(b)\n",
    "    suma = parametro_1 + parametro_2\n",
    "    exponenciacion = parametro_1 ** parametro_2\n",
    "    return suma\n",
    "\n",
    "\n",
    "print(\"resultado \", funcion_1(5, 30) + a)\n",
    "print(\"suma \", suma)\n"
   ]
  },
  {
   "cell_type": "markdown",
   "id": "1d9d05d1",
   "metadata": {},
   "source": [
    "## Estructuras de control"
   ]
  },
  {
   "cell_type": "markdown",
   "id": "413b4078",
   "metadata": {},
   "source": [
    "### If (condicional)"
   ]
  },
  {
   "cell_type": "code",
   "execution_count": 11,
   "id": "2ec3d5bd",
   "metadata": {},
   "outputs": [
    {
     "name": "stdout",
     "output_type": "stream",
     "text": [
      "No es entero ni flotante el valor recibido\n",
      "None\n"
     ]
    }
   ],
   "source": [
    "def funcion_1(parametro_1):\n",
    "    es_flotante = isinstance(parametro_1, float)\n",
    "    if(es_flotante):\n",
    "        print(\"es flotante el parametro recibido\")\n",
    "    elif(isinstance(parametro_1, int)):\n",
    "        print(\"Es entero\")\n",
    "    else:\n",
    "        print(\"No es entero ni flotante el valor recibido\")\n",
    "    \n",
    "a = \"solo\"\n",
    "resultado = funcion_1(a)\n",
    "print(resultado)"
   ]
  },
  {
   "cell_type": "markdown",
   "id": "e5bb661d",
   "metadata": {},
   "source": [
    "## Introduccion a la recursividad"
   ]
  },
  {
   "cell_type": "code",
   "execution_count": 12,
   "id": "67b4977d",
   "metadata": {},
   "outputs": [
    {
     "name": "stdout",
     "output_type": "stream",
     "text": [
      "Valor del contador:  5\n",
      "Valor del contador:  4\n",
      "Valor del contador:  3\n",
      "Valor del contador:  2\n",
      "Valor del contador:  1\n",
      "Valor del contador:  0\n",
      "Se detiene el llamado recursivo\n"
     ]
    }
   ],
   "source": [
    "def imprimir_recursivo(contador):\n",
    "    \"\"\"\n",
    "    Ejemplo de funcion recursiva\n",
    "    \"\"\"\n",
    "    print(\"Valor del contador: \", contador)\n",
    "    if(contador > 0):\n",
    "        contador_nuevo = contador - 1\n",
    "        imprimir_recursivo(contador_nuevo)\n",
    "    else:\n",
    "        print(\"Se detiene el llamado recursivo\")\n",
    "\n",
    "c = 5\n",
    "imprimir_recursivo(c)"
   ]
  },
  {
   "cell_type": "code",
   "execution_count": null,
   "id": "16ddeb74",
   "metadata": {},
   "outputs": [],
   "source": []
  }
 ],
 "metadata": {
  "kernelspec": {
   "display_name": "Python 3 (ipykernel)",
   "language": "python",
   "name": "python3"
  },
  "language_info": {
   "codemirror_mode": {
    "name": "ipython",
    "version": 3
   },
   "file_extension": ".py",
   "mimetype": "text/x-python",
   "name": "python",
   "nbconvert_exporter": "python",
   "pygments_lexer": "ipython3",
   "version": "3.9.7"
  }
 },
 "nbformat": 4,
 "nbformat_minor": 5
}
