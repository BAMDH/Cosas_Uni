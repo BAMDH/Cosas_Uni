{
  "nbformat": 4,
  "nbformat_minor": 0,
  "metadata": {
    "colab": {
      "name": "OperadoresPython.ipynb",
      "version": "0.3.2",
      "provenance": []
    },
    "kernelspec": {
      "name": "python3",
      "display_name": "Python 3"
    }
  },
  "cells": [
    {
      "cell_type": "markdown",
      "metadata": {
        "id": "HBoG-09FwSYT",
        "colab_type": "text"
      },
      "source": [
        "#Operadores y funciones básicas en Python\n",
        "Los operadores y funciones nativas en Python permiten transformar los datos, con distintos fines, para construir una **expresión** la cual combina literales, variables y operadores, respetando las reglas de sintaxis de Python.\n",
        "\n",
        "##Operadores numéricos\n",
        "Funcionan con cualquier tipo de datos numérico (real, complejo o entero).\n",
        "\n",
        "**Suma y resta**: Orden de precedencia 1."
      ]
    },
    {
      "cell_type": "code",
      "metadata": {
        "id": "RkZoERmMwTKb",
        "colab_type": "code",
        "colab": {
          "base_uri": "https://localhost:8080/",
          "height": 51
        },
        "outputId": "21939325-2a41-4d4b-e3f7-c26a62472161"
      },
      "source": [
        "a = 5\n",
        "b = 3.3\n",
        "#cual es el tipo de datos resultante de la suma?\n",
        "suma = a + b\n",
        "print(\"Resultado de la suma \", suma)\n",
        "# para un incremento unitario de una variable se pueden usar las siguientes variantes\n",
        "a = a + 1\n",
        "# o\n",
        "a += 1\n",
        "print(\"Dos incrementos de a \", a )\n",
        "\n"
      ],
      "execution_count": 1,
      "outputs": [
        {
          "output_type": "stream",
          "text": [
            "Resultado de la suma  8.3\n",
            "Dos incrementos de a  7\n"
          ],
          "name": "stdout"
        }
      ]
    },
    {
      "cell_type": "markdown",
      "metadata": {
        "id": "sR7Bf6LE79CV",
        "colab_type": "text"
      },
      "source": [
        "**Operadores aritméticos unarios**: Los operadores unarios se definen con un sólo operando. "
      ]
    },
    {
      "cell_type": "code",
      "metadata": {
        "id": "ZYf5Oz1P8XbR",
        "colab_type": "code",
        "colab": {
          "base_uri": "https://localhost:8080/",
          "height": 34
        },
        "outputId": "9e57b0de-e299-421c-d92e-678b96100f15"
      },
      "source": [
        "a = -3\n",
        "b = -a\n",
        "print(\"b =\", b)"
      ],
      "execution_count": 14,
      "outputs": [
        {
          "output_type": "stream",
          "text": [
            "b = 3\n"
          ],
          "name": "stdout"
        }
      ]
    },
    {
      "cell_type": "markdown",
      "metadata": {
        "id": "sYOfb61lxuTw",
        "colab_type": "text"
      },
      "source": [
        "**División y multiplicación**\n",
        "La división y la multiplicación tienen orden de precedencia 2."
      ]
    },
    {
      "cell_type": "code",
      "metadata": {
        "id": "uUXtaxInx2_P",
        "colab_type": "code",
        "colab": {
          "base_uri": "https://localhost:8080/",
          "height": 51
        },
        "outputId": "6bb9dfab-1ebc-4763-b0c3-7a2d3a9a6a88"
      },
      "source": [
        "division = 5  + 4 / 2\n",
        "print(\"Resultado de la division: \", division)\n",
        "#cual es el tipo de datos resultante?\n",
        "\n",
        "divisionYMultiplicacion = 5  + 4 + 8 / 2  * 3\n",
        "print(\"Resultado de division y multiplicacion \", divisionYMultiplicacion)\n"
      ],
      "execution_count": 4,
      "outputs": [
        {
          "output_type": "stream",
          "text": [
            "Resultado de la division:  7.0\n",
            "Resultado de division y multiplicacion  21.0\n"
          ],
          "name": "stdout"
        }
      ]
    },
    {
      "cell_type": "markdown",
      "metadata": {
        "id": "5gaTNiKIyk7W",
        "colab_type": "text"
      },
      "source": [
        "**División entera, residuo y potencia**: Orden de precedencia 2. La división entera trunca el resultado, descartando la parte no entera, con resultado entero. \n"
      ]
    },
    {
      "cell_type": "code",
      "metadata": {
        "id": "anQlRHmUy5ZV",
        "colab_type": "code",
        "colab": {
          "base_uri": "https://localhost:8080/",
          "height": 103
        },
        "outputId": "4bd06901-cf91-4fc0-b55b-33d1bc7ec5ea"
      },
      "source": [
        "divisionEntera = 5 // 2\n",
        "#cual es el tipo de datos resultante?\n",
        "print(\"Resultado division entera \", divisionEntera)\n",
        "#forma alternativa\n",
        "divisionEnteraAlterna = int(5 / 2)\n",
        "print(\"Resultado division entera alterna \", divisionEntera2)\n",
        "#Residuo\n",
        "residuo = 13 % 5\n",
        "print(\"Resultado del residuo: \", residuo)\n",
        "residuoNuevo = 13.3 % 5\n",
        "print(\"Resultado del residuo nuevo: \", residuoNuevo)\n",
        "#Potencia\n",
        "potencia = 3 ** 5.0\n",
        "print(\"Resultado potencia: \", potencia)"
      ],
      "execution_count": 12,
      "outputs": [
        {
          "output_type": "stream",
          "text": [
            "Resultado division entera  2\n",
            "Resultado division entera alterna  2\n",
            "Resultado del residuo:  3\n",
            "Resultado del residuo nuevo:  3.3000000000000007\n",
            "Resultado potencia:  243.0\n"
          ],
          "name": "stdout"
        }
      ]
    },
    {
      "cell_type": "markdown",
      "metadata": {
        "id": "_4FmhWb88vDY",
        "colab_type": "text"
      },
      "source": [
        "##Funciones  y métodos aritméticos básicos\n",
        "Existen funciones matemática nativas en Python, las cuales se pueden utilizar sin importar librerías"
      ]
    },
    {
      "cell_type": "code",
      "metadata": {
        "id": "UAlNrIvy85e4",
        "colab_type": "code",
        "colab": {
          "base_uri": "https://localhost:8080/",
          "height": 51
        },
        "outputId": "73138d49-6371-495d-8c8d-4141586abfcf"
      },
      "source": [
        "#Calculo del valor absoluto\n",
        "resultadoAbsoluto = abs(-26.3)\n",
        "print(\"Resultado absoluto: \", resultadoAbsoluto)\n",
        "#redondeo hacia la decena mas cercana\n",
        "#El segundo parametro indica la cantidad de decimales a respetar en el redondeo\n",
        "redondeo = round(2.76, 1)\n",
        "print(\"Redondeo \", redondeo)\n",
        "\n"
      ],
      "execution_count": 23,
      "outputs": [
        {
          "output_type": "stream",
          "text": [
            "Resultado absoluto:  26.3\n",
            "Redondeo  2.8\n"
          ],
          "name": "stdout"
        }
      ]
    },
    {
      "cell_type": "markdown",
      "metadata": {
        "id": "7B7uJJi8HYLh",
        "colab_type": "text"
      },
      "source": [
        "**Propiedades de objetos** Las propiedades o atributos de los objetos, se acceden con el nombre de la variable del objeto como prefijo, para luego definir el nombre de la propiedad."
      ]
    },
    {
      "cell_type": "code",
      "metadata": {
        "id": "QhDbyqF-K0E6",
        "colab_type": "code",
        "colab": {
          "base_uri": "https://localhost:8080/",
          "height": 51
        },
        "outputId": "31542707-cdde-46b9-c9cb-2c1669b3dd0a"
      },
      "source": [
        "\n",
        "x = 5\n",
        "y = 3\n",
        "  \n",
        "# creacion del numero complejo\n",
        "z = complex(x,y); \n",
        "  \n",
        "# Mostramos la parte real \n",
        "print (\"La parte real del numero complejo es : \",end=\"\") \n",
        "print (z.real) \n",
        "  \n",
        "print (\"La parte imaginaria del numero complejo es : \",end=\"\") \n",
        "print (z.imag) "
      ],
      "execution_count": 43,
      "outputs": [
        {
          "output_type": "stream",
          "text": [
            "La parte real del numero complejo es : 5.0\n",
            "La parte imaginaria del numero complejo es : 3.0\n"
          ],
          "name": "stdout"
        }
      ]
    },
    {
      "cell_type": "markdown",
      "metadata": {
        "id": "AVAo8Xdb_2kx",
        "colab_type": "text"
      },
      "source": [
        "Métodos disponibles en objetos importados, como por ejemplo la librería *math*.\n",
        "Existen **cuatro formas de importar librerías**: \n",
        "\n",
        "1.   Importado directo de la libreria: import math\n",
        "2.   Importado con alias: import math as m\n",
        "3.   Importado especifico de una función: from math import sqrt\n",
        "4.   Importado completo: (Puede ocasionar conflictos en los nombres de las funciones importadas): from math import *\n",
        "\n"
      ]
    },
    {
      "cell_type": "code",
      "metadata": {
        "id": "jSq4fTue__Lp",
        "colab_type": "code",
        "colab": {
          "base_uri": "https://localhost:8080/",
          "height": 68
        },
        "outputId": "d354ed73-7335-4933-db68-872672ffe6d7"
      },
      "source": [
        "\n",
        "import math\n",
        "#Calculo de la raiz cuadrada\n",
        "raizCuadrada = math.sqrt(16)\n",
        "print(\"Calculo de la raiz cuadrada \", raizCuadrada)\n",
        "#cual es el tipo de datos resultante?\n",
        "#exponente base e (2.7182)\n",
        "potenciaBaseE = math.exp(1)\n",
        "print(\"Potencia base e: \", potenciaBaseE)\n",
        "#truncado al entero resultante de descartar la parte no entera\n",
        "truncado = math.trunc(2.365)\n",
        "print(\"Numero truncado \", truncado)\n"
      ],
      "execution_count": 29,
      "outputs": [
        {
          "output_type": "stream",
          "text": [
            "Calculo de la raiz cuadrada  4.0\n",
            "Potencia base e:  2.718281828459045\n",
            "Numero truncado  2\n"
          ],
          "name": "stdout"
        }
      ]
    },
    {
      "cell_type": "markdown",
      "metadata": {
        "id": "BIL1CWS0IhPU",
        "colab_type": "text"
      },
      "source": [
        "**Funciones de entrada y salida de texto**\n",
        "Las funciones *input* y *print* permiten tomar datos y mostrarlos al usuario, respectivamente. \n"
      ]
    },
    {
      "cell_type": "code",
      "metadata": {
        "id": "DfuEKc_fItRv",
        "colab_type": "code",
        "colab": {
          "base_uri": "https://localhost:8080/",
          "height": 68
        },
        "outputId": "9e662d5f-44b1-4516-ee2f-0eb47bd83885"
      },
      "source": [
        "a = input()\n",
        "print(\"El usuario digitó: \", a )\n",
        "#cual es el tipo de datos?\n",
        "aEntero = int(a)\n",
        "print(aEntero + 3)"
      ],
      "execution_count": 42,
      "outputs": [
        {
          "output_type": "stream",
          "text": [
            "8\n",
            "El usuario digitó:  8\n",
            "11\n"
          ],
          "name": "stdout"
        }
      ]
    },
    {
      "cell_type": "markdown",
      "metadata": {
        "id": "ICi4BppLELsb",
        "colab_type": "text"
      },
      "source": [
        "##Operadores relaciones y lógicos\n",
        "Los operadores relaciones y lógicos resultan en valores booleanos *True* o *False*. \n",
        "\n",
        "**Operadores relacionales** como >, <, >=, <=, !=, ==, son operadores binarios."
      ]
    },
    {
      "cell_type": "code",
      "metadata": {
        "id": "KqmGgLasEgYg",
        "colab_type": "code",
        "colab": {
          "base_uri": "https://localhost:8080/",
          "height": 51
        },
        "outputId": "8aac2699-60b2-4bb5-9219-72edabf5dca1"
      },
      "source": [
        "#Mayor estricto\n",
        "comparacion1 = 55.3 > 98\n",
        "a = 13.3 % 5\n",
        "\n",
        "#Mayor o igual\n",
        "comparacion2 = 3.3 >= a\n",
        "#es importante recordar que las comparaciones de numeros no enteros puede no ser correcta\n",
        "print(\"Resultado de comparacion2 \", comparacion2)\n",
        "\n",
        "#diferente\n",
        "esDiferente = a != 3.3\n",
        "print(\"Es diferente: \", esDiferente)\n",
        "\n"
      ],
      "execution_count": 39,
      "outputs": [
        {
          "output_type": "stream",
          "text": [
            "Resultado de comparacion2  False\n",
            "Es diferente:  True\n"
          ],
          "name": "stdout"
        }
      ]
    },
    {
      "cell_type": "markdown",
      "metadata": {
        "id": "QtHxDpPDJyMR",
        "colab_type": "text"
      },
      "source": [
        "**Operadores lógicos**\n",
        "Los operadores lógicos binarios disponibles en Python son el *and* y el *or*.\n",
        "\n",
        "El operador unario *not* calcula la negación de su único operando.\n",
        "El operador *and* tiene un orden de precedencia mayor al or, por lo que se recomenda usar siempre paréntesis.\n",
        "\n"
      ]
    },
    {
      "cell_type": "code",
      "metadata": {
        "id": "q9ptsdQbKFyE",
        "colab_type": "code",
        "colab": {
          "base_uri": "https://localhost:8080/",
          "height": 52
        },
        "outputId": "0f67aa83-f391-4f5a-af27-88020b796979"
      },
      "source": [
        "#Tabla de verdad para el or\n",
        "#inicializamos la lista\n",
        "tablaVerdadOr = [0, 0, 0, 0]\n",
        "tablaVerdadOr[0] = False or False\n",
        "tablaVerdadOr[1] = False or True\n",
        "tablaVerdadOr[2] = True or False\n",
        "tablaVerdadOr[3] = True or True\n",
        "print(\"Tabla de verdad para el OR: \", tablaVerdadOr)\n",
        "#Tabla de verdad del and\n",
        "tablaVerdadAnd = [0, 0, 0, 0]\n",
        "tablaVerdadAnd[0] = False and False\n",
        "tablaVerdadAnd[1] = False and True\n",
        "tablaVerdadAnd[2] = True and False\n",
        "tablaVerdadAnd[3] = True and True\n",
        "print(\"Tabla de verdad para el AND: \", tablaVerdadAnd)\n",
        "\n"
      ],
      "execution_count": 49,
      "outputs": [
        {
          "output_type": "stream",
          "text": [
            "Tabla de verdad para el OR:  [False, True, True, True]\n",
            "Tabla de verdad para el AND:  [False, False, False, True]\n"
          ],
          "name": "stdout"
        }
      ]
    },
    {
      "cell_type": "markdown",
      "metadata": {
        "id": "Xgjpc6WLQFUb",
        "colab_type": "text"
      },
      "source": [
        "#Ejercicios\n",
        "\n",
        "\n",
        "* Sin usar hileras o listas, implemente un programa que cree una variable booleana con el valor True, si el número de tres digitos insertado por el usuario contiene al menos un 0. \n",
        "\n",
        "* Sin usar hileras o listas, implemente un programa que cree una variable entera, con el número de veces que aparece el digito 1 en un número de tres digitos insertado por el usuario.\n",
        "\n",
        "*   Sin usar hileras o listas, implemente un programa que pase un número de 3 dígitos de base 2 a base 10. El tipo de datos de la variable con el resultado debe ser entero.\n",
        "\n",
        "*   Sin usar hileras o listas, implemente un programa que pase un número de 3 dígitos de base 10 a base 2. El tipo de datos de la variable con el resultado debe ser entero.\n",
        "\n",
        "*   Sin usar hileras o listas, implemente un programa que pase un número de 3 dígitos de base 10 a base 8. El tipo de datos de la variable con el resultado debe ser entero.\n",
        "*   Sin usar hileras o listas, implemente un programa que pase un número de 3 dígitos de base 8 a base 10. El tipo de datos de la variable con el resultado debe ser entero.\n",
        "\n",
        "*   Practique en realizar mentalmente las siguientes expresiones lógicas: http://www.mclibre.org/consultar/python/ejercicios/ej-booleanos.html\n",
        "\n",
        "*  Escriba un programa que cree una hilera con el contenido \"Es verano\", si la variable temperatura está en el intervalo de los 25 a 35 grados, y cree una hilera con el contenido \"Es invierno\", si la variable temperatura está entre los 15 y 25 grados. Si la variable temperatura está fuera de esos dos rangos, la hilera debe contener el texto \"Indeterminado\".\n",
        "\n",
        "\n",
        "\n"
      ]
    }
  ]
}